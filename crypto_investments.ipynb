{
 "cells": [
  {
   "cell_type": "markdown",
   "metadata": {},
   "source": [
    "# Module 10 Application\n",
    "\n",
    "## Challenge: Crypto Clustering\n",
    "\n",
    "In this Challenge, you’ll combine your financial Python programming skills with the new unsupervised learning skills that you acquired in this module.\n",
    "\n",
    "The CSV file provided for this challenge contains price change data of cryptocurrencies in different periods.\n",
    "\n",
    "The steps for this challenge are broken out into the following sections:\n",
    "\n",
    "* Import the Data (provided in the starter code)\n",
    "* Prepare the Data (provided in the starter code)\n",
    "* Find the Best Value for `k` Using the Original Data\n",
    "* Cluster Cryptocurrencies with K-means Using the Original Data\n",
    "* Optimize Clusters with Principal Component Analysis\n",
    "* Find the Best Value for `k` Using the PCA Data\n",
    "* Cluster the Cryptocurrencies with K-means Using the PCA Data\n",
    "* Visualize and Compare the Results"
   ]
  },
  {
   "cell_type": "markdown",
   "metadata": {},
   "source": [
    "### Import the Data\n",
    "\n",
    "This section imports the data into a new DataFrame. It follows these steps:\n",
    "\n",
    "1. Read  the “crypto_market_data.csv” file from the Resources folder into a DataFrame, and use `index_col=\"coin_id\"` to set the cryptocurrency name as the index. Review the DataFrame.\n",
    "\n",
    "2. Generate the summary statistics, and use HvPlot to visualize your data to observe what your DataFrame contains.\n",
    "\n",
    "\n",
    "> **Rewind:** The [Pandas`describe()`function](https://pandas.pydata.org/pandas-docs/stable/reference/api/pandas.DataFrame.describe.html) generates summary statistics for a DataFrame. "
   ]
  },
  {
   "cell_type": "code",
   "execution_count": 84,
   "metadata": {},
   "outputs": [],
   "source": [
    "# Import required libraries and dependencies\n",
    "import pandas as pd\n",
    "import hvplot.pandas\n",
    "from pathlib import Path\n",
    "from sklearn.cluster import KMeans\n",
    "from sklearn.decomposition import PCA\n",
    "from sklearn.preprocessing import StandardScaler\n",
    "\n",
    "import warnings\n",
    "warnings.filterwarnings('ignore')\n",
    "import matplotlib.pyplot as plt"
   ]
  },
  {
   "cell_type": "code",
   "execution_count": 3,
   "metadata": {},
   "outputs": [
    {
     "data": {
      "text/html": [
       "<div>\n",
       "<style scoped>\n",
       "    .dataframe tbody tr th:only-of-type {\n",
       "        vertical-align: middle;\n",
       "    }\n",
       "\n",
       "    .dataframe tbody tr th {\n",
       "        vertical-align: top;\n",
       "    }\n",
       "\n",
       "    .dataframe thead th {\n",
       "        text-align: right;\n",
       "    }\n",
       "</style>\n",
       "<table border=\"1\" class=\"dataframe\">\n",
       "  <thead>\n",
       "    <tr style=\"text-align: right;\">\n",
       "      <th></th>\n",
       "      <th>price_change_percentage_24h</th>\n",
       "      <th>price_change_percentage_7d</th>\n",
       "      <th>price_change_percentage_14d</th>\n",
       "      <th>price_change_percentage_30d</th>\n",
       "      <th>price_change_percentage_60d</th>\n",
       "      <th>price_change_percentage_200d</th>\n",
       "      <th>price_change_percentage_1y</th>\n",
       "    </tr>\n",
       "    <tr>\n",
       "      <th>coin_id</th>\n",
       "      <th></th>\n",
       "      <th></th>\n",
       "      <th></th>\n",
       "      <th></th>\n",
       "      <th></th>\n",
       "      <th></th>\n",
       "      <th></th>\n",
       "    </tr>\n",
       "  </thead>\n",
       "  <tbody>\n",
       "    <tr>\n",
       "      <th>bitcoin</th>\n",
       "      <td>1.08388</td>\n",
       "      <td>7.60278</td>\n",
       "      <td>6.57509</td>\n",
       "      <td>7.67258</td>\n",
       "      <td>-3.25185</td>\n",
       "      <td>83.51840</td>\n",
       "      <td>37.51761</td>\n",
       "    </tr>\n",
       "    <tr>\n",
       "      <th>ethereum</th>\n",
       "      <td>0.22392</td>\n",
       "      <td>10.38134</td>\n",
       "      <td>4.80849</td>\n",
       "      <td>0.13169</td>\n",
       "      <td>-12.88890</td>\n",
       "      <td>186.77418</td>\n",
       "      <td>101.96023</td>\n",
       "    </tr>\n",
       "    <tr>\n",
       "      <th>tether</th>\n",
       "      <td>-0.21173</td>\n",
       "      <td>0.04935</td>\n",
       "      <td>0.00640</td>\n",
       "      <td>-0.04237</td>\n",
       "      <td>0.28037</td>\n",
       "      <td>-0.00542</td>\n",
       "      <td>0.01954</td>\n",
       "    </tr>\n",
       "    <tr>\n",
       "      <th>ripple</th>\n",
       "      <td>-0.37819</td>\n",
       "      <td>-0.60926</td>\n",
       "      <td>2.24984</td>\n",
       "      <td>0.23455</td>\n",
       "      <td>-17.55245</td>\n",
       "      <td>39.53888</td>\n",
       "      <td>-16.60193</td>\n",
       "    </tr>\n",
       "    <tr>\n",
       "      <th>bitcoin-cash</th>\n",
       "      <td>2.90585</td>\n",
       "      <td>17.09717</td>\n",
       "      <td>14.75334</td>\n",
       "      <td>15.74903</td>\n",
       "      <td>-13.71793</td>\n",
       "      <td>21.66042</td>\n",
       "      <td>14.49384</td>\n",
       "    </tr>\n",
       "    <tr>\n",
       "      <th>binancecoin</th>\n",
       "      <td>2.10423</td>\n",
       "      <td>12.85511</td>\n",
       "      <td>6.80688</td>\n",
       "      <td>0.05865</td>\n",
       "      <td>36.33486</td>\n",
       "      <td>155.61937</td>\n",
       "      <td>69.69195</td>\n",
       "    </tr>\n",
       "    <tr>\n",
       "      <th>chainlink</th>\n",
       "      <td>-0.23935</td>\n",
       "      <td>20.69459</td>\n",
       "      <td>9.30098</td>\n",
       "      <td>-11.21747</td>\n",
       "      <td>-43.69522</td>\n",
       "      <td>403.22917</td>\n",
       "      <td>325.13186</td>\n",
       "    </tr>\n",
       "    <tr>\n",
       "      <th>cardano</th>\n",
       "      <td>0.00322</td>\n",
       "      <td>13.99302</td>\n",
       "      <td>5.55476</td>\n",
       "      <td>10.10553</td>\n",
       "      <td>-22.84776</td>\n",
       "      <td>264.51418</td>\n",
       "      <td>156.09756</td>\n",
       "    </tr>\n",
       "    <tr>\n",
       "      <th>litecoin</th>\n",
       "      <td>-0.06341</td>\n",
       "      <td>6.60221</td>\n",
       "      <td>7.28931</td>\n",
       "      <td>1.21662</td>\n",
       "      <td>-17.23960</td>\n",
       "      <td>27.49919</td>\n",
       "      <td>-12.66408</td>\n",
       "    </tr>\n",
       "    <tr>\n",
       "      <th>bitcoin-cash-sv</th>\n",
       "      <td>0.92530</td>\n",
       "      <td>3.29641</td>\n",
       "      <td>-1.86656</td>\n",
       "      <td>2.88926</td>\n",
       "      <td>-24.87434</td>\n",
       "      <td>7.42562</td>\n",
       "      <td>93.73082</td>\n",
       "    </tr>\n",
       "  </tbody>\n",
       "</table>\n",
       "</div>"
      ],
      "text/plain": [
       "                 price_change_percentage_24h  price_change_percentage_7d  \\\n",
       "coin_id                                                                    \n",
       "bitcoin                              1.08388                     7.60278   \n",
       "ethereum                             0.22392                    10.38134   \n",
       "tether                              -0.21173                     0.04935   \n",
       "ripple                              -0.37819                    -0.60926   \n",
       "bitcoin-cash                         2.90585                    17.09717   \n",
       "binancecoin                          2.10423                    12.85511   \n",
       "chainlink                           -0.23935                    20.69459   \n",
       "cardano                              0.00322                    13.99302   \n",
       "litecoin                            -0.06341                     6.60221   \n",
       "bitcoin-cash-sv                      0.92530                     3.29641   \n",
       "\n",
       "                 price_change_percentage_14d  price_change_percentage_30d  \\\n",
       "coin_id                                                                     \n",
       "bitcoin                              6.57509                      7.67258   \n",
       "ethereum                             4.80849                      0.13169   \n",
       "tether                               0.00640                     -0.04237   \n",
       "ripple                               2.24984                      0.23455   \n",
       "bitcoin-cash                        14.75334                     15.74903   \n",
       "binancecoin                          6.80688                      0.05865   \n",
       "chainlink                            9.30098                    -11.21747   \n",
       "cardano                              5.55476                     10.10553   \n",
       "litecoin                             7.28931                      1.21662   \n",
       "bitcoin-cash-sv                     -1.86656                      2.88926   \n",
       "\n",
       "                 price_change_percentage_60d  price_change_percentage_200d  \\\n",
       "coin_id                                                                      \n",
       "bitcoin                             -3.25185                      83.51840   \n",
       "ethereum                           -12.88890                     186.77418   \n",
       "tether                               0.28037                      -0.00542   \n",
       "ripple                             -17.55245                      39.53888   \n",
       "bitcoin-cash                       -13.71793                      21.66042   \n",
       "binancecoin                         36.33486                     155.61937   \n",
       "chainlink                          -43.69522                     403.22917   \n",
       "cardano                            -22.84776                     264.51418   \n",
       "litecoin                           -17.23960                      27.49919   \n",
       "bitcoin-cash-sv                    -24.87434                       7.42562   \n",
       "\n",
       "                 price_change_percentage_1y  \n",
       "coin_id                                      \n",
       "bitcoin                            37.51761  \n",
       "ethereum                          101.96023  \n",
       "tether                              0.01954  \n",
       "ripple                            -16.60193  \n",
       "bitcoin-cash                       14.49384  \n",
       "binancecoin                        69.69195  \n",
       "chainlink                         325.13186  \n",
       "cardano                           156.09756  \n",
       "litecoin                          -12.66408  \n",
       "bitcoin-cash-sv                    93.73082  "
      ]
     },
     "execution_count": 3,
     "metadata": {},
     "output_type": "execute_result"
    }
   ],
   "source": [
    "# Load the data into a Pandas DataFrame\n",
    "df_market_data = pd.read_csv(\n",
    "    Path(\"crypto_market_data.csv\"),\n",
    "    index_col=\"coin_id\")\n",
    "\n",
    "# Display sample data\n",
    "df_market_data.head(10)"
   ]
  },
  {
   "cell_type": "code",
   "execution_count": 4,
   "metadata": {},
   "outputs": [
    {
     "data": {
      "text/html": [
       "<div>\n",
       "<style scoped>\n",
       "    .dataframe tbody tr th:only-of-type {\n",
       "        vertical-align: middle;\n",
       "    }\n",
       "\n",
       "    .dataframe tbody tr th {\n",
       "        vertical-align: top;\n",
       "    }\n",
       "\n",
       "    .dataframe thead th {\n",
       "        text-align: right;\n",
       "    }\n",
       "</style>\n",
       "<table border=\"1\" class=\"dataframe\">\n",
       "  <thead>\n",
       "    <tr style=\"text-align: right;\">\n",
       "      <th></th>\n",
       "      <th>price_change_percentage_24h</th>\n",
       "      <th>price_change_percentage_7d</th>\n",
       "      <th>price_change_percentage_14d</th>\n",
       "      <th>price_change_percentage_30d</th>\n",
       "      <th>price_change_percentage_60d</th>\n",
       "      <th>price_change_percentage_200d</th>\n",
       "      <th>price_change_percentage_1y</th>\n",
       "    </tr>\n",
       "  </thead>\n",
       "  <tbody>\n",
       "    <tr>\n",
       "      <th>count</th>\n",
       "      <td>41.000000</td>\n",
       "      <td>41.000000</td>\n",
       "      <td>41.000000</td>\n",
       "      <td>41.000000</td>\n",
       "      <td>41.000000</td>\n",
       "      <td>41.000000</td>\n",
       "      <td>41.000000</td>\n",
       "    </tr>\n",
       "    <tr>\n",
       "      <th>mean</th>\n",
       "      <td>-0.269686</td>\n",
       "      <td>4.497147</td>\n",
       "      <td>0.185787</td>\n",
       "      <td>1.545693</td>\n",
       "      <td>-0.094119</td>\n",
       "      <td>236.537432</td>\n",
       "      <td>347.667956</td>\n",
       "    </tr>\n",
       "    <tr>\n",
       "      <th>std</th>\n",
       "      <td>2.694793</td>\n",
       "      <td>6.375218</td>\n",
       "      <td>8.376939</td>\n",
       "      <td>26.344218</td>\n",
       "      <td>47.365803</td>\n",
       "      <td>435.225304</td>\n",
       "      <td>1247.842884</td>\n",
       "    </tr>\n",
       "    <tr>\n",
       "      <th>min</th>\n",
       "      <td>-13.527860</td>\n",
       "      <td>-6.094560</td>\n",
       "      <td>-18.158900</td>\n",
       "      <td>-34.705480</td>\n",
       "      <td>-44.822480</td>\n",
       "      <td>-0.392100</td>\n",
       "      <td>-17.567530</td>\n",
       "    </tr>\n",
       "    <tr>\n",
       "      <th>25%</th>\n",
       "      <td>-0.608970</td>\n",
       "      <td>0.047260</td>\n",
       "      <td>-5.026620</td>\n",
       "      <td>-10.438470</td>\n",
       "      <td>-25.907990</td>\n",
       "      <td>21.660420</td>\n",
       "      <td>0.406170</td>\n",
       "    </tr>\n",
       "    <tr>\n",
       "      <th>50%</th>\n",
       "      <td>-0.063410</td>\n",
       "      <td>3.296410</td>\n",
       "      <td>0.109740</td>\n",
       "      <td>-0.042370</td>\n",
       "      <td>-7.544550</td>\n",
       "      <td>83.905200</td>\n",
       "      <td>69.691950</td>\n",
       "    </tr>\n",
       "    <tr>\n",
       "      <th>75%</th>\n",
       "      <td>0.612090</td>\n",
       "      <td>7.602780</td>\n",
       "      <td>5.510740</td>\n",
       "      <td>4.578130</td>\n",
       "      <td>0.657260</td>\n",
       "      <td>216.177610</td>\n",
       "      <td>168.372510</td>\n",
       "    </tr>\n",
       "    <tr>\n",
       "      <th>max</th>\n",
       "      <td>4.840330</td>\n",
       "      <td>20.694590</td>\n",
       "      <td>24.239190</td>\n",
       "      <td>140.795700</td>\n",
       "      <td>223.064370</td>\n",
       "      <td>2227.927820</td>\n",
       "      <td>7852.089700</td>\n",
       "    </tr>\n",
       "  </tbody>\n",
       "</table>\n",
       "</div>"
      ],
      "text/plain": [
       "       price_change_percentage_24h  price_change_percentage_7d  \\\n",
       "count                    41.000000                   41.000000   \n",
       "mean                     -0.269686                    4.497147   \n",
       "std                       2.694793                    6.375218   \n",
       "min                     -13.527860                   -6.094560   \n",
       "25%                      -0.608970                    0.047260   \n",
       "50%                      -0.063410                    3.296410   \n",
       "75%                       0.612090                    7.602780   \n",
       "max                       4.840330                   20.694590   \n",
       "\n",
       "       price_change_percentage_14d  price_change_percentage_30d  \\\n",
       "count                    41.000000                    41.000000   \n",
       "mean                      0.185787                     1.545693   \n",
       "std                       8.376939                    26.344218   \n",
       "min                     -18.158900                   -34.705480   \n",
       "25%                      -5.026620                   -10.438470   \n",
       "50%                       0.109740                    -0.042370   \n",
       "75%                       5.510740                     4.578130   \n",
       "max                      24.239190                   140.795700   \n",
       "\n",
       "       price_change_percentage_60d  price_change_percentage_200d  \\\n",
       "count                    41.000000                     41.000000   \n",
       "mean                     -0.094119                    236.537432   \n",
       "std                      47.365803                    435.225304   \n",
       "min                     -44.822480                     -0.392100   \n",
       "25%                     -25.907990                     21.660420   \n",
       "50%                      -7.544550                     83.905200   \n",
       "75%                       0.657260                    216.177610   \n",
       "max                     223.064370                   2227.927820   \n",
       "\n",
       "       price_change_percentage_1y  \n",
       "count                   41.000000  \n",
       "mean                   347.667956  \n",
       "std                   1247.842884  \n",
       "min                    -17.567530  \n",
       "25%                      0.406170  \n",
       "50%                     69.691950  \n",
       "75%                    168.372510  \n",
       "max                   7852.089700  "
      ]
     },
     "execution_count": 4,
     "metadata": {},
     "output_type": "execute_result"
    }
   ],
   "source": [
    "# Generate summary statistics\n",
    "df_market_data.describe()"
   ]
  },
  {
   "cell_type": "code",
   "execution_count": 5,
   "metadata": {},
   "outputs": [
    {
     "data": {},
     "metadata": {},
     "output_type": "display_data"
    },
    {
     "data": {
      "application/vnd.holoviews_exec.v0+json": "",
      "text/html": [
       "<div id='1002'>\n",
       "\n",
       "\n",
       "\n",
       "\n",
       "\n",
       "  <div class=\"bk-root\" id=\"45c5f9dc-0914-4423-b5fa-1650fb8d5bb4\" data-root-id=\"1002\"></div>\n",
       "</div>\n",
       "<script type=\"application/javascript\">(function(root) {\n",
       "  function embed_document(root) {\n",
       "    var docs_json = {\"2984af4f-d928-42fc-b510-a6fd1a62df74\":{\"defs\":[{\"extends\":null,\"module\":null,\"name\":\"ReactiveHTML1\",\"overrides\":[],\"properties\":[]},{\"extends\":null,\"module\":null,\"name\":\"FlexBox1\",\"overrides\":[],\"properties\":[{\"default\":\"flex-start\",\"kind\":null,\"name\":\"align_content\"},{\"default\":\"flex-start\",\"kind\":null,\"name\":\"align_items\"},{\"default\":\"row\",\"kind\":null,\"name\":\"flex_direction\"},{\"default\":\"wrap\",\"kind\":null,\"name\":\"flex_wrap\"},{\"default\":\"flex-start\",\"kind\":null,\"name\":\"justify_content\"}]},{\"extends\":null,\"module\":null,\"name\":\"GridStack1\",\"overrides\":[],\"properties\":[{\"default\":\"warn\",\"kind\":null,\"name\":\"mode\"},{\"default\":null,\"kind\":null,\"name\":\"ncols\"},{\"default\":null,\"kind\":null,\"name\":\"nrows\"},{\"default\":true,\"kind\":null,\"name\":\"allow_resize\"},{\"default\":true,\"kind\":null,\"name\":\"allow_drag\"},{\"default\":[],\"kind\":null,\"name\":\"state\"}]},{\"extends\":null,\"module\":null,\"name\":\"click1\",\"overrides\":[],\"properties\":[{\"default\":\"\",\"kind\":null,\"name\":\"terminal_output\"},{\"default\":\"\",\"kind\":null,\"name\":\"debug_name\"},{\"default\":0,\"kind\":null,\"name\":\"clears\"}]},{\"extends\":null,\"module\":null,\"name\":\"TemplateActions1\",\"overrides\":[],\"properties\":[{\"default\":0,\"kind\":null,\"name\":\"open_modal\"},{\"default\":0,\"kind\":null,\"name\":\"close_modal\"}]},{\"extends\":null,\"module\":null,\"name\":\"MaterialTemplateActions1\",\"overrides\":[],\"properties\":[{\"default\":0,\"kind\":null,\"name\":\"open_modal\"},{\"default\":0,\"kind\":null,\"name\":\"close_modal\"}]}],\"roots\":{\"references\":[{\"attributes\":{\"source\":{\"id\":\"1199\"}},\"id\":\"1206\",\"type\":\"CDSView\"},{\"attributes\":{},\"id\":\"1116\",\"type\":\"Selection\"},{\"attributes\":{\"line_color\":\"#9467bd\",\"line_width\":2,\"x\":{\"field\":\"coin_id\"},\"y\":{\"field\":\"value\"}},\"id\":\"1230\",\"type\":\"Line\"},{\"attributes\":{\"factors\":[\"bitcoin\",\"ethereum\",\"tether\",\"ripple\",\"bitcoin-cash\",\"binancecoin\",\"chainlink\",\"cardano\",\"litecoin\",\"bitcoin-cash-sv\",\"crypto-com-chain\",\"usd-coin\",\"eos\",\"monero\",\"tron\",\"tezos\",\"okb\",\"stellar\",\"cosmos\",\"cdai\",\"neo\",\"wrapped-bitcoin\",\"leo-token\",\"huobi-token\",\"nem\",\"binance-usd\",\"iota\",\"vechain\",\"zcash\",\"theta-token\",\"dash\",\"ethereum-classic\",\"ethlend\",\"maker\",\"havven\",\"omisego\",\"celsius-degree-token\",\"ontology\",\"ftx-token\",\"true-usd\",\"digibyte\"],\"tags\":[[[\"coin_id\",\"coin_id\",null]]]},\"id\":\"1004\",\"type\":\"FactorRange\"},{\"attributes\":{},\"id\":\"1046\",\"type\":\"BasicTickFormatter\"},{\"attributes\":{\"source\":{\"id\":\"1069\"}},\"id\":\"1076\",\"type\":\"CDSView\"},{\"attributes\":{\"line_color\":\"#e5ae38\",\"line_width\":2,\"x\":{\"field\":\"coin_id\"},\"y\":{\"field\":\"value\"}},\"id\":\"1114\",\"type\":\"Line\"},{\"attributes\":{},\"id\":\"1226\",\"type\":\"UnionRenderers\"},{\"attributes\":{\"line_alpha\":0.2,\"line_color\":\"#6d904f\",\"line_width\":2,\"x\":{\"field\":\"coin_id\"},\"y\":{\"field\":\"value\"}},\"id\":\"1120\",\"type\":\"Line\"},{\"attributes\":{\"label\":{\"value\":\"price_change_percentage_1y\"},\"renderers\":[{\"id\":\"1205\"}]},\"id\":\"1229\",\"type\":\"LegendItem\"},{\"attributes\":{},\"id\":\"1047\",\"type\":\"AllLabels\"},{\"attributes\":{\"label\":{\"value\":\"price_change_percentage_7d\"},\"renderers\":[{\"id\":\"1075\"}]},\"id\":\"1089\",\"type\":\"LegendItem\"},{\"attributes\":{\"callback\":null,\"renderers\":[{\"id\":\"1054\"},{\"id\":\"1075\"},{\"id\":\"1097\"},{\"id\":\"1121\"},{\"id\":\"1147\"},{\"id\":\"1175\"},{\"id\":\"1205\"}],\"tags\":[\"hv_created\"],\"tooltips\":[[\"Variable\",\"@{Variable}\"],[\"coin_id\",\"@{coin_id}\"],[\"value\",\"@{value}\"]]},\"id\":\"1006\",\"type\":\"HoverTool\"},{\"attributes\":{},\"id\":\"1020\",\"type\":\"LinearScale\"},{\"attributes\":{\"line_alpha\":0.2,\"line_color\":\"#30a2da\",\"line_width\":2,\"x\":{\"field\":\"coin_id\"},\"y\":{\"field\":\"value\"}},\"id\":\"1053\",\"type\":\"Line\"},{\"attributes\":{},\"id\":\"1018\",\"type\":\"CategoricalScale\"},{\"attributes\":{},\"id\":\"1142\",\"type\":\"Selection\"},{\"attributes\":{\"click_policy\":\"mute\",\"coordinates\":null,\"group\":null,\"items\":[{\"id\":\"1067\"},{\"id\":\"1089\"},{\"id\":\"1113\"},{\"id\":\"1139\"},{\"id\":\"1167\"},{\"id\":\"1197\"},{\"id\":\"1229\"}],\"location\":[0,0],\"title\":\"Variable\"},\"id\":\"1066\",\"type\":\"Legend\"},{\"attributes\":{\"data\":{\"Variable\":[\"price_change_percentage_14d\",\"price_change_percentage_14d\",\"price_change_percentage_14d\",\"price_change_percentage_14d\",\"price_change_percentage_14d\",\"price_change_percentage_14d\",\"price_change_percentage_14d\",\"price_change_percentage_14d\",\"price_change_percentage_14d\",\"price_change_percentage_14d\",\"price_change_percentage_14d\",\"price_change_percentage_14d\",\"price_change_percentage_14d\",\"price_change_percentage_14d\",\"price_change_percentage_14d\",\"price_change_percentage_14d\",\"price_change_percentage_14d\",\"price_change_percentage_14d\",\"price_change_percentage_14d\",\"price_change_percentage_14d\",\"price_change_percentage_14d\",\"price_change_percentage_14d\",\"price_change_percentage_14d\",\"price_change_percentage_14d\",\"price_change_percentage_14d\",\"price_change_percentage_14d\",\"price_change_percentage_14d\",\"price_change_percentage_14d\",\"price_change_percentage_14d\",\"price_change_percentage_14d\",\"price_change_percentage_14d\",\"price_change_percentage_14d\",\"price_change_percentage_14d\",\"price_change_percentage_14d\",\"price_change_percentage_14d\",\"price_change_percentage_14d\",\"price_change_percentage_14d\",\"price_change_percentage_14d\",\"price_change_percentage_14d\",\"price_change_percentage_14d\",\"price_change_percentage_14d\"],\"coin_id\":[\"bitcoin\",\"ethereum\",\"tether\",\"ripple\",\"bitcoin-cash\",\"binancecoin\",\"chainlink\",\"cardano\",\"litecoin\",\"bitcoin-cash-sv\",\"crypto-com-chain\",\"usd-coin\",\"eos\",\"monero\",\"tron\",\"tezos\",\"okb\",\"stellar\",\"cosmos\",\"cdai\",\"neo\",\"wrapped-bitcoin\",\"leo-token\",\"huobi-token\",\"nem\",\"binance-usd\",\"iota\",\"vechain\",\"zcash\",\"theta-token\",\"dash\",\"ethereum-classic\",\"ethlend\",\"maker\",\"havven\",\"omisego\",\"celsius-degree-token\",\"ontology\",\"ftx-token\",\"true-usd\",\"digibyte\"],\"value\":{\"__ndarray__\":\"zQaZZORMGkB5knTN5DsTQC1DHOviNno/ctwpHaz/AUCLic3HtYEtQJgvL8A+OhtACoDxDBqaIkAOhGQBEzgWQICfceFAKB1AIVnABG7d/b8xsfm4NhQhwGtI3GPpQ3e/pfeNrz0z8j8ao3VUNWkyQBUA4xk0dPY/VIzzN6GQAkCXrfVFQhsUwKpla32RUPG/Qgkzbf8KFkDPg7uzdtvFP8MN+PwwsiPAYFlpUgo6GkB3+GuyRh0cwM2v5gDBHN0/jliLTwEwBUDWrZ6T3jeuP7pOIy2VNw7Am1Wfq60oMsAJM23/yioXQJfK2xFOSxrAQE0tW+uL4D9OucK7XET0v0SLbOf7mSPA/pqsUQ/R978vaYzWUZUqwDtT6LzGbirAvodLjjs9OEByUMJM2x8lwJ30vvG1Z8q/ZCMQr+sXvD+7D0BqE0cdwA==\",\"dtype\":\"float64\",\"order\":\"little\",\"shape\":[41]}},\"selected\":{\"id\":\"1092\"},\"selection_policy\":{\"id\":\"1110\"}},\"id\":\"1091\",\"type\":\"ColumnDataSource\"},{\"attributes\":{\"below\":[{\"id\":\"1022\"}],\"center\":[{\"id\":\"1024\"},{\"id\":\"1028\"}],\"height\":400,\"left\":[{\"id\":\"1025\"}],\"margin\":[5,5,5,5],\"min_border_bottom\":10,\"min_border_left\":10,\"min_border_right\":10,\"min_border_top\":10,\"renderers\":[{\"id\":\"1054\"},{\"id\":\"1075\"},{\"id\":\"1097\"},{\"id\":\"1121\"},{\"id\":\"1147\"},{\"id\":\"1175\"},{\"id\":\"1205\"}],\"right\":[{\"id\":\"1066\"}],\"sizing_mode\":\"fixed\",\"title\":{\"id\":\"1014\"},\"toolbar\":{\"id\":\"1035\"},\"width\":800,\"x_range\":{\"id\":\"1004\"},\"x_scale\":{\"id\":\"1018\"},\"y_range\":{\"id\":\"1005\"},\"y_scale\":{\"id\":\"1020\"}},\"id\":\"1013\",\"subtype\":\"Figure\",\"type\":\"Plot\"},{\"attributes\":{\"coordinates\":null,\"data_source\":{\"id\":\"1048\"},\"glyph\":{\"id\":\"1051\"},\"group\":null,\"hover_glyph\":null,\"muted_glyph\":{\"id\":\"1053\"},\"nonselection_glyph\":{\"id\":\"1052\"},\"selection_glyph\":{\"id\":\"1068\"},\"view\":{\"id\":\"1055\"}},\"id\":\"1054\",\"type\":\"GlyphRenderer\"},{\"attributes\":{\"end\":8641.780918,\"reset_end\":8641.780918,\"reset_start\":-834.5136980000001,\"start\":-834.5136980000001,\"tags\":[[[\"value\",\"value\",null]]]},\"id\":\"1005\",\"type\":\"Range1d\"},{\"attributes\":{},\"id\":\"1136\",\"type\":\"UnionRenderers\"},{\"attributes\":{\"coordinates\":null,\"data_source\":{\"id\":\"1115\"},\"glyph\":{\"id\":\"1118\"},\"group\":null,\"hover_glyph\":null,\"muted_glyph\":{\"id\":\"1120\"},\"nonselection_glyph\":{\"id\":\"1119\"},\"selection_glyph\":{\"id\":\"1140\"},\"view\":{\"id\":\"1122\"}},\"id\":\"1121\",\"type\":\"GlyphRenderer\"},{\"attributes\":{\"data\":{\"Variable\":[\"price_change_percentage_7d\",\"price_change_percentage_7d\",\"price_change_percentage_7d\",\"price_change_percentage_7d\",\"price_change_percentage_7d\",\"price_change_percentage_7d\",\"price_change_percentage_7d\",\"price_change_percentage_7d\",\"price_change_percentage_7d\",\"price_change_percentage_7d\",\"price_change_percentage_7d\",\"price_change_percentage_7d\",\"price_change_percentage_7d\",\"price_change_percentage_7d\",\"price_change_percentage_7d\",\"price_change_percentage_7d\",\"price_change_percentage_7d\",\"price_change_percentage_7d\",\"price_change_percentage_7d\",\"price_change_percentage_7d\",\"price_change_percentage_7d\",\"price_change_percentage_7d\",\"price_change_percentage_7d\",\"price_change_percentage_7d\",\"price_change_percentage_7d\",\"price_change_percentage_7d\",\"price_change_percentage_7d\",\"price_change_percentage_7d\",\"price_change_percentage_7d\",\"price_change_percentage_7d\",\"price_change_percentage_7d\",\"price_change_percentage_7d\",\"price_change_percentage_7d\",\"price_change_percentage_7d\",\"price_change_percentage_7d\",\"price_change_percentage_7d\",\"price_change_percentage_7d\",\"price_change_percentage_7d\",\"price_change_percentage_7d\",\"price_change_percentage_7d\",\"price_change_percentage_7d\"],\"coin_id\":[\"bitcoin\",\"ethereum\",\"tether\",\"ripple\",\"bitcoin-cash\",\"binancecoin\",\"chainlink\",\"cardano\",\"litecoin\",\"bitcoin-cash-sv\",\"crypto-com-chain\",\"usd-coin\",\"eos\",\"monero\",\"tron\",\"tezos\",\"okb\",\"stellar\",\"cosmos\",\"cdai\",\"neo\",\"wrapped-bitcoin\",\"leo-token\",\"huobi-token\",\"nem\",\"binance-usd\",\"iota\",\"vechain\",\"zcash\",\"theta-token\",\"dash\",\"ethereum-classic\",\"ethlend\",\"maker\",\"havven\",\"omisego\",\"celsius-degree-token\",\"ontology\",\"ftx-token\",\"true-usd\",\"digibyte\"],\"value\":{\"__ndarray__\":\"RbsKKT9pHkAzUBn/PsMkQL99HThnRKk/yVnY0w5/47/+JhQi4BgxQBL3WPrQtSlA7yB2ptCxNEA/jBAebfwrQPFL/bypaBpArKjBNAxfCkByv0NRoK8WwPlJtU/HY76/lPsdigL99L+n6Egu/5EvQE1KQbeX9BBA0m9fB87pIUBlU67wLjcSwKbtX1lpkgBAZwqd19gVMEBcIEHxY8ytP3wnZr0YigNAOh4zUBmfHUD3Hi457pT1vzNQGf8+4/k/kQ96Nqs+6781Y9F0djKoP2dEaW/wRRhAgXhdv2A3/L/8GHPXErIkQP8JLlbUYBjAVU0QdR9gFEDRlnMprmoIQGCrBIvD2RBAAiuHFtlOIECbG9MTllgRQKhXyjLEURtAqn06HjNQ4z+UvDrHgGzzvwltOZfiahxAsD2zJEBNxT8yj/zBwHPlPw==\",\"dtype\":\"float64\",\"order\":\"little\",\"shape\":[41]}},\"selected\":{\"id\":\"1070\"},\"selection_policy\":{\"id\":\"1086\"}},\"id\":\"1069\",\"type\":\"ColumnDataSource\"},{\"attributes\":{\"line_color\":\"#8b8b8b\",\"line_width\":2,\"x\":{\"field\":\"coin_id\"},\"y\":{\"field\":\"value\"}},\"id\":\"1168\",\"type\":\"Line\"},{\"attributes\":{\"line_alpha\":0.2,\"line_color\":\"#8b8b8b\",\"line_width\":2,\"x\":{\"field\":\"coin_id\"},\"y\":{\"field\":\"value\"}},\"id\":\"1146\",\"type\":\"Line\"},{\"attributes\":{\"coordinates\":null,\"data_source\":{\"id\":\"1169\"},\"glyph\":{\"id\":\"1172\"},\"group\":null,\"hover_glyph\":null,\"muted_glyph\":{\"id\":\"1174\"},\"nonselection_glyph\":{\"id\":\"1173\"},\"selection_glyph\":{\"id\":\"1198\"},\"view\":{\"id\":\"1176\"}},\"id\":\"1175\",\"type\":\"GlyphRenderer\"},{\"attributes\":{\"label\":{\"value\":\"price_change_percentage_30d\"},\"renderers\":[{\"id\":\"1121\"}]},\"id\":\"1139\",\"type\":\"LegendItem\"},{\"attributes\":{},\"id\":\"1049\",\"type\":\"Selection\"},{\"attributes\":{},\"id\":\"1092\",\"type\":\"Selection\"},{\"attributes\":{\"line_color\":\"#30a2da\",\"line_width\":2,\"x\":{\"field\":\"coin_id\"},\"y\":{\"field\":\"value\"}},\"id\":\"1068\",\"type\":\"Line\"},{\"attributes\":{\"line_alpha\":0.1,\"line_color\":\"#6d904f\",\"line_width\":2,\"x\":{\"field\":\"coin_id\"},\"y\":{\"field\":\"value\"}},\"id\":\"1119\",\"type\":\"Line\"},{\"attributes\":{\"source\":{\"id\":\"1115\"}},\"id\":\"1122\",\"type\":\"CDSView\"},{\"attributes\":{\"label\":{\"value\":\"price_change_percentage_24h\"},\"renderers\":[{\"id\":\"1054\"}]},\"id\":\"1067\",\"type\":\"LegendItem\"},{\"attributes\":{\"line_alpha\":0.1,\"line_color\":\"#30a2da\",\"line_width\":2,\"x\":{\"field\":\"coin_id\"},\"y\":{\"field\":\"value\"}},\"id\":\"1052\",\"type\":\"Line\"},{\"attributes\":{},\"id\":\"1194\",\"type\":\"UnionRenderers\"},{\"attributes\":{},\"id\":\"1086\",\"type\":\"UnionRenderers\"},{\"attributes\":{\"line_alpha\":0.2,\"line_color\":\"#17becf\",\"line_width\":2,\"x\":{\"field\":\"coin_id\"},\"y\":{\"field\":\"value\"}},\"id\":\"1174\",\"type\":\"Line\"},{\"attributes\":{\"line_color\":\"#17becf\",\"line_width\":2,\"x\":{\"field\":\"coin_id\"},\"y\":{\"field\":\"value\"}},\"id\":\"1198\",\"type\":\"Line\"},{\"attributes\":{\"axis\":{\"id\":\"1022\"},\"coordinates\":null,\"grid_line_color\":null,\"group\":null,\"ticker\":null},\"id\":\"1024\",\"type\":\"Grid\"},{\"attributes\":{\"line_color\":\"#30a2da\",\"line_width\":2,\"x\":{\"field\":\"coin_id\"},\"y\":{\"field\":\"value\"}},\"id\":\"1051\",\"type\":\"Line\"},{\"attributes\":{\"source\":{\"id\":\"1141\"}},\"id\":\"1148\",\"type\":\"CDSView\"},{\"attributes\":{},\"id\":\"1170\",\"type\":\"Selection\"},{\"attributes\":{\"source\":{\"id\":\"1048\"}},\"id\":\"1055\",\"type\":\"CDSView\"},{\"attributes\":{\"line_color\":\"#6d904f\",\"line_width\":2,\"x\":{\"field\":\"coin_id\"},\"y\":{\"field\":\"value\"}},\"id\":\"1118\",\"type\":\"Line\"},{\"attributes\":{},\"id\":\"1044\",\"type\":\"AllLabels\"},{\"attributes\":{\"data\":{\"Variable\":[\"price_change_percentage_30d\",\"price_change_percentage_30d\",\"price_change_percentage_30d\",\"price_change_percentage_30d\",\"price_change_percentage_30d\",\"price_change_percentage_30d\",\"price_change_percentage_30d\",\"price_change_percentage_30d\",\"price_change_percentage_30d\",\"price_change_percentage_30d\",\"price_change_percentage_30d\",\"price_change_percentage_30d\",\"price_change_percentage_30d\",\"price_change_percentage_30d\",\"price_change_percentage_30d\",\"price_change_percentage_30d\",\"price_change_percentage_30d\",\"price_change_percentage_30d\",\"price_change_percentage_30d\",\"price_change_percentage_30d\",\"price_change_percentage_30d\",\"price_change_percentage_30d\",\"price_change_percentage_30d\",\"price_change_percentage_30d\",\"price_change_percentage_30d\",\"price_change_percentage_30d\",\"price_change_percentage_30d\",\"price_change_percentage_30d\",\"price_change_percentage_30d\",\"price_change_percentage_30d\",\"price_change_percentage_30d\",\"price_change_percentage_30d\",\"price_change_percentage_30d\",\"price_change_percentage_30d\",\"price_change_percentage_30d\",\"price_change_percentage_30d\",\"price_change_percentage_30d\",\"price_change_percentage_30d\",\"price_change_percentage_30d\",\"price_change_percentage_30d\",\"price_change_percentage_30d\"],\"coin_id\":[\"bitcoin\",\"ethereum\",\"tether\",\"ripple\",\"bitcoin-cash\",\"binancecoin\",\"chainlink\",\"cardano\",\"litecoin\",\"bitcoin-cash-sv\",\"crypto-com-chain\",\"usd-coin\",\"eos\",\"monero\",\"tron\",\"tezos\",\"okb\",\"stellar\",\"cosmos\",\"cdai\",\"neo\",\"wrapped-bitcoin\",\"leo-token\",\"huobi-token\",\"nem\",\"binance-usd\",\"iota\",\"vechain\",\"zcash\",\"theta-token\",\"dash\",\"ethereum-classic\",\"ethlend\",\"maker\",\"havven\",\"omisego\",\"celsius-degree-token\",\"ontology\",\"ftx-token\",\"true-usd\",\"digibyte\"],\"value\":{\"__ndarray__\":\"VMa/z7iwHkAl6ZrJN9vAP/28qUiFsaW/L26jAbwFzj8dcjPcgH8vQPMf0m9fB64/5bhTOlhvJsBnfjUHCDYkQGWNeohGd/M/sCDNWDQdB0Cmft5UpHIxwJgvL8A+OsW/t0WZDTKJEsDeVKTC2HpDQEzD8BExNSnAjWK5pdVALMDjjcwjf+AkwIrIsIo3QiDAjliLTwFQEkAWpBmLpnMBwE3WqIdo9DXAVG8NbJWAHUAnMQisHJoIQGA8g4b+CQrACcTr+gU7DcCPpQ9dUN+SP80Bgjl6nBDA9S1zuixWLMBC7Eyh83odQEku/yH9bj9AtTf4wmQqH8Am/FI/byoHQNjYJaq3/j3A9GxWfa62MECdRloqb9c0wF4R/G8lOyLArK3YX3aZYUC1/SsrTVpBwP/PYb68ICXAFR3J5T+knz+ndLD+z4EqQA==\",\"dtype\":\"float64\",\"order\":\"little\",\"shape\":[41]}},\"selected\":{\"id\":\"1116\"},\"selection_policy\":{\"id\":\"1136\"}},\"id\":\"1115\",\"type\":\"ColumnDataSource\"},{\"attributes\":{},\"id\":\"1023\",\"type\":\"CategoricalTicker\"},{\"attributes\":{\"coordinates\":null,\"group\":null,\"text_color\":\"black\",\"text_font_size\":\"12pt\"},\"id\":\"1014\",\"type\":\"Title\"},{\"attributes\":{\"label\":{\"value\":\"price_change_percentage_200d\"},\"renderers\":[{\"id\":\"1175\"}]},\"id\":\"1197\",\"type\":\"LegendItem\"},{\"attributes\":{\"axis_label\":\"coin_id\",\"coordinates\":null,\"formatter\":{\"id\":\"1043\"},\"group\":null,\"major_label_orientation\":1.5707963267948966,\"major_label_policy\":{\"id\":\"1044\"},\"ticker\":{\"id\":\"1023\"}},\"id\":\"1022\",\"type\":\"CategoricalAxis\"},{\"attributes\":{\"line_alpha\":0.1,\"line_color\":\"#17becf\",\"line_width\":2,\"x\":{\"field\":\"coin_id\"},\"y\":{\"field\":\"value\"}},\"id\":\"1173\",\"type\":\"Line\"},{\"attributes\":{\"axis\":{\"id\":\"1025\"},\"coordinates\":null,\"dimension\":1,\"grid_line_color\":null,\"group\":null,\"ticker\":null},\"id\":\"1028\",\"type\":\"Grid\"},{\"attributes\":{\"source\":{\"id\":\"1169\"}},\"id\":\"1176\",\"type\":\"CDSView\"},{\"attributes\":{},\"id\":\"1030\",\"type\":\"PanTool\"},{\"attributes\":{\"children\":[{\"id\":\"1003\"},{\"id\":\"1013\"},{\"id\":\"1429\"}],\"margin\":[0,0,0,0],\"name\":\"Row01769\",\"tags\":[\"embedded\"]},\"id\":\"1002\",\"type\":\"Row\"},{\"attributes\":{\"axis_label\":\"\",\"coordinates\":null,\"formatter\":{\"id\":\"1046\"},\"group\":null,\"major_label_policy\":{\"id\":\"1047\"},\"ticker\":{\"id\":\"1026\"}},\"id\":\"1025\",\"type\":\"LinearAxis\"},{\"attributes\":{\"line_alpha\":0.2,\"line_color\":\"#e5ae38\",\"line_width\":2,\"x\":{\"field\":\"coin_id\"},\"y\":{\"field\":\"value\"}},\"id\":\"1096\",\"type\":\"Line\"},{\"attributes\":{},\"id\":\"1026\",\"type\":\"BasicTicker\"},{\"attributes\":{\"margin\":[5,5,5,5],\"name\":\"HSpacer01774\",\"sizing_mode\":\"stretch_width\"},\"id\":\"1429\",\"type\":\"Spacer\"},{\"attributes\":{\"margin\":[5,5,5,5],\"name\":\"HSpacer01773\",\"sizing_mode\":\"stretch_width\"},\"id\":\"1003\",\"type\":\"Spacer\"},{\"attributes\":{},\"id\":\"1031\",\"type\":\"WheelZoomTool\"},{\"attributes\":{},\"id\":\"1029\",\"type\":\"SaveTool\"},{\"attributes\":{},\"id\":\"1110\",\"type\":\"UnionRenderers\"},{\"attributes\":{\"line_color\":\"#17becf\",\"line_width\":2,\"x\":{\"field\":\"coin_id\"},\"y\":{\"field\":\"value\"}},\"id\":\"1172\",\"type\":\"Line\"},{\"attributes\":{\"coordinates\":null,\"data_source\":{\"id\":\"1091\"},\"glyph\":{\"id\":\"1094\"},\"group\":null,\"hover_glyph\":null,\"muted_glyph\":{\"id\":\"1096\"},\"nonselection_glyph\":{\"id\":\"1095\"},\"selection_glyph\":{\"id\":\"1114\"},\"view\":{\"id\":\"1098\"}},\"id\":\"1097\",\"type\":\"GlyphRenderer\"},{\"attributes\":{\"overlay\":{\"id\":\"1034\"}},\"id\":\"1032\",\"type\":\"BoxZoomTool\"},{\"attributes\":{},\"id\":\"1033\",\"type\":\"ResetTool\"},{\"attributes\":{\"line_color\":\"#fc4f30\",\"line_width\":2,\"x\":{\"field\":\"coin_id\"},\"y\":{\"field\":\"value\"}},\"id\":\"1090\",\"type\":\"Line\"},{\"attributes\":{\"bottom_units\":\"screen\",\"coordinates\":null,\"fill_alpha\":0.5,\"fill_color\":\"lightgrey\",\"group\":null,\"left_units\":\"screen\",\"level\":\"overlay\",\"line_alpha\":1.0,\"line_color\":\"black\",\"line_dash\":[4,4],\"line_width\":2,\"right_units\":\"screen\",\"syncable\":false,\"top_units\":\"screen\"},\"id\":\"1034\",\"type\":\"BoxAnnotation\"},{\"attributes\":{\"coordinates\":null,\"data_source\":{\"id\":\"1141\"},\"glyph\":{\"id\":\"1144\"},\"group\":null,\"hover_glyph\":null,\"muted_glyph\":{\"id\":\"1146\"},\"nonselection_glyph\":{\"id\":\"1145\"},\"selection_glyph\":{\"id\":\"1168\"},\"view\":{\"id\":\"1148\"}},\"id\":\"1147\",\"type\":\"GlyphRenderer\"},{\"attributes\":{\"label\":{\"value\":\"price_change_percentage_14d\"},\"renderers\":[{\"id\":\"1097\"}]},\"id\":\"1113\",\"type\":\"LegendItem\"},{\"attributes\":{\"line_alpha\":0.1,\"line_color\":\"#fc4f30\",\"line_width\":2,\"x\":{\"field\":\"coin_id\"},\"y\":{\"field\":\"value\"}},\"id\":\"1073\",\"type\":\"Line\"},{\"attributes\":{\"line_color\":\"#6d904f\",\"line_width\":2,\"x\":{\"field\":\"coin_id\"},\"y\":{\"field\":\"value\"}},\"id\":\"1140\",\"type\":\"Line\"},{\"attributes\":{},\"id\":\"1063\",\"type\":\"UnionRenderers\"},{\"attributes\":{\"line_alpha\":0.1,\"line_color\":\"#e5ae38\",\"line_width\":2,\"x\":{\"field\":\"coin_id\"},\"y\":{\"field\":\"value\"}},\"id\":\"1095\",\"type\":\"Line\"},{\"attributes\":{\"source\":{\"id\":\"1091\"}},\"id\":\"1098\",\"type\":\"CDSView\"},{\"attributes\":{\"data\":{\"Variable\":[\"price_change_percentage_200d\",\"price_change_percentage_200d\",\"price_change_percentage_200d\",\"price_change_percentage_200d\",\"price_change_percentage_200d\",\"price_change_percentage_200d\",\"price_change_percentage_200d\",\"price_change_percentage_200d\",\"price_change_percentage_200d\",\"price_change_percentage_200d\",\"price_change_percentage_200d\",\"price_change_percentage_200d\",\"price_change_percentage_200d\",\"price_change_percentage_200d\",\"price_change_percentage_200d\",\"price_change_percentage_200d\",\"price_change_percentage_200d\",\"price_change_percentage_200d\",\"price_change_percentage_200d\",\"price_change_percentage_200d\",\"price_change_percentage_200d\",\"price_change_percentage_200d\",\"price_change_percentage_200d\",\"price_change_percentage_200d\",\"price_change_percentage_200d\",\"price_change_percentage_200d\",\"price_change_percentage_200d\",\"price_change_percentage_200d\",\"price_change_percentage_200d\",\"price_change_percentage_200d\",\"price_change_percentage_200d\",\"price_change_percentage_200d\",\"price_change_percentage_200d\",\"price_change_percentage_200d\",\"price_change_percentage_200d\",\"price_change_percentage_200d\",\"price_change_percentage_200d\",\"price_change_percentage_200d\",\"price_change_percentage_200d\",\"price_change_percentage_200d\",\"price_change_percentage_200d\"],\"coin_id\":[\"bitcoin\",\"ethereum\",\"tether\",\"ripple\",\"bitcoin-cash\",\"binancecoin\",\"chainlink\",\"cardano\",\"litecoin\",\"bitcoin-cash-sv\",\"crypto-com-chain\",\"usd-coin\",\"eos\",\"monero\",\"tron\",\"tezos\",\"okb\",\"stellar\",\"cosmos\",\"cdai\",\"neo\",\"wrapped-bitcoin\",\"leo-token\",\"huobi-token\",\"nem\",\"binance-usd\",\"iota\",\"vechain\",\"zcash\",\"theta-token\",\"dash\",\"ethereum-classic\",\"ethlend\",\"maker\",\"havven\",\"omisego\",\"celsius-degree-token\",\"ontology\",\"ftx-token\",\"true-usd\",\"digibyte\"],\"value\":{\"__ndarray__\":\"xY8xdy3hVED0piIVxlhnQBe86CtIM3a/9zsUBfrEQ0DTn/1IEak1QPTDCOHRc2NAl3MprqozeUAexM4UOohwQIB9dOrKfztAFhiyutWzHUCN7iB2plZsQIQqNXugFcS/ZHWr56QPMkALe9rhrzBlQH+8V61MnGBA5nlwd9a2RUARHm0csfpDQC+Lic3HJ1VAkj8YeO4/Z0AOvjCZKhjZv2vUQzS61GNAtRX7y+75VEC5GW7A52cwQAPso1NXHkVAKa4q+64Fa0A7NgLxun65P+TaUDHOwVdAyM1wAz7bcEAFwHgGDaNeQH3Qs1k1lYtAOUVHcvnvGEANGvonuMgkQCYZOQvbZ6FAGD4ipkSiVED5MeauZXeDQHi0ccQaSoJAC170FcTYmEB1PGagMmJLQC2yne+nvkxAndfYJaq3tr9R9wFIbSl+QA==\",\"dtype\":\"float64\",\"order\":\"little\",\"shape\":[41]}},\"selected\":{\"id\":\"1170\"},\"selection_policy\":{\"id\":\"1194\"}},\"id\":\"1169\",\"type\":\"ColumnDataSource\"},{\"attributes\":{\"line_color\":\"#fc4f30\",\"line_width\":2,\"x\":{\"field\":\"coin_id\"},\"y\":{\"field\":\"value\"}},\"id\":\"1072\",\"type\":\"Line\"},{\"attributes\":{},\"id\":\"1070\",\"type\":\"Selection\"},{\"attributes\":{},\"id\":\"1164\",\"type\":\"UnionRenderers\"},{\"attributes\":{\"line_alpha\":0.2,\"line_color\":\"#fc4f30\",\"line_width\":2,\"x\":{\"field\":\"coin_id\"},\"y\":{\"field\":\"value\"}},\"id\":\"1074\",\"type\":\"Line\"},{\"attributes\":{\"tools\":[{\"id\":\"1006\"},{\"id\":\"1029\"},{\"id\":\"1030\"},{\"id\":\"1031\"},{\"id\":\"1032\"},{\"id\":\"1033\"}]},\"id\":\"1035\",\"type\":\"Toolbar\"},{\"attributes\":{\"line_color\":\"#e5ae38\",\"line_width\":2,\"x\":{\"field\":\"coin_id\"},\"y\":{\"field\":\"value\"}},\"id\":\"1094\",\"type\":\"Line\"},{\"attributes\":{\"label\":{\"value\":\"price_change_percentage_60d\"},\"renderers\":[{\"id\":\"1147\"}]},\"id\":\"1167\",\"type\":\"LegendItem\"},{\"attributes\":{\"line_alpha\":0.1,\"line_color\":\"#8b8b8b\",\"line_width\":2,\"x\":{\"field\":\"coin_id\"},\"y\":{\"field\":\"value\"}},\"id\":\"1145\",\"type\":\"Line\"},{\"attributes\":{},\"id\":\"1043\",\"type\":\"CategoricalTickFormatter\"},{\"attributes\":{\"data\":{\"Variable\":[\"price_change_percentage_60d\",\"price_change_percentage_60d\",\"price_change_percentage_60d\",\"price_change_percentage_60d\",\"price_change_percentage_60d\",\"price_change_percentage_60d\",\"price_change_percentage_60d\",\"price_change_percentage_60d\",\"price_change_percentage_60d\",\"price_change_percentage_60d\",\"price_change_percentage_60d\",\"price_change_percentage_60d\",\"price_change_percentage_60d\",\"price_change_percentage_60d\",\"price_change_percentage_60d\",\"price_change_percentage_60d\",\"price_change_percentage_60d\",\"price_change_percentage_60d\",\"price_change_percentage_60d\",\"price_change_percentage_60d\",\"price_change_percentage_60d\",\"price_change_percentage_60d\",\"price_change_percentage_60d\",\"price_change_percentage_60d\",\"price_change_percentage_60d\",\"price_change_percentage_60d\",\"price_change_percentage_60d\",\"price_change_percentage_60d\",\"price_change_percentage_60d\",\"price_change_percentage_60d\",\"price_change_percentage_60d\",\"price_change_percentage_60d\",\"price_change_percentage_60d\",\"price_change_percentage_60d\",\"price_change_percentage_60d\",\"price_change_percentage_60d\",\"price_change_percentage_60d\",\"price_change_percentage_60d\",\"price_change_percentage_60d\",\"price_change_percentage_60d\",\"price_change_percentage_60d\"],\"coin_id\":[\"bitcoin\",\"ethereum\",\"tether\",\"ripple\",\"bitcoin-cash\",\"binancecoin\",\"chainlink\",\"cardano\",\"litecoin\",\"bitcoin-cash-sv\",\"crypto-com-chain\",\"usd-coin\",\"eos\",\"monero\",\"tron\",\"tezos\",\"okb\",\"stellar\",\"cosmos\",\"cdai\",\"neo\",\"wrapped-bitcoin\",\"leo-token\",\"huobi-token\",\"nem\",\"binance-usd\",\"iota\",\"vechain\",\"zcash\",\"theta-token\",\"dash\",\"ethereum-classic\",\"ethlend\",\"maker\",\"havven\",\"omisego\",\"celsius-degree-token\",\"ontology\",\"ftx-token\",\"true-usd\",\"digibyte\"],\"value\":{\"__ndarray__\":\"FvvL7skDCsAs1JrmHccpwKjjMQOV8dE/2qz6XG2NMcBzol2FlG8rwIleRrHcKkJAN8MN+PzYRcBi26LMBtk2wCEf9GxWPTHAq5UJv9TfOMBg5dAi23kwwDygbMoV3qU/l631RUIrPsDNzMzMzNxEQJm7lpAPGhZAms5OBkdpRsBKe4MvTKYGwEsfuqC+zT7APL1SliHOHMC4AZ8fRgjlP9L7xteeCStAFqQZi6azDMCvJeSDni0ewDeOWItPQQvAXvQVpBm3VEDaOGItPgW4PwpLPKBsQkHAaw4QzNHPRcAJM23/yoo0wBmQvd79AVRAfa62Yn85OsBVGFsIcug5wLCsNCkFHQFA529CIQKeMsA0uoPYmbZDwPKwUGua0VNA/pqsUQ/ia0Ao8iTpmllAwFuxv+yenBdAmrFoOjsZ0D8s1JrmHRc/wA==\",\"dtype\":\"float64\",\"order\":\"little\",\"shape\":[41]}},\"selected\":{\"id\":\"1142\"},\"selection_policy\":{\"id\":\"1164\"}},\"id\":\"1141\",\"type\":\"ColumnDataSource\"},{\"attributes\":{},\"id\":\"1200\",\"type\":\"Selection\"},{\"attributes\":{\"data\":{\"Variable\":[\"price_change_percentage_24h\",\"price_change_percentage_24h\",\"price_change_percentage_24h\",\"price_change_percentage_24h\",\"price_change_percentage_24h\",\"price_change_percentage_24h\",\"price_change_percentage_24h\",\"price_change_percentage_24h\",\"price_change_percentage_24h\",\"price_change_percentage_24h\",\"price_change_percentage_24h\",\"price_change_percentage_24h\",\"price_change_percentage_24h\",\"price_change_percentage_24h\",\"price_change_percentage_24h\",\"price_change_percentage_24h\",\"price_change_percentage_24h\",\"price_change_percentage_24h\",\"price_change_percentage_24h\",\"price_change_percentage_24h\",\"price_change_percentage_24h\",\"price_change_percentage_24h\",\"price_change_percentage_24h\",\"price_change_percentage_24h\",\"price_change_percentage_24h\",\"price_change_percentage_24h\",\"price_change_percentage_24h\",\"price_change_percentage_24h\",\"price_change_percentage_24h\",\"price_change_percentage_24h\",\"price_change_percentage_24h\",\"price_change_percentage_24h\",\"price_change_percentage_24h\",\"price_change_percentage_24h\",\"price_change_percentage_24h\",\"price_change_percentage_24h\",\"price_change_percentage_24h\",\"price_change_percentage_24h\",\"price_change_percentage_24h\",\"price_change_percentage_24h\",\"price_change_percentage_24h\"],\"coin_id\":[\"bitcoin\",\"ethereum\",\"tether\",\"ripple\",\"bitcoin-cash\",\"binancecoin\",\"chainlink\",\"cardano\",\"litecoin\",\"bitcoin-cash-sv\",\"crypto-com-chain\",\"usd-coin\",\"eos\",\"monero\",\"tron\",\"tezos\",\"okb\",\"stellar\",\"cosmos\",\"cdai\",\"neo\",\"wrapped-bitcoin\",\"leo-token\",\"huobi-token\",\"nem\",\"binance-usd\",\"iota\",\"vechain\",\"zcash\",\"theta-token\",\"dash\",\"ethereum-classic\",\"ethlend\",\"maker\",\"havven\",\"omisego\",\"celsius-degree-token\",\"ontology\",\"ftx-token\",\"true-usd\",\"digibyte\"],\"value\":{\"__ndarray__\":\"nZ0MjpJX8T8MzXUaaanMP5mByvj3Gcu/wCZr1EM02L8ep+hILj8HQL0Yyol21QBAwhcmUwWjzr//CS5W1GBqP7JGPUSjO7C/QKTfvg6c7T8urYbEPZbjPzeJQWDl0Ma/1pC4x9KHwj87NgLxun7bP90HILWJk7M/JjYf14aK5b83iUFg5dAFwG3i5H6HIvC/5nlwd9Zu7r9i83FtqBjLP+iHEcKjjd8/M9yAzw+j8T/fGtgqweLAv+RmuAGfH9q/UdobfGEy678D7KNTVz67v8YzaOif4No/teBFX0Ga9D8G2Eenrnzjvx+duvJZPhLAoMN8eQH28L+cxCCwcmjdv667eapDDivAX5hMFYxK479EUaBP5EkQwAZkr3d/XBNA0JuKVBgbBEDqBDQRNrz1vxo09E9wseo/tI6qJoi6r79qMA3DR8QHQA==\",\"dtype\":\"float64\",\"order\":\"little\",\"shape\":[41]}},\"selected\":{\"id\":\"1049\"},\"selection_policy\":{\"id\":\"1063\"}},\"id\":\"1048\",\"type\":\"ColumnDataSource\"},{\"attributes\":{\"coordinates\":null,\"data_source\":{\"id\":\"1199\"},\"glyph\":{\"id\":\"1202\"},\"group\":null,\"hover_glyph\":null,\"muted_glyph\":{\"id\":\"1204\"},\"nonselection_glyph\":{\"id\":\"1203\"},\"selection_glyph\":{\"id\":\"1230\"},\"view\":{\"id\":\"1206\"}},\"id\":\"1205\",\"type\":\"GlyphRenderer\"},{\"attributes\":{\"line_color\":\"#8b8b8b\",\"line_width\":2,\"x\":{\"field\":\"coin_id\"},\"y\":{\"field\":\"value\"}},\"id\":\"1144\",\"type\":\"Line\"},{\"attributes\":{\"line_color\":\"#9467bd\",\"line_width\":2,\"x\":{\"field\":\"coin_id\"},\"y\":{\"field\":\"value\"}},\"id\":\"1202\",\"type\":\"Line\"},{\"attributes\":{\"line_alpha\":0.1,\"line_color\":\"#9467bd\",\"line_width\":2,\"x\":{\"field\":\"coin_id\"},\"y\":{\"field\":\"value\"}},\"id\":\"1203\",\"type\":\"Line\"},{\"attributes\":{\"line_alpha\":0.2,\"line_color\":\"#9467bd\",\"line_width\":2,\"x\":{\"field\":\"coin_id\"},\"y\":{\"field\":\"value\"}},\"id\":\"1204\",\"type\":\"Line\"},{\"attributes\":{\"data\":{\"Variable\":[\"price_change_percentage_1y\",\"price_change_percentage_1y\",\"price_change_percentage_1y\",\"price_change_percentage_1y\",\"price_change_percentage_1y\",\"price_change_percentage_1y\",\"price_change_percentage_1y\",\"price_change_percentage_1y\",\"price_change_percentage_1y\",\"price_change_percentage_1y\",\"price_change_percentage_1y\",\"price_change_percentage_1y\",\"price_change_percentage_1y\",\"price_change_percentage_1y\",\"price_change_percentage_1y\",\"price_change_percentage_1y\",\"price_change_percentage_1y\",\"price_change_percentage_1y\",\"price_change_percentage_1y\",\"price_change_percentage_1y\",\"price_change_percentage_1y\",\"price_change_percentage_1y\",\"price_change_percentage_1y\",\"price_change_percentage_1y\",\"price_change_percentage_1y\",\"price_change_percentage_1y\",\"price_change_percentage_1y\",\"price_change_percentage_1y\",\"price_change_percentage_1y\",\"price_change_percentage_1y\",\"price_change_percentage_1y\",\"price_change_percentage_1y\",\"price_change_percentage_1y\",\"price_change_percentage_1y\",\"price_change_percentage_1y\",\"price_change_percentage_1y\",\"price_change_percentage_1y\",\"price_change_percentage_1y\",\"price_change_percentage_1y\",\"price_change_percentage_1y\",\"price_change_percentage_1y\"],\"coin_id\":[\"bitcoin\",\"ethereum\",\"tether\",\"ripple\",\"bitcoin-cash\",\"binancecoin\",\"chainlink\",\"cardano\",\"litecoin\",\"bitcoin-cash-sv\",\"crypto-com-chain\",\"usd-coin\",\"eos\",\"monero\",\"tron\",\"tezos\",\"okb\",\"stellar\",\"cosmos\",\"cdai\",\"neo\",\"wrapped-bitcoin\",\"leo-token\",\"huobi-token\",\"nem\",\"binance-usd\",\"iota\",\"vechain\",\"zcash\",\"theta-token\",\"dash\",\"ethereum-classic\",\"ethlend\",\"maker\",\"havven\",\"omisego\",\"celsius-degree-token\",\"ontology\",\"ftx-token\",\"true-usd\",\"digibyte\"],\"value\":{\"__ndarray__\":\"kQpjC0HCQkDWqIdodH1ZQN/42jNLApQ/NXugFRiaMMDN6bKY2PwsQOcdp+hIbFFAaTo7GRxSdEC6LCY2H4NjQPnaM0sCVCnA0NA/wcVuV0CQvd798RBzQL4wmSoYlci/t39lpUmRMcDovMYuUaFhQEPKT6p9nk1A6PaSxmiAYUBdUN8yp75hQMzuycNCnStAw7ZFmQ2cVEAHsTOFzmvSvx/0bFZ9aWBAhhvw+WHEQkAN/RNcrAA1QN8Vwf9WkjhAS7A4nPkWaUAVUn5S7dPBPzUk7rH04Q/AIsMq3shbaUBf0hito7hUQPyMCwcC64VAzsKedvirA8Dwoq8gzTgmQHRGlPYWrL5Ayk+qfTpOJUDfiVkvRjaFQEfJq3MMC3RAnFCIgONmn0CsVib8Uk8pwNttF5rrC2VAyXGndLD+2T/ZfFwbKgxnQA==\",\"dtype\":\"float64\",\"order\":\"little\",\"shape\":[41]}},\"selected\":{\"id\":\"1200\"},\"selection_policy\":{\"id\":\"1226\"}},\"id\":\"1199\",\"type\":\"ColumnDataSource\"},{\"attributes\":{\"coordinates\":null,\"data_source\":{\"id\":\"1069\"},\"glyph\":{\"id\":\"1072\"},\"group\":null,\"hover_glyph\":null,\"muted_glyph\":{\"id\":\"1074\"},\"nonselection_glyph\":{\"id\":\"1073\"},\"selection_glyph\":{\"id\":\"1090\"},\"view\":{\"id\":\"1076\"}},\"id\":\"1075\",\"type\":\"GlyphRenderer\"}],\"root_ids\":[\"1002\"]},\"title\":\"Bokeh Application\",\"version\":\"2.4.2\"}};\n",
       "    var render_items = [{\"docid\":\"2984af4f-d928-42fc-b510-a6fd1a62df74\",\"root_ids\":[\"1002\"],\"roots\":{\"1002\":\"45c5f9dc-0914-4423-b5fa-1650fb8d5bb4\"}}];\n",
       "    root.Bokeh.embed.embed_items_notebook(docs_json, render_items);\n",
       "  }\n",
       "  if (root.Bokeh !== undefined && root.Bokeh.Panel !== undefined) {\n",
       "    embed_document(root);\n",
       "  } else {\n",
       "    var attempts = 0;\n",
       "    var timer = setInterval(function(root) {\n",
       "      if (root.Bokeh !== undefined && root.Bokeh.Panel !== undefined) {\n",
       "        clearInterval(timer);\n",
       "        embed_document(root);\n",
       "      } else if (document.readyState == \"complete\") {\n",
       "        attempts++;\n",
       "        if (attempts > 200) {\n",
       "          clearInterval(timer);\n",
       "          console.log(\"Bokeh: ERROR: Unable to run BokehJS code because BokehJS library is missing\");\n",
       "        }\n",
       "      }\n",
       "    }, 25, root)\n",
       "  }\n",
       "})(window);</script>"
      ],
      "text/plain": [
       ":NdOverlay   [Variable]\n",
       "   :Curve   [coin_id]   (value)"
      ]
     },
     "execution_count": 5,
     "metadata": {
      "application/vnd.holoviews_exec.v0+json": {
       "id": "1002"
      }
     },
     "output_type": "execute_result"
    }
   ],
   "source": [
    "# Plot your data to see what's in your DataFrame\n",
    "df_market_data.hvplot.line(\n",
    "    width=800,\n",
    "    height=400,\n",
    "    rot=90\n",
    ")"
   ]
  },
  {
   "cell_type": "markdown",
   "metadata": {},
   "source": [
    "---"
   ]
  },
  {
   "cell_type": "markdown",
   "metadata": {},
   "source": [
    "### Prepare the Data\n",
    "\n",
    "This section prepares the data before running the K-Means algorithm. It follows these steps:\n",
    "\n",
    "1. Use the `StandardScaler` module from scikit-learn to normalize the CSV file data. This will require you to utilize the `fit_transform` function.\n",
    "\n",
    "2. Create a DataFrame that contains the scaled data. Be sure to set the `coin_id` index from the original DataFrame as the index for the new DataFrame. Review the resulting DataFrame.\n"
   ]
  },
  {
   "cell_type": "code",
   "execution_count": 7,
   "metadata": {},
   "outputs": [],
   "source": [
    "# Use the `StandardScaler()` module from scikit-learn to normalize the data from the CSV file\n",
    "scaled_data = StandardScaler().fit_transform(df_market_data)"
   ]
  },
  {
   "cell_type": "code",
   "execution_count": 66,
   "metadata": {},
   "outputs": [
    {
     "data": {
      "text/html": [
       "<div>\n",
       "<style scoped>\n",
       "    .dataframe tbody tr th:only-of-type {\n",
       "        vertical-align: middle;\n",
       "    }\n",
       "\n",
       "    .dataframe tbody tr th {\n",
       "        vertical-align: top;\n",
       "    }\n",
       "\n",
       "    .dataframe thead th {\n",
       "        text-align: right;\n",
       "    }\n",
       "</style>\n",
       "<table border=\"1\" class=\"dataframe\">\n",
       "  <thead>\n",
       "    <tr style=\"text-align: right;\">\n",
       "      <th></th>\n",
       "      <th>price_change_percentage_24h</th>\n",
       "      <th>price_change_percentage_7d</th>\n",
       "      <th>price_change_percentage_14d</th>\n",
       "      <th>price_change_percentage_30d</th>\n",
       "      <th>price_change_percentage_60d</th>\n",
       "      <th>price_change_percentage_200d</th>\n",
       "      <th>price_change_percentage_1y</th>\n",
       "    </tr>\n",
       "    <tr>\n",
       "      <th>coin_id</th>\n",
       "      <th></th>\n",
       "      <th></th>\n",
       "      <th></th>\n",
       "      <th></th>\n",
       "      <th></th>\n",
       "      <th></th>\n",
       "      <th></th>\n",
       "    </tr>\n",
       "  </thead>\n",
       "  <tbody>\n",
       "    <tr>\n",
       "      <th>bitcoin</th>\n",
       "      <td>0.508529</td>\n",
       "      <td>0.493193</td>\n",
       "      <td>0.772200</td>\n",
       "      <td>0.235460</td>\n",
       "      <td>-0.067495</td>\n",
       "      <td>-0.355953</td>\n",
       "      <td>-0.251637</td>\n",
       "    </tr>\n",
       "    <tr>\n",
       "      <th>ethereum</th>\n",
       "      <td>0.185446</td>\n",
       "      <td>0.934445</td>\n",
       "      <td>0.558692</td>\n",
       "      <td>-0.054341</td>\n",
       "      <td>-0.273483</td>\n",
       "      <td>-0.115759</td>\n",
       "      <td>-0.199352</td>\n",
       "    </tr>\n",
       "    <tr>\n",
       "      <th>tether</th>\n",
       "      <td>0.021774</td>\n",
       "      <td>-0.706337</td>\n",
       "      <td>-0.021680</td>\n",
       "      <td>-0.061030</td>\n",
       "      <td>0.008005</td>\n",
       "      <td>-0.550247</td>\n",
       "      <td>-0.282061</td>\n",
       "    </tr>\n",
       "    <tr>\n",
       "      <th>ripple</th>\n",
       "      <td>-0.040764</td>\n",
       "      <td>-0.810928</td>\n",
       "      <td>0.249458</td>\n",
       "      <td>-0.050388</td>\n",
       "      <td>-0.373164</td>\n",
       "      <td>-0.458259</td>\n",
       "      <td>-0.295546</td>\n",
       "    </tr>\n",
       "    <tr>\n",
       "      <th>bitcoin-cash</th>\n",
       "      <td>1.193036</td>\n",
       "      <td>2.000959</td>\n",
       "      <td>1.760610</td>\n",
       "      <td>0.545842</td>\n",
       "      <td>-0.291203</td>\n",
       "      <td>-0.499848</td>\n",
       "      <td>-0.270317</td>\n",
       "    </tr>\n",
       "  </tbody>\n",
       "</table>\n",
       "</div>"
      ],
      "text/plain": [
       "              price_change_percentage_24h  price_change_percentage_7d  \\\n",
       "coin_id                                                                 \n",
       "bitcoin                          0.508529                    0.493193   \n",
       "ethereum                         0.185446                    0.934445   \n",
       "tether                           0.021774                   -0.706337   \n",
       "ripple                          -0.040764                   -0.810928   \n",
       "bitcoin-cash                     1.193036                    2.000959   \n",
       "\n",
       "              price_change_percentage_14d  price_change_percentage_30d  \\\n",
       "coin_id                                                                  \n",
       "bitcoin                          0.772200                     0.235460   \n",
       "ethereum                         0.558692                    -0.054341   \n",
       "tether                          -0.021680                    -0.061030   \n",
       "ripple                           0.249458                    -0.050388   \n",
       "bitcoin-cash                     1.760610                     0.545842   \n",
       "\n",
       "              price_change_percentage_60d  price_change_percentage_200d  \\\n",
       "coin_id                                                                   \n",
       "bitcoin                         -0.067495                     -0.355953   \n",
       "ethereum                        -0.273483                     -0.115759   \n",
       "tether                           0.008005                     -0.550247   \n",
       "ripple                          -0.373164                     -0.458259   \n",
       "bitcoin-cash                    -0.291203                     -0.499848   \n",
       "\n",
       "              price_change_percentage_1y  \n",
       "coin_id                                   \n",
       "bitcoin                        -0.251637  \n",
       "ethereum                       -0.199352  \n",
       "tether                         -0.282061  \n",
       "ripple                         -0.295546  \n",
       "bitcoin-cash                   -0.270317  "
      ]
     },
     "execution_count": 66,
     "metadata": {},
     "output_type": "execute_result"
    }
   ],
   "source": [
    "# Create a DataFrame with the scaled data\n",
    "df_market_data_scaled = pd.DataFrame(\n",
    "    scaled_data,\n",
    "    columns=df_market_data.columns\n",
    "  \n",
    ")\n",
    "\n",
    "# Copy the crypto names from the original data\n",
    "df_market_data_scaled[\"coin_id\"] = df_market_data.index\n",
    "\n",
    "# Set the coinid column as index\n",
    "df_market_data_scaled = df_market_data_scaled.set_index(\"coin_id\")\n",
    "index = df_market_data.index\n",
    "\n",
    "# Display sample data\n",
    "df_market_data_scaled.head()"
   ]
  },
  {
   "cell_type": "markdown",
   "metadata": {},
   "source": [
    "---"
   ]
  },
  {
   "cell_type": "markdown",
   "metadata": {},
   "source": [
    "### Find the Best Value for k Using the Original Data\n",
    "\n",
    "In this section, you will use the elbow method to find the best value for `k`.\n",
    "\n",
    "1. Code the elbow method algorithm to find the best value for `k`. Use a range from 1 to 11. \n",
    "\n",
    "2. Plot a line chart with all the inertia values computed with the different values of `k` to visually identify the optimal value for `k`.\n",
    "\n",
    "3. Answer the following question: What is the best value for `k`?"
   ]
  },
  {
   "cell_type": "code",
   "execution_count": 85,
   "metadata": {},
   "outputs": [],
   "source": [
    "# Create a list with the number of k-values to try\n",
    "# Use a range from 1 to 11\n",
    "k = list(range(1, 11))"
   ]
  },
  {
   "cell_type": "code",
   "execution_count": 158,
   "metadata": {},
   "outputs": [],
   "source": [
    "# Create an empy list to store the inertia values\n",
    "inertia = []"
   ]
  },
  {
   "cell_type": "code",
   "execution_count": 157,
   "metadata": {},
   "outputs": [],
   "source": [
    "# Create a for loop to compute the inertia with each possible value of k\n",
    "# Inside the loop:\n",
    "# 1. Create a KMeans model using the loop counter for the n_clusters\n",
    "# 2. Fit the model to the data using `df_market_data_scaled`\n",
    "# 3. Append the model.inertia_ to the inertia list\n",
    "for i in k:\n",
    "    model = KMeans(n_clusters=i, random_state=0)\n",
    "    model.fit(df_market_data_scaled)\n",
    "    inertia.append(model.inertia_)  "
   ]
  },
  {
   "cell_type": "code",
   "execution_count": 156,
   "metadata": {},
   "outputs": [],
   "source": [
    "# Create a dictionary with the data to plot the Elbow curve\n",
    "elbow_data = {\n",
    "    \"k\": k,\n",
    "    \"inertia\": inertia\n",
    "}\n",
    "\n",
    "# Create a DataFrame with the data to plot the Elbow curve\n",
    "df_elbow = pd.DataFrame(elbow_data)"
   ]
  },
  {
   "cell_type": "code",
   "execution_count": 159,
   "metadata": {},
   "outputs": [
    {
     "data": {},
     "metadata": {},
     "output_type": "display_data"
    },
    {
     "data": {
      "application/vnd.holoviews_exec.v0+json": "",
      "text/html": [
       "<div id='3075'>\n",
       "\n",
       "\n",
       "\n",
       "\n",
       "\n",
       "  <div class=\"bk-root\" id=\"10414863-d29d-4a28-9c95-7d452744d7d7\" data-root-id=\"3075\"></div>\n",
       "</div>\n",
       "<script type=\"application/javascript\">(function(root) {\n",
       "  function embed_document(root) {\n",
       "    var docs_json = {\"6685aaca-2a74-459f-89b3-3aa3221adcb1\":{\"defs\":[{\"extends\":null,\"module\":null,\"name\":\"ReactiveHTML1\",\"overrides\":[],\"properties\":[]},{\"extends\":null,\"module\":null,\"name\":\"FlexBox1\",\"overrides\":[],\"properties\":[{\"default\":\"flex-start\",\"kind\":null,\"name\":\"align_content\"},{\"default\":\"flex-start\",\"kind\":null,\"name\":\"align_items\"},{\"default\":\"row\",\"kind\":null,\"name\":\"flex_direction\"},{\"default\":\"wrap\",\"kind\":null,\"name\":\"flex_wrap\"},{\"default\":\"flex-start\",\"kind\":null,\"name\":\"justify_content\"}]},{\"extends\":null,\"module\":null,\"name\":\"GridStack1\",\"overrides\":[],\"properties\":[{\"default\":\"warn\",\"kind\":null,\"name\":\"mode\"},{\"default\":null,\"kind\":null,\"name\":\"ncols\"},{\"default\":null,\"kind\":null,\"name\":\"nrows\"},{\"default\":true,\"kind\":null,\"name\":\"allow_resize\"},{\"default\":true,\"kind\":null,\"name\":\"allow_drag\"},{\"default\":[],\"kind\":null,\"name\":\"state\"}]},{\"extends\":null,\"module\":null,\"name\":\"click1\",\"overrides\":[],\"properties\":[{\"default\":\"\",\"kind\":null,\"name\":\"terminal_output\"},{\"default\":\"\",\"kind\":null,\"name\":\"debug_name\"},{\"default\":0,\"kind\":null,\"name\":\"clears\"}]},{\"extends\":null,\"module\":null,\"name\":\"TemplateActions1\",\"overrides\":[],\"properties\":[{\"default\":0,\"kind\":null,\"name\":\"open_modal\"},{\"default\":0,\"kind\":null,\"name\":\"close_modal\"}]},{\"extends\":null,\"module\":null,\"name\":\"MaterialTemplateActions1\",\"overrides\":[],\"properties\":[{\"default\":0,\"kind\":null,\"name\":\"open_modal\"},{\"default\":0,\"kind\":null,\"name\":\"close_modal\"}]}],\"roots\":{\"references\":[{\"attributes\":{\"tools\":[{\"id\":\"3079\"},{\"id\":\"3097\"},{\"id\":\"3098\"},{\"id\":\"3099\"},{\"id\":\"3100\"},{\"id\":\"3101\"}]},\"id\":\"3103\",\"type\":\"Toolbar\"},{\"attributes\":{\"overlay\":{\"id\":\"3102\"}},\"id\":\"3100\",\"type\":\"BoxZoomTool\"},{\"attributes\":{},\"id\":\"3134\",\"type\":\"UnionRenderers\"},{\"attributes\":{\"data\":{\"inertia\":{\"__ndarray__\":\"AAAAAADwcUByhzI6P3poQOGRvNowzF5AF+6ulG/BU0BnEQsuWlNQQOXqC/e6cUpAiCebkxT1RUBu++EeLsJCQMB0IF8cPkBAineL7Q85PEA=\",\"dtype\":\"float64\",\"order\":\"little\",\"shape\":[10]},\"k\":[1,2,3,4,5,6,7,8,9,10]},\"selected\":{\"id\":\"3111\"},\"selection_policy\":{\"id\":\"3134\"}},\"id\":\"3110\",\"type\":\"ColumnDataSource\"},{\"attributes\":{},\"id\":\"3126\",\"type\":\"BasicTickFormatter\"},{\"attributes\":{\"coordinates\":null,\"group\":null,\"text\":\"Elbow Curve\",\"text_color\":\"black\",\"text_font_size\":\"12pt\"},\"id\":\"3081\",\"type\":\"Title\"},{\"attributes\":{\"line_color\":\"#30a2da\",\"line_width\":2,\"x\":{\"field\":\"k\"},\"y\":{\"field\":\"inertia\"}},\"id\":\"3113\",\"type\":\"Line\"},{\"attributes\":{\"axis\":{\"id\":\"3089\"},\"coordinates\":null,\"grid_line_color\":null,\"group\":null,\"ticker\":null},\"id\":\"3092\",\"type\":\"Grid\"},{\"attributes\":{},\"id\":\"3098\",\"type\":\"PanTool\"},{\"attributes\":{\"ticks\":[1,2,3,4,5,6,7,8,9,10]},\"id\":\"3119\",\"type\":\"FixedTicker\"},{\"attributes\":{\"coordinates\":null,\"data_source\":{\"id\":\"3110\"},\"glyph\":{\"id\":\"3113\"},\"group\":null,\"hover_glyph\":null,\"muted_glyph\":{\"id\":\"3115\"},\"nonselection_glyph\":{\"id\":\"3114\"},\"selection_glyph\":{\"id\":\"3118\"},\"view\":{\"id\":\"3117\"}},\"id\":\"3116\",\"type\":\"GlyphRenderer\"},{\"attributes\":{\"bottom_units\":\"screen\",\"coordinates\":null,\"fill_alpha\":0.5,\"fill_color\":\"lightgrey\",\"group\":null,\"left_units\":\"screen\",\"level\":\"overlay\",\"line_alpha\":1.0,\"line_color\":\"black\",\"line_dash\":[4,4],\"line_width\":2,\"right_units\":\"screen\",\"syncable\":false,\"top_units\":\"screen\"},\"id\":\"3102\",\"type\":\"BoxAnnotation\"},{\"attributes\":{},\"id\":\"3085\",\"type\":\"LinearScale\"},{\"attributes\":{\"end\":10.0,\"reset_end\":10.0,\"reset_start\":1.0,\"start\":1.0,\"tags\":[[[\"k\",\"k\",null]]]},\"id\":\"3077\",\"type\":\"Range1d\"},{\"attributes\":{\"axis_label\":\"k\",\"coordinates\":null,\"formatter\":{\"id\":\"3121\"},\"group\":null,\"major_label_policy\":{\"id\":\"3122\"},\"ticker\":{\"id\":\"3119\"}},\"id\":\"3089\",\"type\":\"LinearAxis\"},{\"attributes\":{\"line_alpha\":0.1,\"line_color\":\"#30a2da\",\"line_width\":2,\"x\":{\"field\":\"k\"},\"y\":{\"field\":\"inertia\"}},\"id\":\"3114\",\"type\":\"Line\"},{\"attributes\":{},\"id\":\"3111\",\"type\":\"Selection\"},{\"attributes\":{\"end\":312.8777100709391,\"reset_end\":312.8777100709391,\"reset_start\":2.345189219669823,\"start\":2.345189219669823,\"tags\":[[[\"inertia\",\"inertia\",null]]]},\"id\":\"3078\",\"type\":\"Range1d\"},{\"attributes\":{},\"id\":\"3101\",\"type\":\"ResetTool\"},{\"attributes\":{},\"id\":\"3122\",\"type\":\"AllLabels\"},{\"attributes\":{\"children\":[{\"id\":\"3076\"},{\"id\":\"3080\"},{\"id\":\"3146\"}],\"margin\":[0,0,0,0],\"name\":\"Row06314\",\"tags\":[\"embedded\"]},\"id\":\"3075\",\"type\":\"Row\"},{\"attributes\":{},\"id\":\"3127\",\"type\":\"AllLabels\"},{\"attributes\":{},\"id\":\"3121\",\"type\":\"BasicTickFormatter\"},{\"attributes\":{\"line_alpha\":0.2,\"line_color\":\"#30a2da\",\"line_width\":2,\"x\":{\"field\":\"k\"},\"y\":{\"field\":\"inertia\"}},\"id\":\"3115\",\"type\":\"Line\"},{\"attributes\":{\"margin\":[5,5,5,5],\"name\":\"HSpacer06319\",\"sizing_mode\":\"stretch_width\"},\"id\":\"3146\",\"type\":\"Spacer\"},{\"attributes\":{\"source\":{\"id\":\"3110\"}},\"id\":\"3117\",\"type\":\"CDSView\"},{\"attributes\":{},\"id\":\"3087\",\"type\":\"LinearScale\"},{\"attributes\":{\"axis_label\":\"inertia\",\"coordinates\":null,\"formatter\":{\"id\":\"3126\"},\"group\":null,\"major_label_policy\":{\"id\":\"3127\"},\"ticker\":{\"id\":\"3094\"}},\"id\":\"3093\",\"type\":\"LinearAxis\"},{\"attributes\":{\"below\":[{\"id\":\"3089\"}],\"center\":[{\"id\":\"3092\"},{\"id\":\"3096\"}],\"height\":300,\"left\":[{\"id\":\"3093\"}],\"margin\":[5,5,5,5],\"min_border_bottom\":10,\"min_border_left\":10,\"min_border_right\":10,\"min_border_top\":10,\"renderers\":[{\"id\":\"3116\"}],\"sizing_mode\":\"fixed\",\"title\":{\"id\":\"3081\"},\"toolbar\":{\"id\":\"3103\"},\"width\":700,\"x_range\":{\"id\":\"3077\"},\"x_scale\":{\"id\":\"3085\"},\"y_range\":{\"id\":\"3078\"},\"y_scale\":{\"id\":\"3087\"}},\"id\":\"3080\",\"subtype\":\"Figure\",\"type\":\"Plot\"},{\"attributes\":{},\"id\":\"3097\",\"type\":\"SaveTool\"},{\"attributes\":{},\"id\":\"3094\",\"type\":\"BasicTicker\"},{\"attributes\":{},\"id\":\"3099\",\"type\":\"WheelZoomTool\"},{\"attributes\":{\"margin\":[5,5,5,5],\"name\":\"HSpacer06318\",\"sizing_mode\":\"stretch_width\"},\"id\":\"3076\",\"type\":\"Spacer\"},{\"attributes\":{\"callback\":null,\"renderers\":[{\"id\":\"3116\"}],\"tags\":[\"hv_created\"],\"tooltips\":[[\"k\",\"@{k}\"],[\"inertia\",\"@{inertia}\"]]},\"id\":\"3079\",\"type\":\"HoverTool\"},{\"attributes\":{\"axis\":{\"id\":\"3093\"},\"coordinates\":null,\"dimension\":1,\"grid_line_color\":null,\"group\":null,\"ticker\":null},\"id\":\"3096\",\"type\":\"Grid\"},{\"attributes\":{\"line_color\":\"#30a2da\",\"line_width\":2,\"x\":{\"field\":\"k\"},\"y\":{\"field\":\"inertia\"}},\"id\":\"3118\",\"type\":\"Line\"}],\"root_ids\":[\"3075\"]},\"title\":\"Bokeh Application\",\"version\":\"2.4.2\"}};\n",
       "    var render_items = [{\"docid\":\"6685aaca-2a74-459f-89b3-3aa3221adcb1\",\"root_ids\":[\"3075\"],\"roots\":{\"3075\":\"10414863-d29d-4a28-9c95-7d452744d7d7\"}}];\n",
       "    root.Bokeh.embed.embed_items_notebook(docs_json, render_items);\n",
       "  }\n",
       "  if (root.Bokeh !== undefined && root.Bokeh.Panel !== undefined) {\n",
       "    embed_document(root);\n",
       "  } else {\n",
       "    var attempts = 0;\n",
       "    var timer = setInterval(function(root) {\n",
       "      if (root.Bokeh !== undefined && root.Bokeh.Panel !== undefined) {\n",
       "        clearInterval(timer);\n",
       "        embed_document(root);\n",
       "      } else if (document.readyState == \"complete\") {\n",
       "        attempts++;\n",
       "        if (attempts > 200) {\n",
       "          clearInterval(timer);\n",
       "          console.log(\"Bokeh: ERROR: Unable to run BokehJS code because BokehJS library is missing\");\n",
       "        }\n",
       "      }\n",
       "    }, 25, root)\n",
       "  }\n",
       "})(window);</script>"
      ],
      "text/plain": [
       ":Curve   [k]   (inertia)"
      ]
     },
     "execution_count": 159,
     "metadata": {
      "application/vnd.holoviews_exec.v0+json": {
       "id": "3075"
      }
     },
     "output_type": "execute_result"
    }
   ],
   "source": [
    "# Plot a line chart with all the inertia values computed with \n",
    "# the different values of k to visually identify the optimal value for k.\n",
    "elbow_plot1= df_elbow.hvplot.line(\n",
    "    x=\"k\",\n",
    "    y=\"inertia\",\n",
    "    title=\"Elbow Curve\",\n",
    "    xticks=k\n",
    ")\n",
    "elbow_plot1"
   ]
  },
  {
   "cell_type": "markdown",
   "metadata": {},
   "source": [
    "#### Answer the following question: What is the best value for k?\n",
    "**Question:** What is the best value for `k`?\n",
    "\n",
    "**Answer:** # Based on the elbow curve above, the best value for k is 4!"
   ]
  },
  {
   "cell_type": "markdown",
   "metadata": {},
   "source": [
    "---"
   ]
  },
  {
   "cell_type": "markdown",
   "metadata": {
    "tags": []
   },
   "source": [
    "### Cluster Cryptocurrencies with K-means Using the Original Data\n",
    "\n",
    "In this section, you will use the K-Means algorithm with the best value for `k` found in the previous section to cluster the cryptocurrencies according to the price changes of cryptocurrencies provided.\n",
    "\n",
    "1. Initialize the K-Means model with four clusters using the best value for `k`. \n",
    "\n",
    "2. Fit the K-Means model using the original data.\n",
    "\n",
    "3. Predict the clusters to group the cryptocurrencies using the original data. View the resulting array of cluster values.\n",
    "\n",
    "4. Create a copy of the original data and add a new column with the predicted clusters.\n",
    "\n",
    "5. Create a scatter plot using hvPlot by setting `x=\"price_change_percentage_24h\"` and `y=\"price_change_percentage_7d\"`. Color the graph points with the labels found using K-Means and add the crypto name in the `hover_cols` parameter to identify the cryptocurrency represented by each data point."
   ]
  },
  {
   "cell_type": "code",
   "execution_count": 93,
   "metadata": {},
   "outputs": [],
   "source": [
    "# Initialize the K-Means model using the best value for k\n",
    "# Best value for k\n",
    "best_k = 4\n",
    "\n",
    "# Initialize the K-Means model with four clusters\n",
    "kmeans = KMeans(n_clusters=best_k)\n"
   ]
  },
  {
   "cell_type": "code",
   "execution_count": 94,
   "metadata": {},
   "outputs": [
    {
     "data": {
      "text/plain": [
       "KMeans(n_clusters=4)"
      ]
     },
     "execution_count": 94,
     "metadata": {},
     "output_type": "execute_result"
    }
   ],
   "source": [
    "# Fit the K-Means model using the scaled data\n",
    "kmeans.fit(df_market_data_scaled)"
   ]
  },
  {
   "cell_type": "code",
   "execution_count": 97,
   "metadata": {},
   "outputs": [
    {
     "name": "stdout",
     "output_type": "stream",
     "text": [
      "[2 2 0 0 2 2 2 2 2 0 0 0 0 2 0 2 0 0 2 0 0 2 0 0 0 0 0 0 2 0 0 0 1 2 0 0 3\n",
      " 0 0 0 0]\n"
     ]
    }
   ],
   "source": [
    "# Predict the clusters to group the cryptocurrencies using the scaled data\n",
    "clusters_crypto = kmeans.predict(df_market_data_scaled)\n",
    "\n",
    "# View the resulting array of cluster values.\n",
    "print(clusters_crypto)"
   ]
  },
  {
   "cell_type": "code",
   "execution_count": 99,
   "metadata": {},
   "outputs": [],
   "source": [
    "# Create a copy of the DataFrame\n",
    "df_market_data_scaled_cluster = df_market_data_scaled.copy()"
   ]
  },
  {
   "cell_type": "code",
   "execution_count": 101,
   "metadata": {},
   "outputs": [
    {
     "data": {
      "text/html": [
       "<div>\n",
       "<style scoped>\n",
       "    .dataframe tbody tr th:only-of-type {\n",
       "        vertical-align: middle;\n",
       "    }\n",
       "\n",
       "    .dataframe tbody tr th {\n",
       "        vertical-align: top;\n",
       "    }\n",
       "\n",
       "    .dataframe thead th {\n",
       "        text-align: right;\n",
       "    }\n",
       "</style>\n",
       "<table border=\"1\" class=\"dataframe\">\n",
       "  <thead>\n",
       "    <tr style=\"text-align: right;\">\n",
       "      <th></th>\n",
       "      <th>price_change_percentage_24h</th>\n",
       "      <th>price_change_percentage_7d</th>\n",
       "      <th>price_change_percentage_14d</th>\n",
       "      <th>price_change_percentage_30d</th>\n",
       "      <th>price_change_percentage_60d</th>\n",
       "      <th>price_change_percentage_200d</th>\n",
       "      <th>price_change_percentage_1y</th>\n",
       "      <th>Predicted Clusters</th>\n",
       "    </tr>\n",
       "    <tr>\n",
       "      <th>coin_id</th>\n",
       "      <th></th>\n",
       "      <th></th>\n",
       "      <th></th>\n",
       "      <th></th>\n",
       "      <th></th>\n",
       "      <th></th>\n",
       "      <th></th>\n",
       "      <th></th>\n",
       "    </tr>\n",
       "  </thead>\n",
       "  <tbody>\n",
       "    <tr>\n",
       "      <th>bitcoin</th>\n",
       "      <td>0.508529</td>\n",
       "      <td>0.493193</td>\n",
       "      <td>0.772200</td>\n",
       "      <td>0.235460</td>\n",
       "      <td>-0.067495</td>\n",
       "      <td>-0.355953</td>\n",
       "      <td>-0.251637</td>\n",
       "      <td>2</td>\n",
       "    </tr>\n",
       "    <tr>\n",
       "      <th>ethereum</th>\n",
       "      <td>0.185446</td>\n",
       "      <td>0.934445</td>\n",
       "      <td>0.558692</td>\n",
       "      <td>-0.054341</td>\n",
       "      <td>-0.273483</td>\n",
       "      <td>-0.115759</td>\n",
       "      <td>-0.199352</td>\n",
       "      <td>2</td>\n",
       "    </tr>\n",
       "    <tr>\n",
       "      <th>tether</th>\n",
       "      <td>0.021774</td>\n",
       "      <td>-0.706337</td>\n",
       "      <td>-0.021680</td>\n",
       "      <td>-0.061030</td>\n",
       "      <td>0.008005</td>\n",
       "      <td>-0.550247</td>\n",
       "      <td>-0.282061</td>\n",
       "      <td>0</td>\n",
       "    </tr>\n",
       "    <tr>\n",
       "      <th>ripple</th>\n",
       "      <td>-0.040764</td>\n",
       "      <td>-0.810928</td>\n",
       "      <td>0.249458</td>\n",
       "      <td>-0.050388</td>\n",
       "      <td>-0.373164</td>\n",
       "      <td>-0.458259</td>\n",
       "      <td>-0.295546</td>\n",
       "      <td>0</td>\n",
       "    </tr>\n",
       "    <tr>\n",
       "      <th>bitcoin-cash</th>\n",
       "      <td>1.193036</td>\n",
       "      <td>2.000959</td>\n",
       "      <td>1.760610</td>\n",
       "      <td>0.545842</td>\n",
       "      <td>-0.291203</td>\n",
       "      <td>-0.499848</td>\n",
       "      <td>-0.270317</td>\n",
       "      <td>2</td>\n",
       "    </tr>\n",
       "  </tbody>\n",
       "</table>\n",
       "</div>"
      ],
      "text/plain": [
       "              price_change_percentage_24h  price_change_percentage_7d  \\\n",
       "coin_id                                                                 \n",
       "bitcoin                          0.508529                    0.493193   \n",
       "ethereum                         0.185446                    0.934445   \n",
       "tether                           0.021774                   -0.706337   \n",
       "ripple                          -0.040764                   -0.810928   \n",
       "bitcoin-cash                     1.193036                    2.000959   \n",
       "\n",
       "              price_change_percentage_14d  price_change_percentage_30d  \\\n",
       "coin_id                                                                  \n",
       "bitcoin                          0.772200                     0.235460   \n",
       "ethereum                         0.558692                    -0.054341   \n",
       "tether                          -0.021680                    -0.061030   \n",
       "ripple                           0.249458                    -0.050388   \n",
       "bitcoin-cash                     1.760610                     0.545842   \n",
       "\n",
       "              price_change_percentage_60d  price_change_percentage_200d  \\\n",
       "coin_id                                                                   \n",
       "bitcoin                         -0.067495                     -0.355953   \n",
       "ethereum                        -0.273483                     -0.115759   \n",
       "tether                           0.008005                     -0.550247   \n",
       "ripple                          -0.373164                     -0.458259   \n",
       "bitcoin-cash                    -0.291203                     -0.499848   \n",
       "\n",
       "              price_change_percentage_1y  Predicted Clusters  \n",
       "coin_id                                                       \n",
       "bitcoin                        -0.251637                   2  \n",
       "ethereum                       -0.199352                   2  \n",
       "tether                         -0.282061                   0  \n",
       "ripple                         -0.295546                   0  \n",
       "bitcoin-cash                   -0.270317                   2  "
      ]
     },
     "execution_count": 101,
     "metadata": {},
     "output_type": "execute_result"
    }
   ],
   "source": [
    "# Add a new column to the DataFrame with the predicted clusters\n",
    "df_market_data_scaled_cluster[\"Predicted Clusters\"] = clusters_crypto\n",
    "\n",
    "# Display sample data\n",
    "df_market_data_scaled_cluster.head()"
   ]
  },
  {
   "cell_type": "code",
   "execution_count": 164,
   "metadata": {},
   "outputs": [
    {
     "data": {},
     "metadata": {},
     "output_type": "display_data"
    },
    {
     "data": {
      "application/vnd.holoviews_exec.v0+json": "",
      "text/html": [
       "<div id='4425'>\n",
       "\n",
       "\n",
       "\n",
       "\n",
       "\n",
       "  <div class=\"bk-root\" id=\"c6492343-7b4b-4ef5-a63a-d55ed1c409da\" data-root-id=\"4425\"></div>\n",
       "</div>\n",
       "<script type=\"application/javascript\">(function(root) {\n",
       "  function embed_document(root) {\n",
       "    var docs_json = {\"e23669ee-2f9e-4e7a-93b2-1879398db3af\":{\"defs\":[{\"extends\":null,\"module\":null,\"name\":\"ReactiveHTML1\",\"overrides\":[],\"properties\":[]},{\"extends\":null,\"module\":null,\"name\":\"FlexBox1\",\"overrides\":[],\"properties\":[{\"default\":\"flex-start\",\"kind\":null,\"name\":\"align_content\"},{\"default\":\"flex-start\",\"kind\":null,\"name\":\"align_items\"},{\"default\":\"row\",\"kind\":null,\"name\":\"flex_direction\"},{\"default\":\"wrap\",\"kind\":null,\"name\":\"flex_wrap\"},{\"default\":\"flex-start\",\"kind\":null,\"name\":\"justify_content\"}]},{\"extends\":null,\"module\":null,\"name\":\"GridStack1\",\"overrides\":[],\"properties\":[{\"default\":\"warn\",\"kind\":null,\"name\":\"mode\"},{\"default\":null,\"kind\":null,\"name\":\"ncols\"},{\"default\":null,\"kind\":null,\"name\":\"nrows\"},{\"default\":true,\"kind\":null,\"name\":\"allow_resize\"},{\"default\":true,\"kind\":null,\"name\":\"allow_drag\"},{\"default\":[],\"kind\":null,\"name\":\"state\"}]},{\"extends\":null,\"module\":null,\"name\":\"click1\",\"overrides\":[],\"properties\":[{\"default\":\"\",\"kind\":null,\"name\":\"terminal_output\"},{\"default\":\"\",\"kind\":null,\"name\":\"debug_name\"},{\"default\":0,\"kind\":null,\"name\":\"clears\"}]},{\"extends\":null,\"module\":null,\"name\":\"TemplateActions1\",\"overrides\":[],\"properties\":[{\"default\":0,\"kind\":null,\"name\":\"open_modal\"},{\"default\":0,\"kind\":null,\"name\":\"close_modal\"}]},{\"extends\":null,\"module\":null,\"name\":\"MaterialTemplateActions1\",\"overrides\":[],\"properties\":[{\"default\":0,\"kind\":null,\"name\":\"open_modal\"},{\"default\":0,\"kind\":null,\"name\":\"close_modal\"}]}],\"roots\":{\"references\":[{\"attributes\":{},\"id\":\"4465\",\"type\":\"AllLabels\"},{\"attributes\":{\"bottom_units\":\"screen\",\"coordinates\":null,\"fill_alpha\":0.5,\"fill_color\":\"lightgrey\",\"group\":null,\"left_units\":\"screen\",\"level\":\"overlay\",\"line_alpha\":1.0,\"line_color\":\"black\",\"line_dash\":[4,4],\"line_width\":2,\"right_units\":\"screen\",\"syncable\":false,\"top_units\":\"screen\"},\"id\":\"4455\",\"type\":\"BoxAnnotation\"},{\"attributes\":{\"angle\":{\"value\":0.0},\"fill_alpha\":{\"value\":1.0},\"fill_color\":{\"value\":\"#30a2da\"},\"hatch_alpha\":{\"value\":1.0},\"hatch_color\":{\"value\":\"#30a2da\"},\"hatch_scale\":{\"value\":12.0},\"hatch_weight\":{\"value\":1.0},\"line_alpha\":{\"value\":1.0},\"line_cap\":{\"value\":\"butt\"},\"line_color\":{\"value\":\"#30a2da\"},\"line_dash\":{\"value\":[]},\"line_dash_offset\":{\"value\":0},\"line_join\":{\"value\":\"bevel\"},\"line_width\":{\"value\":1},\"marker\":{\"value\":\"circle\"},\"size\":{\"value\":5.477225575051661},\"x\":{\"field\":\"price_change_percentage_24h\"},\"y\":{\"field\":\"price_change_percentage_7d\"}},\"id\":\"4489\",\"type\":\"Scatter\"},{\"attributes\":{\"angle\":{\"value\":0.0},\"fill_alpha\":{\"value\":1.0},\"fill_color\":{\"value\":\"#e5ae38\"},\"hatch_alpha\":{\"value\":1.0},\"hatch_color\":{\"value\":\"#e5ae38\"},\"hatch_scale\":{\"value\":12.0},\"hatch_weight\":{\"value\":1.0},\"line_alpha\":{\"value\":1.0},\"line_cap\":{\"value\":\"butt\"},\"line_color\":{\"value\":\"#e5ae38\"},\"line_dash\":{\"value\":[]},\"line_dash_offset\":{\"value\":0},\"line_join\":{\"value\":\"bevel\"},\"line_width\":{\"value\":1},\"marker\":{\"value\":\"circle\"},\"size\":{\"value\":5.477225575051661},\"x\":{\"field\":\"price_change_percentage_24h\"},\"y\":{\"field\":\"price_change_percentage_7d\"}},\"id\":\"4535\",\"type\":\"Scatter\"},{\"attributes\":{\"coordinates\":null,\"data_source\":{\"id\":\"4536\"},\"glyph\":{\"id\":\"4539\"},\"group\":null,\"hover_glyph\":null,\"muted_glyph\":{\"id\":\"4541\"},\"nonselection_glyph\":{\"id\":\"4540\"},\"selection_glyph\":{\"id\":\"4561\"},\"view\":{\"id\":\"4543\"}},\"id\":\"4542\",\"type\":\"GlyphRenderer\"},{\"attributes\":{\"tools\":[{\"id\":\"4429\"},{\"id\":\"4450\"},{\"id\":\"4451\"},{\"id\":\"4452\"},{\"id\":\"4453\"},{\"id\":\"4454\"}]},\"id\":\"4456\",\"type\":\"Toolbar\"},{\"attributes\":{},\"id\":\"4464\",\"type\":\"BasicTickFormatter\"},{\"attributes\":{},\"id\":\"4468\",\"type\":\"AllLabels\"},{\"attributes\":{},\"id\":\"4467\",\"type\":\"BasicTickFormatter\"},{\"attributes\":{\"angle\":{\"value\":0.0},\"fill_alpha\":{\"value\":1.0},\"fill_color\":{\"value\":\"#fc4f30\"},\"hatch_alpha\":{\"value\":1.0},\"hatch_color\":{\"value\":\"#fc4f30\"},\"hatch_scale\":{\"value\":12.0},\"hatch_weight\":{\"value\":1.0},\"line_alpha\":{\"value\":1.0},\"line_cap\":{\"value\":\"butt\"},\"line_color\":{\"value\":\"#fc4f30\"},\"line_dash\":{\"value\":[]},\"line_dash_offset\":{\"value\":0},\"line_join\":{\"value\":\"bevel\"},\"line_width\":{\"value\":1},\"marker\":{\"value\":\"circle\"},\"size\":{\"value\":5.477225575051661},\"x\":{\"field\":\"price_change_percentage_24h\"},\"y\":{\"field\":\"price_change_percentage_7d\"}},\"id\":\"4511\",\"type\":\"Scatter\"},{\"attributes\":{},\"id\":\"4513\",\"type\":\"Selection\"},{\"attributes\":{\"end\":2.2155632386560065,\"reset_end\":2.2155632386560065,\"reset_start\":-5.276792781891412,\"start\":-5.276792781891412,\"tags\":[[[\"price_change_percentage_24h\",\"price_change_percentage_24h\",null]]]},\"id\":\"4427\",\"type\":\"Range1d\"},{\"attributes\":{},\"id\":\"4470\",\"type\":\"Selection\"},{\"attributes\":{},\"id\":\"4438\",\"type\":\"LinearScale\"},{\"attributes\":{\"data\":{\"Predicted_Clusters\":[1],\"coin_id\":[\"ethlend\"],\"price_change_percentage_24h\":{\"__ndarray__\":\"3WeHPpbsE8A=\",\"dtype\":\"float64\",\"order\":\"little\",\"shape\":[1]},\"price_change_percentage_7d\":{\"__ndarray__\":\"dIWi2pshp78=\",\"dtype\":\"float64\",\"order\":\"little\",\"shape\":[1]}},\"selected\":{\"id\":\"4491\"},\"selection_policy\":{\"id\":\"4507\"}},\"id\":\"4490\",\"type\":\"ColumnDataSource\"},{\"attributes\":{\"callback\":null,\"renderers\":[{\"id\":\"4475\"},{\"id\":\"4496\"},{\"id\":\"4518\"},{\"id\":\"4542\"}],\"tags\":[\"hv_created\"],\"tooltips\":[[\"Predicted Clusters\",\"@{Predicted_Clusters}\"],[\"price_change_percentage_24h\",\"@{price_change_percentage_24h}\"],[\"price_change_percentage_7d\",\"@{price_change_percentage_7d}\"],[\"coin_id\",\"@{coin_id}\"]]},\"id\":\"4429\",\"type\":\"HoverTool\"},{\"attributes\":{},\"id\":\"4531\",\"type\":\"UnionRenderers\"},{\"attributes\":{\"label\":{\"value\":\"2\"},\"renderers\":[{\"id\":\"4518\"}]},\"id\":\"4534\",\"type\":\"LegendItem\"},{\"attributes\":{},\"id\":\"4440\",\"type\":\"LinearScale\"},{\"attributes\":{\"fill_alpha\":{\"value\":0.1},\"fill_color\":{\"value\":\"#6d904f\"},\"hatch_alpha\":{\"value\":0.1},\"hatch_color\":{\"value\":\"#6d904f\"},\"line_alpha\":{\"value\":0.1},\"line_color\":{\"value\":\"#6d904f\"},\"size\":{\"value\":5.477225575051661},\"x\":{\"field\":\"price_change_percentage_24h\"},\"y\":{\"field\":\"price_change_percentage_7d\"}},\"id\":\"4540\",\"type\":\"Scatter\"},{\"attributes\":{\"label\":{\"value\":\"0\"},\"renderers\":[{\"id\":\"4475\"}]},\"id\":\"4488\",\"type\":\"LegendItem\"},{\"attributes\":{\"coordinates\":null,\"data_source\":{\"id\":\"4469\"},\"glyph\":{\"id\":\"4472\"},\"group\":null,\"hover_glyph\":null,\"muted_glyph\":{\"id\":\"4474\"},\"nonselection_glyph\":{\"id\":\"4473\"},\"selection_glyph\":{\"id\":\"4489\"},\"view\":{\"id\":\"4476\"}},\"id\":\"4475\",\"type\":\"GlyphRenderer\"},{\"attributes\":{},\"id\":\"4491\",\"type\":\"Selection\"},{\"attributes\":{\"label\":{\"value\":\"3\"},\"renderers\":[{\"id\":\"4542\"}]},\"id\":\"4560\",\"type\":\"LegendItem\"},{\"attributes\":{\"click_policy\":\"mute\",\"coordinates\":null,\"group\":null,\"items\":[{\"id\":\"4488\"},{\"id\":\"4510\"},{\"id\":\"4534\"},{\"id\":\"4560\"}],\"location\":[0,0],\"title\":\"Predicted Clusters\"},\"id\":\"4487\",\"type\":\"Legend\"},{\"attributes\":{\"source\":{\"id\":\"4536\"}},\"id\":\"4543\",\"type\":\"CDSView\"},{\"attributes\":{\"end\":2.997678656273595,\"reset_end\":2.997678656273595,\"reset_start\":-2.107454305728652,\"start\":-2.107454305728652,\"tags\":[[[\"price_change_percentage_7d\",\"price_change_percentage_7d\",null]]]},\"id\":\"4428\",\"type\":\"Range1d\"},{\"attributes\":{\"data\":{\"Predicted_Clusters\":[3],\"coin_id\":[\"celsius-degree-token\"],\"price_change_percentage_24h\":{\"__ndarray__\":\"VLqXBn668D8=\",\"dtype\":\"float64\",\"order\":\"little\",\"shape\":[1]},\"price_change_percentage_7d\":{\"__ndarray__\":\"Nv03JFjJ478=\",\"dtype\":\"float64\",\"order\":\"little\",\"shape\":[1]}},\"selected\":{\"id\":\"4537\"},\"selection_policy\":{\"id\":\"4557\"}},\"id\":\"4536\",\"type\":\"ColumnDataSource\"},{\"attributes\":{\"below\":[{\"id\":\"4442\"}],\"center\":[{\"id\":\"4445\"},{\"id\":\"4449\"}],\"height\":300,\"left\":[{\"id\":\"4446\"}],\"margin\":[5,5,5,5],\"min_border_bottom\":10,\"min_border_left\":10,\"min_border_right\":10,\"min_border_top\":10,\"renderers\":[{\"id\":\"4475\"},{\"id\":\"4496\"},{\"id\":\"4518\"},{\"id\":\"4542\"}],\"right\":[{\"id\":\"4487\"}],\"sizing_mode\":\"fixed\",\"title\":{\"id\":\"4434\"},\"toolbar\":{\"id\":\"4456\"},\"width\":700,\"x_range\":{\"id\":\"4427\"},\"x_scale\":{\"id\":\"4438\"},\"y_range\":{\"id\":\"4428\"},\"y_scale\":{\"id\":\"4440\"}},\"id\":\"4433\",\"subtype\":\"Figure\",\"type\":\"Plot\"},{\"attributes\":{\"fill_color\":{\"value\":\"#6d904f\"},\"hatch_color\":{\"value\":\"#6d904f\"},\"line_color\":{\"value\":\"#6d904f\"},\"size\":{\"value\":5.477225575051661},\"x\":{\"field\":\"price_change_percentage_24h\"},\"y\":{\"field\":\"price_change_percentage_7d\"}},\"id\":\"4539\",\"type\":\"Scatter\"},{\"attributes\":{\"coordinates\":null,\"group\":null,\"text\":\"Cryptocurrency Market Data Clustered by K-Means\",\"text_color\":\"black\",\"text_font_size\":\"12pt\"},\"id\":\"4434\",\"type\":\"Title\"},{\"attributes\":{\"data\":{\"Predicted_Clusters\":[2,2,2,2,2,2,2,2,2,2,2,2,2],\"coin_id\":[\"bitcoin\",\"ethereum\",\"bitcoin-cash\",\"binancecoin\",\"chainlink\",\"cardano\",\"litecoin\",\"monero\",\"tezos\",\"cosmos\",\"wrapped-bitcoin\",\"zcash\",\"maker\"],\"price_change_percentage_24h\":{\"__ndarray__\":\"DdlqYN9F4D86azDosLzHPzALIwCtFvM/9w6McDSK7D/VDHOpb1eHPzMEvaFkP7o/Sds39trWsz9Epj8/c9DQP4xAeNEVZ8O/qq8st/Fh0L8FWWk3mH7gP6wo083aUMC//ACFOIMFwL8=\",\"dtype\":\"float64\",\"order\":\"little\",\"shape\":[13]},\"price_change_percentage_7d\":{\"__ndarray__\":\"U1k8q3mQ3z9yoPpI+ebtPzAB2dP2AQBAgmkOMZk89T8FNulI+JMEQCZRaSLGIPg/84wjaB1l1T8rMp3jf678P2VmURqKqeY/XK6ZksNx/T9DfMqy1o7dPyTPDB1Xu+0/srW7TleV4j8=\",\"dtype\":\"float64\",\"order\":\"little\",\"shape\":[13]}},\"selected\":{\"id\":\"4513\"},\"selection_policy\":{\"id\":\"4531\"}},\"id\":\"4512\",\"type\":\"ColumnDataSource\"},{\"attributes\":{},\"id\":\"4443\",\"type\":\"BasicTicker\"},{\"attributes\":{},\"id\":\"4557\",\"type\":\"UnionRenderers\"},{\"attributes\":{\"axis\":{\"id\":\"4442\"},\"coordinates\":null,\"grid_line_color\":null,\"group\":null,\"ticker\":null},\"id\":\"4445\",\"type\":\"Grid\"},{\"attributes\":{\"fill_alpha\":{\"value\":0.2},\"fill_color\":{\"value\":\"#6d904f\"},\"hatch_alpha\":{\"value\":0.2},\"hatch_color\":{\"value\":\"#6d904f\"},\"line_alpha\":{\"value\":0.2},\"line_color\":{\"value\":\"#6d904f\"},\"size\":{\"value\":5.477225575051661},\"x\":{\"field\":\"price_change_percentage_24h\"},\"y\":{\"field\":\"price_change_percentage_7d\"}},\"id\":\"4541\",\"type\":\"Scatter\"},{\"attributes\":{},\"id\":\"4537\",\"type\":\"Selection\"},{\"attributes\":{\"axis_label\":\"Price Change Percentage 24h\",\"coordinates\":null,\"formatter\":{\"id\":\"4464\"},\"group\":null,\"major_label_policy\":{\"id\":\"4465\"},\"ticker\":{\"id\":\"4443\"}},\"id\":\"4442\",\"type\":\"LinearAxis\"},{\"attributes\":{},\"id\":\"4452\",\"type\":\"WheelZoomTool\"},{\"attributes\":{\"fill_color\":{\"value\":\"#e5ae38\"},\"hatch_color\":{\"value\":\"#e5ae38\"},\"line_color\":{\"value\":\"#e5ae38\"},\"size\":{\"value\":5.477225575051661},\"x\":{\"field\":\"price_change_percentage_24h\"},\"y\":{\"field\":\"price_change_percentage_7d\"}},\"id\":\"4515\",\"type\":\"Scatter\"},{\"attributes\":{},\"id\":\"4451\",\"type\":\"PanTool\"},{\"attributes\":{\"axis_label\":\"Price Change Percentage 7d\",\"coordinates\":null,\"formatter\":{\"id\":\"4467\"},\"group\":null,\"major_label_policy\":{\"id\":\"4468\"},\"ticker\":{\"id\":\"4447\"}},\"id\":\"4446\",\"type\":\"LinearAxis\"},{\"attributes\":{\"fill_alpha\":{\"value\":0.1},\"fill_color\":{\"value\":\"#e5ae38\"},\"hatch_alpha\":{\"value\":0.1},\"hatch_color\":{\"value\":\"#e5ae38\"},\"line_alpha\":{\"value\":0.1},\"line_color\":{\"value\":\"#e5ae38\"},\"size\":{\"value\":5.477225575051661},\"x\":{\"field\":\"price_change_percentage_24h\"},\"y\":{\"field\":\"price_change_percentage_7d\"}},\"id\":\"4516\",\"type\":\"Scatter\"},{\"attributes\":{\"axis\":{\"id\":\"4446\"},\"coordinates\":null,\"dimension\":1,\"grid_line_color\":null,\"group\":null,\"ticker\":null},\"id\":\"4449\",\"type\":\"Grid\"},{\"attributes\":{\"coordinates\":null,\"data_source\":{\"id\":\"4512\"},\"glyph\":{\"id\":\"4515\"},\"group\":null,\"hover_glyph\":null,\"muted_glyph\":{\"id\":\"4517\"},\"nonselection_glyph\":{\"id\":\"4516\"},\"selection_glyph\":{\"id\":\"4535\"},\"view\":{\"id\":\"4519\"}},\"id\":\"4518\",\"type\":\"GlyphRenderer\"},{\"attributes\":{\"source\":{\"id\":\"4469\"}},\"id\":\"4476\",\"type\":\"CDSView\"},{\"attributes\":{},\"id\":\"4447\",\"type\":\"BasicTicker\"},{\"attributes\":{\"margin\":[5,5,5,5],\"name\":\"HSpacer08050\",\"sizing_mode\":\"stretch_width\"},\"id\":\"4426\",\"type\":\"Spacer\"},{\"attributes\":{\"fill_alpha\":{\"value\":0.2},\"fill_color\":{\"value\":\"#30a2da\"},\"hatch_alpha\":{\"value\":0.2},\"hatch_color\":{\"value\":\"#30a2da\"},\"line_alpha\":{\"value\":0.2},\"line_color\":{\"value\":\"#30a2da\"},\"size\":{\"value\":5.477225575051661},\"x\":{\"field\":\"price_change_percentage_24h\"},\"y\":{\"field\":\"price_change_percentage_7d\"}},\"id\":\"4474\",\"type\":\"Scatter\"},{\"attributes\":{},\"id\":\"4450\",\"type\":\"SaveTool\"},{\"attributes\":{\"overlay\":{\"id\":\"4455\"}},\"id\":\"4453\",\"type\":\"BoxZoomTool\"},{\"attributes\":{\"fill_alpha\":{\"value\":0.2},\"fill_color\":{\"value\":\"#e5ae38\"},\"hatch_alpha\":{\"value\":0.2},\"hatch_color\":{\"value\":\"#e5ae38\"},\"line_alpha\":{\"value\":0.2},\"line_color\":{\"value\":\"#e5ae38\"},\"size\":{\"value\":5.477225575051661},\"x\":{\"field\":\"price_change_percentage_24h\"},\"y\":{\"field\":\"price_change_percentage_7d\"}},\"id\":\"4517\",\"type\":\"Scatter\"},{\"attributes\":{},\"id\":\"4454\",\"type\":\"ResetTool\"},{\"attributes\":{\"children\":[{\"id\":\"4426\"},{\"id\":\"4433\"},{\"id\":\"4706\"}],\"margin\":[0,0,0,0],\"name\":\"Row08046\",\"tags\":[\"embedded\"]},\"id\":\"4425\",\"type\":\"Row\"},{\"attributes\":{\"fill_color\":{\"value\":\"#30a2da\"},\"hatch_color\":{\"value\":\"#30a2da\"},\"line_color\":{\"value\":\"#30a2da\"},\"size\":{\"value\":5.477225575051661},\"x\":{\"field\":\"price_change_percentage_24h\"},\"y\":{\"field\":\"price_change_percentage_7d\"}},\"id\":\"4472\",\"type\":\"Scatter\"},{\"attributes\":{\"source\":{\"id\":\"4512\"}},\"id\":\"4519\",\"type\":\"CDSView\"},{\"attributes\":{\"label\":{\"value\":\"1\"},\"renderers\":[{\"id\":\"4496\"}]},\"id\":\"4510\",\"type\":\"LegendItem\"},{\"attributes\":{\"fill_alpha\":{\"value\":0.1},\"fill_color\":{\"value\":\"#fc4f30\"},\"hatch_alpha\":{\"value\":0.1},\"hatch_color\":{\"value\":\"#fc4f30\"},\"line_alpha\":{\"value\":0.1},\"line_color\":{\"value\":\"#fc4f30\"},\"size\":{\"value\":5.477225575051661},\"x\":{\"field\":\"price_change_percentage_24h\"},\"y\":{\"field\":\"price_change_percentage_7d\"}},\"id\":\"4494\",\"type\":\"Scatter\"},{\"attributes\":{\"data\":{\"Predicted_Clusters\":[0,0,0,0,0,0,0,0,0,0,0,0,0,0,0,0,0,0,0,0,0,0,0,0,0,0],\"coin_id\":[\"tether\",\"ripple\",\"bitcoin-cash-sv\",\"crypto-com-chain\",\"usd-coin\",\"eos\",\"tron\",\"okb\",\"stellar\",\"cdai\",\"neo\",\"leo-token\",\"huobi-token\",\"nem\",\"binance-usd\",\"iota\",\"vechain\",\"theta-token\",\"dash\",\"ethereum-classic\",\"havven\",\"omisego\",\"ontology\",\"ftx-token\",\"true-usd\",\"digibyte\"],\"price_change_percentage_24h\":{\"__ndarray__\":\"mCJF1OlLlj/mJRG3Ed+kv1qZGRifu9w//rJXHrAz1T/yMTqenpahPx9kk3dK7sM/GTRehHalwD90fnl54Irtv9XPDahDw9G/+VOWQSEmxz+kpbukw1bSP6eM4M4OgKo/BcMOj9+jqr/Chq6S5ebLv2h3TIfCZ68/weEQ8QyV0D/KmZTmC7niP1YH9WGFy/m/N7JuVBEB07/EU4GAhEGyv8Ocf0hw2/a/lrPBJY23/j/IKcQzxy3av5WrmDyeito/Bf22eE/6sz9Y362Ir3rzPw==\",\"dtype\":\"float64\",\"order\":\"little\",\"shape\":[26]},\"price_change_percentage_7d\":{\"__ndarray__\":\"bZSIvk+a5r9RujxqH/Ppvw2U7adXaMi/d+r7VGbW+b9EGSx/8nTnv4rfBo4Lhe2/BEBwXEEApb8Udj8VbP/2vySelkVDp9i/7SZvVsyO5r8uu+JVH+LUvziN+gRMte2/o2qlez1D3b/CtPLKIS7rvyYjaswHnea/US6joeTvzz/dRmuCvtDvv/9TV66U6fq/ZWX+mWVCuD8GJ0pHuV/Nv8nIE2ZWH5q/TTxj/me11z+Htdvf1gXtv2Avihmzf9o/e31xtwIC5r/STlu6Y3Ljvw==\",\"dtype\":\"float64\",\"order\":\"little\",\"shape\":[26]}},\"selected\":{\"id\":\"4470\"},\"selection_policy\":{\"id\":\"4484\"}},\"id\":\"4469\",\"type\":\"ColumnDataSource\"},{\"attributes\":{\"fill_alpha\":{\"value\":0.1},\"fill_color\":{\"value\":\"#30a2da\"},\"hatch_alpha\":{\"value\":0.1},\"hatch_color\":{\"value\":\"#30a2da\"},\"line_alpha\":{\"value\":0.1},\"line_color\":{\"value\":\"#30a2da\"},\"size\":{\"value\":5.477225575051661},\"x\":{\"field\":\"price_change_percentage_24h\"},\"y\":{\"field\":\"price_change_percentage_7d\"}},\"id\":\"4473\",\"type\":\"Scatter\"},{\"attributes\":{},\"id\":\"4484\",\"type\":\"UnionRenderers\"},{\"attributes\":{\"fill_color\":{\"value\":\"#fc4f30\"},\"hatch_color\":{\"value\":\"#fc4f30\"},\"line_color\":{\"value\":\"#fc4f30\"},\"size\":{\"value\":5.477225575051661},\"x\":{\"field\":\"price_change_percentage_24h\"},\"y\":{\"field\":\"price_change_percentage_7d\"}},\"id\":\"4493\",\"type\":\"Scatter\"},{\"attributes\":{\"coordinates\":null,\"data_source\":{\"id\":\"4490\"},\"glyph\":{\"id\":\"4493\"},\"group\":null,\"hover_glyph\":null,\"muted_glyph\":{\"id\":\"4495\"},\"nonselection_glyph\":{\"id\":\"4494\"},\"selection_glyph\":{\"id\":\"4511\"},\"view\":{\"id\":\"4497\"}},\"id\":\"4496\",\"type\":\"GlyphRenderer\"},{\"attributes\":{\"angle\":{\"value\":0.0},\"fill_alpha\":{\"value\":1.0},\"fill_color\":{\"value\":\"#6d904f\"},\"hatch_alpha\":{\"value\":1.0},\"hatch_color\":{\"value\":\"#6d904f\"},\"hatch_scale\":{\"value\":12.0},\"hatch_weight\":{\"value\":1.0},\"line_alpha\":{\"value\":1.0},\"line_cap\":{\"value\":\"butt\"},\"line_color\":{\"value\":\"#6d904f\"},\"line_dash\":{\"value\":[]},\"line_dash_offset\":{\"value\":0},\"line_join\":{\"value\":\"bevel\"},\"line_width\":{\"value\":1},\"marker\":{\"value\":\"circle\"},\"size\":{\"value\":5.477225575051661},\"x\":{\"field\":\"price_change_percentage_24h\"},\"y\":{\"field\":\"price_change_percentage_7d\"}},\"id\":\"4561\",\"type\":\"Scatter\"},{\"attributes\":{},\"id\":\"4507\",\"type\":\"UnionRenderers\"},{\"attributes\":{\"fill_alpha\":{\"value\":0.2},\"fill_color\":{\"value\":\"#fc4f30\"},\"hatch_alpha\":{\"value\":0.2},\"hatch_color\":{\"value\":\"#fc4f30\"},\"line_alpha\":{\"value\":0.2},\"line_color\":{\"value\":\"#fc4f30\"},\"size\":{\"value\":5.477225575051661},\"x\":{\"field\":\"price_change_percentage_24h\"},\"y\":{\"field\":\"price_change_percentage_7d\"}},\"id\":\"4495\",\"type\":\"Scatter\"},{\"attributes\":{\"margin\":[5,5,5,5],\"name\":\"HSpacer08051\",\"sizing_mode\":\"stretch_width\"},\"id\":\"4706\",\"type\":\"Spacer\"},{\"attributes\":{\"source\":{\"id\":\"4490\"}},\"id\":\"4497\",\"type\":\"CDSView\"}],\"root_ids\":[\"4425\"]},\"title\":\"Bokeh Application\",\"version\":\"2.4.2\"}};\n",
       "    var render_items = [{\"docid\":\"e23669ee-2f9e-4e7a-93b2-1879398db3af\",\"root_ids\":[\"4425\"],\"roots\":{\"4425\":\"c6492343-7b4b-4ef5-a63a-d55ed1c409da\"}}];\n",
       "    root.Bokeh.embed.embed_items_notebook(docs_json, render_items);\n",
       "  }\n",
       "  if (root.Bokeh !== undefined && root.Bokeh.Panel !== undefined) {\n",
       "    embed_document(root);\n",
       "  } else {\n",
       "    var attempts = 0;\n",
       "    var timer = setInterval(function(root) {\n",
       "      if (root.Bokeh !== undefined && root.Bokeh.Panel !== undefined) {\n",
       "        clearInterval(timer);\n",
       "        embed_document(root);\n",
       "      } else if (document.readyState == \"complete\") {\n",
       "        attempts++;\n",
       "        if (attempts > 200) {\n",
       "          clearInterval(timer);\n",
       "          console.log(\"Bokeh: ERROR: Unable to run BokehJS code because BokehJS library is missing\");\n",
       "        }\n",
       "      }\n",
       "    }, 25, root)\n",
       "  }\n",
       "})(window);</script>"
      ],
      "text/plain": [
       ":NdOverlay   [Predicted Clusters]\n",
       "   :Scatter   [price_change_percentage_24h]   (price_change_percentage_7d,coin_id)"
      ]
     },
     "execution_count": 164,
     "metadata": {
      "application/vnd.holoviews_exec.v0+json": {
       "id": "4425"
      }
     },
     "output_type": "execute_result"
    }
   ],
   "source": [
    "# Create a scatter plot using hvPlot by setting \n",
    "# `x=\"price_change_percentage_24h\"` and `y=\"price_change_percentage_7d\"`. \n",
    "# Color the graph points with the labels found using K-Means and \n",
    "# add the crypto name in the `hover_cols` parameter to identify \n",
    "# the cryptocurrency represented by each data point.\n",
    "\n",
    "df_market_data_scaled_cluster_plot = df_market_data_scaled_cluster.hvplot.scatter(\n",
    "    x=\"price_change_percentage_24h\",\n",
    "    y=\"price_change_percentage_7d\",\n",
    "    by=\"Predicted Clusters\",\n",
    "    hover_cols=[\"coin_id\"],\n",
    "    cmap=\"viridis\",\n",
    "    title=\"Cryptocurrency Market Data Clustered by K-Means\",\n",
    "    xlabel=\"Price Change Percentage 24h\",\n",
    "    ylabel=\"Price Change Percentage 7d\"\n",
    ")\n",
    "\n",
    "df_market_data_scaled_cluster_plot\n"
   ]
  },
  {
   "cell_type": "markdown",
   "metadata": {},
   "source": [
    "---"
   ]
  },
  {
   "cell_type": "markdown",
   "metadata": {},
   "source": [
    "### Optimize Clusters with Principal Component Analysis\n",
    "\n",
    "In this section, you will perform a principal component analysis (PCA) and reduce the features to three principal components.\n",
    "\n",
    "1. Create a PCA model instance and set `n_components=3`.\n",
    "\n",
    "2. Use the PCA model to reduce to three principal components. View the first five rows of the DataFrame. \n",
    "\n",
    "3. Retrieve the explained variance to determine how much information can be attributed to each principal component.\n",
    "\n",
    "4. Answer the following question: What is the total explained variance of the three principal components?\n",
    "\n",
    "5. Create a new DataFrame with the PCA data. Be sure to set the `coin_id` index from the original DataFrame as the index for the new DataFrame. Review the resulting DataFrame."
   ]
  },
  {
   "cell_type": "code",
   "execution_count": 109,
   "metadata": {},
   "outputs": [],
   "source": [
    "# Create a PCA model instance and set `n_components=3`.\n",
    "pca = PCA(n_components=3)"
   ]
  },
  {
   "cell_type": "code",
   "execution_count": 116,
   "metadata": {},
   "outputs": [
    {
     "data": {
      "text/plain": [
       "array([[-0.60066733,  0.84276006,  0.46159457],\n",
       "       [-0.45826071,  0.45846566,  0.95287678],\n",
       "       [-0.43306981, -0.16812638, -0.64175193],\n",
       "       [-0.47183495, -0.22266008, -0.47905316],\n",
       "       [-1.15779997,  2.04120919,  1.85971527]])"
      ]
     },
     "execution_count": 116,
     "metadata": {},
     "output_type": "execute_result"
    }
   ],
   "source": [
    "# Use the PCA model with `fit_transform` to reduce to \n",
    "# three principal components.\n",
    "df_market_data_pca = pca.fit_transform(df_market_data_scaled)\n",
    "\n",
    "# View the first five rows of the DataFrame. \n",
    "df_market_data_pca[:5]"
   ]
  },
  {
   "cell_type": "code",
   "execution_count": 117,
   "metadata": {},
   "outputs": [
    {
     "name": "stdout",
     "output_type": "stream",
     "text": [
      "Explained Variance: [0.3719856  0.34700813 0.17603793]\n",
      "Total Explained Variance: 0.8950316570309841\n"
     ]
    }
   ],
   "source": [
    "# Retrieve the explained variance to determine how much information \n",
    "# can be attributed to each principal component.\n",
    "print(\"Explained Variance:\", pca.explained_variance_ratio_)\n",
    "print(\"Total Explained Variance:\", pca.explained_variance_ratio_.sum())"
   ]
  },
  {
   "cell_type": "markdown",
   "metadata": {},
   "source": [
    "#### Answer the following question: What is the total explained variance of the three principal components?\n",
    "\n",
    "**Question:** What is the total explained variance of the three principal components?\n",
    "\n",
    "**Answer:** # The total explained variance of the three principal components is 0.8950316570309841"
   ]
  },
  {
   "cell_type": "code",
   "execution_count": 119,
   "metadata": {},
   "outputs": [
    {
     "data": {
      "text/html": [
       "<div>\n",
       "<style scoped>\n",
       "    .dataframe tbody tr th:only-of-type {\n",
       "        vertical-align: middle;\n",
       "    }\n",
       "\n",
       "    .dataframe tbody tr th {\n",
       "        vertical-align: top;\n",
       "    }\n",
       "\n",
       "    .dataframe thead th {\n",
       "        text-align: right;\n",
       "    }\n",
       "</style>\n",
       "<table border=\"1\" class=\"dataframe\">\n",
       "  <thead>\n",
       "    <tr style=\"text-align: right;\">\n",
       "      <th></th>\n",
       "      <th>PC1</th>\n",
       "      <th>PC2</th>\n",
       "      <th>PC3</th>\n",
       "    </tr>\n",
       "    <tr>\n",
       "      <th>coin_id</th>\n",
       "      <th></th>\n",
       "      <th></th>\n",
       "      <th></th>\n",
       "    </tr>\n",
       "  </thead>\n",
       "  <tbody>\n",
       "    <tr>\n",
       "      <th>bitcoin</th>\n",
       "      <td>-0.600667</td>\n",
       "      <td>0.842760</td>\n",
       "      <td>0.461595</td>\n",
       "    </tr>\n",
       "    <tr>\n",
       "      <th>ethereum</th>\n",
       "      <td>-0.458261</td>\n",
       "      <td>0.458466</td>\n",
       "      <td>0.952877</td>\n",
       "    </tr>\n",
       "    <tr>\n",
       "      <th>tether</th>\n",
       "      <td>-0.433070</td>\n",
       "      <td>-0.168126</td>\n",
       "      <td>-0.641752</td>\n",
       "    </tr>\n",
       "    <tr>\n",
       "      <th>ripple</th>\n",
       "      <td>-0.471835</td>\n",
       "      <td>-0.222660</td>\n",
       "      <td>-0.479053</td>\n",
       "    </tr>\n",
       "    <tr>\n",
       "      <th>bitcoin-cash</th>\n",
       "      <td>-1.157800</td>\n",
       "      <td>2.041209</td>\n",
       "      <td>1.859715</td>\n",
       "    </tr>\n",
       "  </tbody>\n",
       "</table>\n",
       "</div>"
      ],
      "text/plain": [
       "                   PC1       PC2       PC3\n",
       "coin_id                                   \n",
       "bitcoin      -0.600667  0.842760  0.461595\n",
       "ethereum     -0.458261  0.458466  0.952877\n",
       "tether       -0.433070 -0.168126 -0.641752\n",
       "ripple       -0.471835 -0.222660 -0.479053\n",
       "bitcoin-cash -1.157800  2.041209  1.859715"
      ]
     },
     "execution_count": 119,
     "metadata": {},
     "output_type": "execute_result"
    }
   ],
   "source": [
    "# Create a new DataFrame with the PCA data.\n",
    "# Note: The code for this step is provided for you\n",
    "\n",
    "# Creating a DataFrame with the PCA data\n",
    "df_market_data_pca = pd.DataFrame(df_market_data_pca, columns=[\"PC1\", \"PC2\", \"PC3\"])\n",
    "\n",
    "# Copy the crypto names from the original data\n",
    "df_market_data_pca[\"coin_id\"] = df_market_data_scaled.index\n",
    "\n",
    "# Set the coinid column as index\n",
    "df_market_data_pca.set_index(\"coin_id\", inplace=True)\n",
    "\n",
    "# Display sample data\n",
    "df_market_data_pca.head()"
   ]
  },
  {
   "cell_type": "markdown",
   "metadata": {},
   "source": [
    "---"
   ]
  },
  {
   "cell_type": "markdown",
   "metadata": {},
   "source": [
    "### Find the Best Value for k Using the PCA Data\n",
    "\n",
    "In this section, you will use the elbow method to find the best value for `k` using the PCA data.\n",
    "\n",
    "1. Code the elbow method algorithm and use the PCA data to find the best value for `k`. Use a range from 1 to 11. \n",
    "\n",
    "2. Plot a line chart with all the inertia values computed with the different values of `k` to visually identify the optimal value for `k`.\n",
    "\n",
    "3. Answer the following questions: What is the best value for k when using the PCA data? Does it differ from the best k value found using the original data?"
   ]
  },
  {
   "cell_type": "code",
   "execution_count": 120,
   "metadata": {},
   "outputs": [],
   "source": [
    "# Create a list with the number of k-values to try\n",
    "# Use a range from 1 to 11\n",
    "cluster_numbers = range(1, 11)"
   ]
  },
  {
   "cell_type": "code",
   "execution_count": 121,
   "metadata": {},
   "outputs": [],
   "source": [
    "# Create an empy list to store the inertia values\n",
    "inertia_values = []"
   ]
  },
  {
   "cell_type": "code",
   "execution_count": 123,
   "metadata": {},
   "outputs": [],
   "source": [
    "# Create a for loop to compute the inertia with each possible value of k\n",
    "# Inside the loop:\n",
    "# 1. Create a KMeans model using the loop counter for the n_clusters\n",
    "for cluster_number in cluster_numbers:\n",
    "    # Initialize the K-Means model with the specified number of clusters\n",
    "    kmeans = KMeans(n_clusters=cluster_number, random_state=42)\n",
    "    \n",
    "# 2. Fit the model to the data using `df_market_data_pca`\n",
    "    kmeans.fit(df_market_data_pca)\n",
    "# 3. Append the model.inertia_ to the inertia list\n",
    "    inertia_values.append(kmeans.inertia_)\n"
   ]
  },
  {
   "cell_type": "code",
   "execution_count": 124,
   "metadata": {},
   "outputs": [],
   "source": [
    "# Create a dictionary with the data to plot the Elbow curve\n",
    "elbow_data1 = {\n",
    "    \"k\": cluster_numbers, \n",
    "    \"inertia\": inertia_values\n",
    "}\n",
    "\n",
    "# Create a DataFrame with the data to plot the Elbow curve\n",
    "elbow_df1 = pd.DataFrame(elbow_data1)"
   ]
  },
  {
   "cell_type": "code",
   "execution_count": 161,
   "metadata": {},
   "outputs": [
    {
     "data": {},
     "metadata": {},
     "output_type": "display_data"
    },
    {
     "data": {
      "application/vnd.holoviews_exec.v0+json": "",
      "text/html": [
       "<div id='3193'>\n",
       "\n",
       "\n",
       "\n",
       "\n",
       "\n",
       "  <div class=\"bk-root\" id=\"1a714ed9-933d-4844-8308-4c639776394a\" data-root-id=\"3193\"></div>\n",
       "</div>\n",
       "<script type=\"application/javascript\">(function(root) {\n",
       "  function embed_document(root) {\n",
       "    var docs_json = {\"c03dde4b-77ff-4710-b63a-b82808b577a7\":{\"defs\":[{\"extends\":null,\"module\":null,\"name\":\"ReactiveHTML1\",\"overrides\":[],\"properties\":[]},{\"extends\":null,\"module\":null,\"name\":\"FlexBox1\",\"overrides\":[],\"properties\":[{\"default\":\"flex-start\",\"kind\":null,\"name\":\"align_content\"},{\"default\":\"flex-start\",\"kind\":null,\"name\":\"align_items\"},{\"default\":\"row\",\"kind\":null,\"name\":\"flex_direction\"},{\"default\":\"wrap\",\"kind\":null,\"name\":\"flex_wrap\"},{\"default\":\"flex-start\",\"kind\":null,\"name\":\"justify_content\"}]},{\"extends\":null,\"module\":null,\"name\":\"GridStack1\",\"overrides\":[],\"properties\":[{\"default\":\"warn\",\"kind\":null,\"name\":\"mode\"},{\"default\":null,\"kind\":null,\"name\":\"ncols\"},{\"default\":null,\"kind\":null,\"name\":\"nrows\"},{\"default\":true,\"kind\":null,\"name\":\"allow_resize\"},{\"default\":true,\"kind\":null,\"name\":\"allow_drag\"},{\"default\":[],\"kind\":null,\"name\":\"state\"}]},{\"extends\":null,\"module\":null,\"name\":\"click1\",\"overrides\":[],\"properties\":[{\"default\":\"\",\"kind\":null,\"name\":\"terminal_output\"},{\"default\":\"\",\"kind\":null,\"name\":\"debug_name\"},{\"default\":0,\"kind\":null,\"name\":\"clears\"}]},{\"extends\":null,\"module\":null,\"name\":\"TemplateActions1\",\"overrides\":[],\"properties\":[{\"default\":0,\"kind\":null,\"name\":\"open_modal\"},{\"default\":0,\"kind\":null,\"name\":\"close_modal\"}]},{\"extends\":null,\"module\":null,\"name\":\"MaterialTemplateActions1\",\"overrides\":[],\"properties\":[{\"default\":0,\"kind\":null,\"name\":\"open_modal\"},{\"default\":0,\"kind\":null,\"name\":\"close_modal\"}]}],\"roots\":{\"references\":[{\"attributes\":{},\"id\":\"3205\",\"type\":\"LinearScale\"},{\"attributes\":{},\"id\":\"3238\",\"type\":\"BasicTickFormatter\"},{\"attributes\":{},\"id\":\"3239\",\"type\":\"AllLabels\"},{\"attributes\":{},\"id\":\"3242\",\"type\":\"AllLabels\"},{\"attributes\":{},\"id\":\"3250\",\"type\":\"UnionRenderers\"},{\"attributes\":{\"end\":281.5055583684025,\"reset_end\":281.5055583684025,\"reset_start\":-14.072115237716483,\"start\":-14.072115237716483,\"tags\":[[[\"inertia\",\"inertia\",null]]]},\"id\":\"3196\",\"type\":\"Range1d\"},{\"attributes\":{\"data\":{\"inertia\":{\"__ndarray__\":\"EQAmQfwNcECOtfYN+xllQPYsl3eTcVdAmIiJ/i7VSEDWFmXIevBCQH9sYu90njtAX+YhZsouNUCng8R/dRcxQDQWNJSJVStApe9NHWQeJUA=\",\"dtype\":\"float64\",\"order\":\"little\",\"shape\":[10]},\"k\":[1,2,3,4,5,6,7,8,9,10]},\"selected\":{\"id\":\"3229\"},\"selection_policy\":{\"id\":\"3250\"}},\"id\":\"3228\",\"type\":\"ColumnDataSource\"},{\"attributes\":{\"callback\":null,\"renderers\":[{\"id\":\"3234\"}],\"tags\":[\"hv_created\"],\"tooltips\":[[\"k\",\"@{k}\"],[\"inertia\",\"@{inertia}\"]]},\"id\":\"3197\",\"type\":\"HoverTool\"},{\"attributes\":{\"end\":10.0,\"reset_end\":10.0,\"reset_start\":1.0,\"start\":1.0,\"tags\":[[[\"k\",\"k\",null]]]},\"id\":\"3195\",\"type\":\"Range1d\"},{\"attributes\":{\"children\":[{\"id\":\"3194\"},{\"id\":\"3198\"},{\"id\":\"3263\"}],\"margin\":[0,0,0,0],\"name\":\"Row06566\",\"tags\":[\"embedded\"]},\"id\":\"3193\",\"type\":\"Row\"},{\"attributes\":{\"margin\":[5,5,5,5],\"name\":\"HSpacer06570\",\"sizing_mode\":\"stretch_width\"},\"id\":\"3194\",\"type\":\"Spacer\"},{\"attributes\":{\"line_alpha\":0.2,\"line_color\":\"green\",\"line_width\":2,\"x\":{\"field\":\"k\"},\"y\":{\"field\":\"inertia\"}},\"id\":\"3233\",\"type\":\"Line\"},{\"attributes\":{\"coordinates\":null,\"group\":null,\"text\":\"Inertia Values vs Number of Clusters\",\"text_color\":\"black\",\"text_font_size\":\"12pt\"},\"id\":\"3199\",\"type\":\"Title\"},{\"attributes\":{\"below\":[{\"id\":\"3207\"}],\"center\":[{\"id\":\"3210\"},{\"id\":\"3214\"}],\"height\":300,\"left\":[{\"id\":\"3211\"}],\"margin\":[5,5,5,5],\"min_border_bottom\":10,\"min_border_left\":10,\"min_border_right\":10,\"min_border_top\":10,\"renderers\":[{\"id\":\"3234\"}],\"sizing_mode\":\"fixed\",\"title\":{\"id\":\"3199\"},\"toolbar\":{\"id\":\"3221\"},\"width\":700,\"x_range\":{\"id\":\"3195\"},\"x_scale\":{\"id\":\"3203\"},\"y_range\":{\"id\":\"3196\"},\"y_scale\":{\"id\":\"3205\"}},\"id\":\"3198\",\"subtype\":\"Figure\",\"type\":\"Plot\"},{\"attributes\":{},\"id\":\"3216\",\"type\":\"PanTool\"},{\"attributes\":{\"axis\":{\"id\":\"3211\"},\"coordinates\":null,\"dimension\":1,\"grid_line_color\":null,\"group\":null,\"ticker\":null},\"id\":\"3214\",\"type\":\"Grid\"},{\"attributes\":{\"source\":{\"id\":\"3228\"}},\"id\":\"3235\",\"type\":\"CDSView\"},{\"attributes\":{\"axis\":{\"id\":\"3207\"},\"coordinates\":null,\"grid_line_color\":null,\"group\":null,\"ticker\":null},\"id\":\"3210\",\"type\":\"Grid\"},{\"attributes\":{\"axis_label\":\"Number of Clusters (k)\",\"coordinates\":null,\"formatter\":{\"id\":\"3238\"},\"group\":null,\"major_label_policy\":{\"id\":\"3239\"},\"ticker\":{\"id\":\"3208\"}},\"id\":\"3207\",\"type\":\"LinearAxis\"},{\"attributes\":{},\"id\":\"3208\",\"type\":\"BasicTicker\"},{\"attributes\":{},\"id\":\"3229\",\"type\":\"Selection\"},{\"attributes\":{},\"id\":\"3217\",\"type\":\"WheelZoomTool\"},{\"attributes\":{},\"id\":\"3203\",\"type\":\"LinearScale\"},{\"attributes\":{\"axis_label\":\"Inertia Value\",\"coordinates\":null,\"formatter\":{\"id\":\"3241\"},\"group\":null,\"major_label_policy\":{\"id\":\"3242\"},\"ticker\":{\"id\":\"3212\"}},\"id\":\"3211\",\"type\":\"LinearAxis\"},{\"attributes\":{},\"id\":\"3215\",\"type\":\"SaveTool\"},{\"attributes\":{},\"id\":\"3212\",\"type\":\"BasicTicker\"},{\"attributes\":{\"margin\":[5,5,5,5],\"name\":\"HSpacer06571\",\"sizing_mode\":\"stretch_width\"},\"id\":\"3263\",\"type\":\"Spacer\"},{\"attributes\":{},\"id\":\"3241\",\"type\":\"BasicTickFormatter\"},{\"attributes\":{\"tools\":[{\"id\":\"3197\"},{\"id\":\"3215\"},{\"id\":\"3216\"},{\"id\":\"3217\"},{\"id\":\"3218\"},{\"id\":\"3219\"}]},\"id\":\"3221\",\"type\":\"Toolbar\"},{\"attributes\":{\"overlay\":{\"id\":\"3220\"}},\"id\":\"3218\",\"type\":\"BoxZoomTool\"},{\"attributes\":{},\"id\":\"3219\",\"type\":\"ResetTool\"},{\"attributes\":{\"bottom_units\":\"screen\",\"coordinates\":null,\"fill_alpha\":0.5,\"fill_color\":\"lightgrey\",\"group\":null,\"left_units\":\"screen\",\"level\":\"overlay\",\"line_alpha\":1.0,\"line_color\":\"black\",\"line_dash\":[4,4],\"line_width\":2,\"right_units\":\"screen\",\"syncable\":false,\"top_units\":\"screen\"},\"id\":\"3220\",\"type\":\"BoxAnnotation\"},{\"attributes\":{\"coordinates\":null,\"data_source\":{\"id\":\"3228\"},\"glyph\":{\"id\":\"3231\"},\"group\":null,\"hover_glyph\":null,\"muted_glyph\":{\"id\":\"3233\"},\"nonselection_glyph\":{\"id\":\"3232\"},\"selection_glyph\":{\"id\":\"3236\"},\"view\":{\"id\":\"3235\"}},\"id\":\"3234\",\"type\":\"GlyphRenderer\"},{\"attributes\":{\"line_alpha\":0.1,\"line_color\":\"green\",\"line_width\":2,\"x\":{\"field\":\"k\"},\"y\":{\"field\":\"inertia\"}},\"id\":\"3232\",\"type\":\"Line\"},{\"attributes\":{\"line_color\":\"green\",\"line_width\":2,\"x\":{\"field\":\"k\"},\"y\":{\"field\":\"inertia\"}},\"id\":\"3236\",\"type\":\"Line\"},{\"attributes\":{\"line_color\":\"green\",\"line_width\":2,\"x\":{\"field\":\"k\"},\"y\":{\"field\":\"inertia\"}},\"id\":\"3231\",\"type\":\"Line\"}],\"root_ids\":[\"3193\"]},\"title\":\"Bokeh Application\",\"version\":\"2.4.2\"}};\n",
       "    var render_items = [{\"docid\":\"c03dde4b-77ff-4710-b63a-b82808b577a7\",\"root_ids\":[\"3193\"],\"roots\":{\"3193\":\"1a714ed9-933d-4844-8308-4c639776394a\"}}];\n",
       "    root.Bokeh.embed.embed_items_notebook(docs_json, render_items);\n",
       "  }\n",
       "  if (root.Bokeh !== undefined && root.Bokeh.Panel !== undefined) {\n",
       "    embed_document(root);\n",
       "  } else {\n",
       "    var attempts = 0;\n",
       "    var timer = setInterval(function(root) {\n",
       "      if (root.Bokeh !== undefined && root.Bokeh.Panel !== undefined) {\n",
       "        clearInterval(timer);\n",
       "        embed_document(root);\n",
       "      } else if (document.readyState == \"complete\") {\n",
       "        attempts++;\n",
       "        if (attempts > 200) {\n",
       "          clearInterval(timer);\n",
       "          console.log(\"Bokeh: ERROR: Unable to run BokehJS code because BokehJS library is missing\");\n",
       "        }\n",
       "      }\n",
       "    }, 25, root)\n",
       "  }\n",
       "})(window);</script>"
      ],
      "text/plain": [
       ":Curve   [k]   (inertia)"
      ]
     },
     "execution_count": 161,
     "metadata": {
      "application/vnd.holoviews_exec.v0+json": {
       "id": "3193"
      }
     },
     "output_type": "execute_result"
    }
   ],
   "source": [
    "# Plot a line chart with all the inertia values computed with \n",
    "# the different values of k to visually identify the optimal value for k.\n",
    "elbow_df1 = pd.DataFrame({'k': cluster_numbers, 'inertia': inertia_values})\n",
    "elbow_plot2 = elbow_df1.hvplot.line(\n",
    "    x=\"k\",\n",
    "    y=\"inertia\",\n",
    "    color='green',\n",
    "    title=\"Inertia Values vs Number of Clusters\",\n",
    "    xlabel=\"Number of Clusters (k)\",\n",
    "    ylabel=\"Inertia Value\"\n",
    ")\n",
    "\n",
    "elbow_plot2"
   ]
  },
  {
   "cell_type": "markdown",
   "metadata": {},
   "source": [
    "#### Answer the following questions: What is the best value for k when using the PCA data? Does it differ from the best k value found using the original data?\n",
    "* **Question:** What is the best value for `k` when using the PCA data?\n",
    "\n",
    "  * **Answer:** The best value for k when using the PCA data is 4.\n",
    "\n",
    "\n",
    "* **Question:** Does it differ from the best k value found using the original data?\n",
    "\n",
    "  * **Answer:** No the value does not differ from the best k value found using the orginal data."
   ]
  },
  {
   "cell_type": "markdown",
   "metadata": {},
   "source": [
    "---"
   ]
  },
  {
   "cell_type": "markdown",
   "metadata": {},
   "source": [
    "### Cluster Cryptocurrencies with K-means Using the PCA Data\n",
    "\n",
    "In this section, you will use the PCA data and the K-Means algorithm with the best value for `k` found in the previous section to cluster the cryptocurrencies according to the principal components.\n",
    "\n",
    "1. Initialize the K-Means model with four clusters using the best value for `k`. \n",
    "\n",
    "2. Fit the K-Means model using the PCA data.\n",
    "\n",
    "3. Predict the clusters to group the cryptocurrencies using the PCA data. View the resulting array of cluster values.\n",
    "\n",
    "4. Add a new column to the DataFrame with the PCA data to store the predicted clusters.\n",
    "\n",
    "5. Create a scatter plot using hvPlot by setting `x=\"PC1\"` and `y=\"PC2\"`. Color the graph points with the labels found using K-Means and add the crypto name in the `hover_cols` parameter to identify the cryptocurrency represented by each data point."
   ]
  },
  {
   "cell_type": "code",
   "execution_count": 135,
   "metadata": {},
   "outputs": [],
   "source": [
    "# Initialize the K-Means model using the best value for k\n",
    "kmeans = KMeans(n_clusters=4)"
   ]
  },
  {
   "cell_type": "code",
   "execution_count": 137,
   "metadata": {},
   "outputs": [
    {
     "data": {
      "text/plain": [
       "KMeans(n_clusters=4)"
      ]
     },
     "execution_count": 137,
     "metadata": {},
     "output_type": "execute_result"
    }
   ],
   "source": [
    "# Fit the K-Means model using the PCA data\n",
    "kmeans.fit(df_market_data_pca)"
   ]
  },
  {
   "cell_type": "code",
   "execution_count": 140,
   "metadata": {},
   "outputs": [
    {
     "name": "stdout",
     "output_type": "stream",
     "text": [
      "[3 3 0 0 3 3 3 3 3 0 0 0 0 3 0 3 0 0 3 0 0 3 0 0 0 0 0 0 3 0 0 0 1 3 0 0 2\n",
      " 0 0 0 0]\n"
     ]
    }
   ],
   "source": [
    "# Predict the clusters to group the cryptocurrencies using the PCA data\n",
    "crypto_currency_clusters = kmeans.predict(df_market_data_pca)\n",
    "\n",
    "# View the resulting array of cluster values.\n",
    "print(crypto_currency_clusters)"
   ]
  },
  {
   "cell_type": "code",
   "execution_count": 150,
   "metadata": {},
   "outputs": [
    {
     "data": {
      "text/html": [
       "<div>\n",
       "<style scoped>\n",
       "    .dataframe tbody tr th:only-of-type {\n",
       "        vertical-align: middle;\n",
       "    }\n",
       "\n",
       "    .dataframe tbody tr th {\n",
       "        vertical-align: top;\n",
       "    }\n",
       "\n",
       "    .dataframe thead th {\n",
       "        text-align: right;\n",
       "    }\n",
       "</style>\n",
       "<table border=\"1\" class=\"dataframe\">\n",
       "  <thead>\n",
       "    <tr style=\"text-align: right;\">\n",
       "      <th></th>\n",
       "      <th>PC1</th>\n",
       "      <th>PC2</th>\n",
       "      <th>PC3</th>\n",
       "      <th>Crypto PCA Clusters</th>\n",
       "    </tr>\n",
       "    <tr>\n",
       "      <th>coin_id</th>\n",
       "      <th></th>\n",
       "      <th></th>\n",
       "      <th></th>\n",
       "      <th></th>\n",
       "    </tr>\n",
       "  </thead>\n",
       "  <tbody>\n",
       "    <tr>\n",
       "      <th>bitcoin</th>\n",
       "      <td>-0.600667</td>\n",
       "      <td>0.842760</td>\n",
       "      <td>0.461595</td>\n",
       "      <td>3</td>\n",
       "    </tr>\n",
       "    <tr>\n",
       "      <th>ethereum</th>\n",
       "      <td>-0.458261</td>\n",
       "      <td>0.458466</td>\n",
       "      <td>0.952877</td>\n",
       "      <td>3</td>\n",
       "    </tr>\n",
       "    <tr>\n",
       "      <th>tether</th>\n",
       "      <td>-0.433070</td>\n",
       "      <td>-0.168126</td>\n",
       "      <td>-0.641752</td>\n",
       "      <td>0</td>\n",
       "    </tr>\n",
       "    <tr>\n",
       "      <th>ripple</th>\n",
       "      <td>-0.471835</td>\n",
       "      <td>-0.222660</td>\n",
       "      <td>-0.479053</td>\n",
       "      <td>0</td>\n",
       "    </tr>\n",
       "    <tr>\n",
       "      <th>bitcoin-cash</th>\n",
       "      <td>-1.157800</td>\n",
       "      <td>2.041209</td>\n",
       "      <td>1.859715</td>\n",
       "      <td>3</td>\n",
       "    </tr>\n",
       "  </tbody>\n",
       "</table>\n",
       "</div>"
      ],
      "text/plain": [
       "                   PC1       PC2       PC3  Crypto PCA Clusters\n",
       "coin_id                                                        \n",
       "bitcoin      -0.600667  0.842760  0.461595                    3\n",
       "ethereum     -0.458261  0.458466  0.952877                    3\n",
       "tether       -0.433070 -0.168126 -0.641752                    0\n",
       "ripple       -0.471835 -0.222660 -0.479053                    0\n",
       "bitcoin-cash -1.157800  2.041209  1.859715                    3"
      ]
     },
     "execution_count": 150,
     "metadata": {},
     "output_type": "execute_result"
    }
   ],
   "source": [
    "# Create a copy of the DataFrame with the PCA data\n",
    "df_market_data_pca_predictions = df_market_data_pca.copy()\n",
    "\n",
    "# Add a new column to the DataFrame with the predicted clusters\n",
    "df_market_data_pca_predictions['Crypto PCA Clusters'] = crypto_currency_clusters\n",
    "\n",
    "# Display sample data\n",
    "df_market_data_pca_predictions.head()"
   ]
  },
  {
   "cell_type": "code",
   "execution_count": 153,
   "metadata": {},
   "outputs": [
    {
     "data": {},
     "metadata": {},
     "output_type": "display_data"
    },
    {
     "data": {
      "application/vnd.holoviews_exec.v0+json": "",
      "text/html": [
       "<div id='2708'>\n",
       "\n",
       "\n",
       "\n",
       "\n",
       "\n",
       "  <div class=\"bk-root\" id=\"14da22ec-f93e-46d7-92f8-4ef445232dbe\" data-root-id=\"2708\"></div>\n",
       "</div>\n",
       "<script type=\"application/javascript\">(function(root) {\n",
       "  function embed_document(root) {\n",
       "    var docs_json = {\"2b18fce5-e80e-495b-ab2b-78a6b74ca9a4\":{\"defs\":[{\"extends\":null,\"module\":null,\"name\":\"ReactiveHTML1\",\"overrides\":[],\"properties\":[]},{\"extends\":null,\"module\":null,\"name\":\"FlexBox1\",\"overrides\":[],\"properties\":[{\"default\":\"flex-start\",\"kind\":null,\"name\":\"align_content\"},{\"default\":\"flex-start\",\"kind\":null,\"name\":\"align_items\"},{\"default\":\"row\",\"kind\":null,\"name\":\"flex_direction\"},{\"default\":\"wrap\",\"kind\":null,\"name\":\"flex_wrap\"},{\"default\":\"flex-start\",\"kind\":null,\"name\":\"justify_content\"}]},{\"extends\":null,\"module\":null,\"name\":\"GridStack1\",\"overrides\":[],\"properties\":[{\"default\":\"warn\",\"kind\":null,\"name\":\"mode\"},{\"default\":null,\"kind\":null,\"name\":\"ncols\"},{\"default\":null,\"kind\":null,\"name\":\"nrows\"},{\"default\":true,\"kind\":null,\"name\":\"allow_resize\"},{\"default\":true,\"kind\":null,\"name\":\"allow_drag\"},{\"default\":[],\"kind\":null,\"name\":\"state\"}]},{\"extends\":null,\"module\":null,\"name\":\"click1\",\"overrides\":[],\"properties\":[{\"default\":\"\",\"kind\":null,\"name\":\"terminal_output\"},{\"default\":\"\",\"kind\":null,\"name\":\"debug_name\"},{\"default\":0,\"kind\":null,\"name\":\"clears\"}]},{\"extends\":null,\"module\":null,\"name\":\"TemplateActions1\",\"overrides\":[],\"properties\":[{\"default\":0,\"kind\":null,\"name\":\"open_modal\"},{\"default\":0,\"kind\":null,\"name\":\"close_modal\"}]},{\"extends\":null,\"module\":null,\"name\":\"MaterialTemplateActions1\",\"overrides\":[],\"properties\":[{\"default\":0,\"kind\":null,\"name\":\"open_modal\"},{\"default\":0,\"kind\":null,\"name\":\"close_modal\"}]}],\"roots\":{\"references\":[{\"attributes\":{},\"id\":\"2723\",\"type\":\"LinearScale\"},{\"attributes\":{\"coordinates\":null,\"group\":null,\"text\":\"Scatter Plot Showing Crypto PCA Clusters\",\"text_color\":\"black\",\"text_font_size\":\"12pt\"},\"id\":\"2717\",\"type\":\"Title\"},{\"attributes\":{\"axis_label\":\"PC1\",\"coordinates\":null,\"formatter\":{\"id\":\"2747\"},\"group\":null,\"major_label_policy\":{\"id\":\"2748\"},\"ticker\":{\"id\":\"2726\"}},\"id\":\"2725\",\"type\":\"LinearAxis\"},{\"attributes\":{\"angle\":{\"value\":0.0},\"fill_alpha\":{\"value\":1.0},\"fill_color\":{\"value\":\"#30a2da\"},\"hatch_alpha\":{\"value\":1.0},\"hatch_color\":{\"value\":\"#30a2da\"},\"hatch_scale\":{\"value\":12.0},\"hatch_weight\":{\"value\":1.0},\"line_alpha\":{\"value\":1.0},\"line_cap\":{\"value\":\"butt\"},\"line_color\":{\"value\":\"#30a2da\"},\"line_dash\":{\"value\":[]},\"line_dash_offset\":{\"value\":0},\"line_join\":{\"value\":\"bevel\"},\"line_width\":{\"value\":1},\"marker\":{\"value\":\"circle\"},\"size\":{\"value\":5.477225575051661},\"x\":{\"field\":\"PC1\"},\"y\":{\"field\":\"PC2\"}},\"id\":\"2773\",\"type\":\"Scatter\"},{\"attributes\":{},\"id\":\"2734\",\"type\":\"PanTool\"},{\"attributes\":{\"fill_color\":{\"value\":\"red\"},\"hatch_color\":{\"value\":\"red\"},\"line_color\":{\"value\":\"red\"},\"size\":{\"value\":5.477225575051661},\"x\":{\"field\":\"PC1\"},\"y\":{\"field\":\"PC2\"}},\"id\":\"2779\",\"type\":\"Scatter\"},{\"attributes\":{\"axis\":{\"id\":\"2725\"},\"coordinates\":null,\"grid_line_color\":null,\"group\":null,\"ticker\":null},\"id\":\"2728\",\"type\":\"Grid\"},{\"attributes\":{\"data\":{\"Crypto_PCA_Clusters\":[2],\"PC1\":{\"__ndarray__\":\"YBQ7s2krE0A=\",\"dtype\":\"float64\",\"order\":\"little\",\"shape\":[1]},\"PC2\":{\"__ndarray__\":\"FlrQWxoSG0A=\",\"dtype\":\"float64\",\"order\":\"little\",\"shape\":[1]},\"coin_id\":[\"celsius-degree-token\"]},\"selected\":{\"id\":\"2798\"},\"selection_policy\":{\"id\":\"2817\"}},\"id\":\"2797\",\"type\":\"ColumnDataSource\"},{\"attributes\":{},\"id\":\"2726\",\"type\":\"BasicTicker\"},{\"attributes\":{},\"id\":\"2748\",\"type\":\"AllLabels\"},{\"attributes\":{\"axis_label\":\"PC2\",\"coordinates\":null,\"formatter\":{\"id\":\"2750\"},\"group\":null,\"major_label_policy\":{\"id\":\"2751\"},\"ticker\":{\"id\":\"2730\"}},\"id\":\"2729\",\"type\":\"LinearAxis\"},{\"attributes\":{\"fill_alpha\":{\"value\":0.1},\"fill_color\":{\"value\":\"#fc4f30\"},\"hatch_alpha\":{\"value\":0.1},\"hatch_color\":{\"value\":\"#fc4f30\"},\"line_alpha\":{\"value\":0.1},\"line_color\":{\"value\":\"#fc4f30\"},\"size\":{\"value\":5.477225575051661},\"x\":{\"field\":\"PC1\"},\"y\":{\"field\":\"PC2\"}},\"id\":\"2778\",\"type\":\"Scatter\"},{\"attributes\":{\"axis\":{\"id\":\"2729\"},\"coordinates\":null,\"dimension\":1,\"grid_line_color\":null,\"group\":null,\"ticker\":null},\"id\":\"2732\",\"type\":\"Grid\"},{\"attributes\":{},\"id\":\"2730\",\"type\":\"BasicTicker\"},{\"attributes\":{\"fill_color\":{\"value\":\"#e5ae38\"},\"hatch_color\":{\"value\":\"#e5ae38\"},\"line_color\":{\"value\":\"#e5ae38\"},\"size\":{\"value\":5.477225575051661},\"x\":{\"field\":\"PC1\"},\"y\":{\"field\":\"PC2\"}},\"id\":\"2800\",\"type\":\"Scatter\"},{\"attributes\":{},\"id\":\"2735\",\"type\":\"WheelZoomTool\"},{\"attributes\":{},\"id\":\"2844\",\"type\":\"UnionRenderers\"},{\"attributes\":{\"margin\":[5,5,5,5],\"name\":\"HSpacer05567\",\"sizing_mode\":\"stretch_width\"},\"id\":\"2709\",\"type\":\"Spacer\"},{\"attributes\":{},\"id\":\"2733\",\"type\":\"SaveTool\"},{\"attributes\":{\"overlay\":{\"id\":\"2738\"}},\"id\":\"2736\",\"type\":\"BoxZoomTool\"},{\"attributes\":{\"source\":{\"id\":\"2797\"}},\"id\":\"2805\",\"type\":\"CDSView\"},{\"attributes\":{},\"id\":\"2737\",\"type\":\"ResetTool\"},{\"attributes\":{\"source\":{\"id\":\"2774\"}},\"id\":\"2782\",\"type\":\"CDSView\"},{\"attributes\":{\"children\":[{\"id\":\"2709\"},{\"id\":\"2716\"},{\"id\":\"2993\"}],\"margin\":[0,0,0,0],\"name\":\"Row05563\",\"tags\":[\"embedded\"]},\"id\":\"2708\",\"type\":\"Row\"},{\"attributes\":{},\"id\":\"2817\",\"type\":\"UnionRenderers\"},{\"attributes\":{\"bottom_units\":\"screen\",\"coordinates\":null,\"fill_alpha\":0.5,\"fill_color\":\"lightgrey\",\"group\":null,\"left_units\":\"screen\",\"level\":\"overlay\",\"line_alpha\":1.0,\"line_color\":\"black\",\"line_dash\":[4,4],\"line_width\":2,\"right_units\":\"screen\",\"syncable\":false,\"top_units\":\"screen\"},\"id\":\"2738\",\"type\":\"BoxAnnotation\"},{\"attributes\":{\"coordinates\":null,\"data_source\":{\"id\":\"2774\"},\"glyph\":{\"id\":\"2777\"},\"group\":null,\"hover_glyph\":{\"id\":\"2779\"},\"muted_glyph\":{\"id\":\"2780\"},\"nonselection_glyph\":{\"id\":\"2778\"},\"selection_glyph\":{\"id\":\"2796\"},\"view\":{\"id\":\"2782\"}},\"id\":\"2781\",\"type\":\"GlyphRenderer\"},{\"attributes\":{\"fill_alpha\":{\"value\":0.1},\"fill_color\":{\"value\":\"#6d904f\"},\"hatch_alpha\":{\"value\":0.1},\"hatch_color\":{\"value\":\"#6d904f\"},\"line_alpha\":{\"value\":0.1},\"line_color\":{\"value\":\"#6d904f\"},\"size\":{\"value\":5.477225575051661},\"x\":{\"field\":\"PC1\"},\"y\":{\"field\":\"PC2\"}},\"id\":\"2826\",\"type\":\"Scatter\"},{\"attributes\":{\"label\":{\"value\":\"2\"},\"renderers\":[{\"id\":\"2804\"}]},\"id\":\"2820\",\"type\":\"LegendItem\"},{\"attributes\":{\"fill_color\":{\"value\":\"#30a2da\"},\"hatch_color\":{\"value\":\"#30a2da\"},\"line_color\":{\"value\":\"#30a2da\"},\"size\":{\"value\":5.477225575051661},\"x\":{\"field\":\"PC1\"},\"y\":{\"field\":\"PC2\"}},\"id\":\"2755\",\"type\":\"Scatter\"},{\"attributes\":{\"source\":{\"id\":\"2822\"}},\"id\":\"2830\",\"type\":\"CDSView\"},{\"attributes\":{\"coordinates\":null,\"data_source\":{\"id\":\"2752\"},\"glyph\":{\"id\":\"2755\"},\"group\":null,\"hover_glyph\":{\"id\":\"2757\"},\"muted_glyph\":{\"id\":\"2758\"},\"nonselection_glyph\":{\"id\":\"2756\"},\"selection_glyph\":{\"id\":\"2773\"},\"view\":{\"id\":\"2760\"}},\"id\":\"2759\",\"type\":\"GlyphRenderer\"},{\"attributes\":{\"fill_color\":{\"value\":\"red\"},\"hatch_color\":{\"value\":\"red\"},\"line_color\":{\"value\":\"red\"},\"size\":{\"value\":5.477225575051661},\"x\":{\"field\":\"PC1\"},\"y\":{\"field\":\"PC2\"}},\"id\":\"2802\",\"type\":\"Scatter\"},{\"attributes\":{\"coordinates\":null,\"data_source\":{\"id\":\"2797\"},\"glyph\":{\"id\":\"2800\"},\"group\":null,\"hover_glyph\":{\"id\":\"2802\"},\"muted_glyph\":{\"id\":\"2803\"},\"nonselection_glyph\":{\"id\":\"2801\"},\"selection_glyph\":{\"id\":\"2821\"},\"view\":{\"id\":\"2805\"}},\"id\":\"2804\",\"type\":\"GlyphRenderer\"},{\"attributes\":{},\"id\":\"2768\",\"type\":\"UnionRenderers\"},{\"attributes\":{\"fill_alpha\":{\"value\":0.2},\"fill_color\":{\"value\":\"#fc4f30\"},\"hatch_alpha\":{\"value\":0.2},\"hatch_color\":{\"value\":\"#fc4f30\"},\"line_alpha\":{\"value\":0.2},\"line_color\":{\"value\":\"#fc4f30\"},\"size\":{\"value\":5.477225575051661},\"x\":{\"field\":\"PC1\"},\"y\":{\"field\":\"PC2\"}},\"id\":\"2780\",\"type\":\"Scatter\"},{\"attributes\":{\"click_policy\":\"mute\",\"coordinates\":null,\"group\":null,\"items\":[{\"id\":\"2772\"},{\"id\":\"2795\"},{\"id\":\"2820\"},{\"id\":\"2847\"}],\"location\":[0,0],\"title\":\"Crypto PCA Clusters\"},\"id\":\"2771\",\"type\":\"Legend\"},{\"attributes\":{\"label\":{\"value\":\"1\"},\"renderers\":[{\"id\":\"2781\"}]},\"id\":\"2795\",\"type\":\"LegendItem\"},{\"attributes\":{\"coordinates\":null,\"data_source\":{\"id\":\"2822\"},\"glyph\":{\"id\":\"2825\"},\"group\":null,\"hover_glyph\":{\"id\":\"2827\"},\"muted_glyph\":{\"id\":\"2828\"},\"nonselection_glyph\":{\"id\":\"2826\"},\"selection_glyph\":{\"id\":\"2848\"},\"view\":{\"id\":\"2830\"}},\"id\":\"2829\",\"type\":\"GlyphRenderer\"},{\"attributes\":{\"data\":{\"Crypto_PCA_Clusters\":[1],\"PC1\":{\"__ndarray__\":\"RlWiy5MtIEA=\",\"dtype\":\"float64\",\"order\":\"little\",\"shape\":[1]},\"PC2\":{\"__ndarray__\":\"YQ3w8dQsD8A=\",\"dtype\":\"float64\",\"order\":\"little\",\"shape\":[1]},\"coin_id\":[\"ethlend\"]},\"selected\":{\"id\":\"2775\"},\"selection_policy\":{\"id\":\"2792\"}},\"id\":\"2774\",\"type\":\"ColumnDataSource\"},{\"attributes\":{\"fill_color\":{\"value\":\"#fc4f30\"},\"hatch_color\":{\"value\":\"#fc4f30\"},\"line_color\":{\"value\":\"#fc4f30\"},\"size\":{\"value\":5.477225575051661},\"x\":{\"field\":\"PC1\"},\"y\":{\"field\":\"PC2\"}},\"id\":\"2777\",\"type\":\"Scatter\"},{\"attributes\":{\"fill_alpha\":{\"value\":0.2},\"fill_color\":{\"value\":\"#e5ae38\"},\"hatch_alpha\":{\"value\":0.2},\"hatch_color\":{\"value\":\"#e5ae38\"},\"line_alpha\":{\"value\":0.2},\"line_color\":{\"value\":\"#e5ae38\"},\"size\":{\"value\":5.477225575051661},\"x\":{\"field\":\"PC1\"},\"y\":{\"field\":\"PC2\"}},\"id\":\"2803\",\"type\":\"Scatter\"},{\"attributes\":{\"fill_alpha\":{\"value\":0.1},\"fill_color\":{\"value\":\"#e5ae38\"},\"hatch_alpha\":{\"value\":0.1},\"hatch_color\":{\"value\":\"#e5ae38\"},\"line_alpha\":{\"value\":0.1},\"line_color\":{\"value\":\"#e5ae38\"},\"size\":{\"value\":5.477225575051661},\"x\":{\"field\":\"PC1\"},\"y\":{\"field\":\"PC2\"}},\"id\":\"2801\",\"type\":\"Scatter\"},{\"attributes\":{\"data\":{\"Crypto_PCA_Clusters\":[3,3,3,3,3,3,3,3,3,3,3,3,3],\"PC1\":{\"__ndarray__\":\"N/XQrqo447+40e2+JFTdvz0Tj0NZhvK/7NIJ1HGH4L/CWkdgdNjcv9b9x3tOHta/h21M83DI5L/guE+KvvmuP6YxxVNFeum/o86LH/eZ07/B3W/HIlbjvzzz5tCaNdu/uEmjFh7m2L8=\",\"dtype\":\"float64\",\"order\":\"little\",\"shape\":[13]},\"PC2\":{\"__ndarray__\":\"ygJY8+P36j9/P81egFfdP6tEN3tlVABAdqRxTss29j+9ZPC8/ZDgP4bE/UiRV+c/ey0795eo2z+U9tOGdUYHQEqknptkpN+/akNue2CC5j9mCxibCnrqP+V0su7rjN8/W0ntLg0gxT8=\",\"dtype\":\"float64\",\"order\":\"little\",\"shape\":[13]},\"coin_id\":[\"bitcoin\",\"ethereum\",\"bitcoin-cash\",\"binancecoin\",\"chainlink\",\"cardano\",\"litecoin\",\"monero\",\"tezos\",\"cosmos\",\"wrapped-bitcoin\",\"zcash\",\"maker\"]},\"selected\":{\"id\":\"2823\"},\"selection_policy\":{\"id\":\"2844\"}},\"id\":\"2822\",\"type\":\"ColumnDataSource\"},{\"attributes\":{\"source\":{\"id\":\"2752\"}},\"id\":\"2760\",\"type\":\"CDSView\"},{\"attributes\":{\"fill_color\":{\"value\":\"red\"},\"hatch_color\":{\"value\":\"red\"},\"line_color\":{\"value\":\"red\"},\"size\":{\"value\":5.477225575051661},\"x\":{\"field\":\"PC1\"},\"y\":{\"field\":\"PC2\"}},\"id\":\"2827\",\"type\":\"Scatter\"},{\"attributes\":{},\"id\":\"2753\",\"type\":\"Selection\"},{\"attributes\":{\"tools\":[{\"id\":\"2712\"},{\"id\":\"2733\"},{\"id\":\"2734\"},{\"id\":\"2735\"},{\"id\":\"2736\"},{\"id\":\"2737\"}]},\"id\":\"2739\",\"type\":\"Toolbar\"},{\"attributes\":{},\"id\":\"2792\",\"type\":\"UnionRenderers\"},{\"attributes\":{\"fill_alpha\":{\"value\":0.2},\"fill_color\":{\"value\":\"#6d904f\"},\"hatch_alpha\":{\"value\":0.2},\"hatch_color\":{\"value\":\"#6d904f\"},\"line_alpha\":{\"value\":0.2},\"line_color\":{\"value\":\"#6d904f\"},\"size\":{\"value\":5.477225575051661},\"x\":{\"field\":\"PC1\"},\"y\":{\"field\":\"PC2\"}},\"id\":\"2828\",\"type\":\"Scatter\"},{\"attributes\":{\"fill_alpha\":{\"value\":0.1},\"fill_color\":{\"value\":\"#30a2da\"},\"hatch_alpha\":{\"value\":0.1},\"hatch_color\":{\"value\":\"#30a2da\"},\"line_alpha\":{\"value\":0.1},\"line_color\":{\"value\":\"#30a2da\"},\"size\":{\"value\":5.477225575051661},\"x\":{\"field\":\"PC1\"},\"y\":{\"field\":\"PC2\"}},\"id\":\"2756\",\"type\":\"Scatter\"},{\"attributes\":{\"angle\":{\"value\":0.0},\"fill_alpha\":{\"value\":1.0},\"fill_color\":{\"value\":\"#6d904f\"},\"hatch_alpha\":{\"value\":1.0},\"hatch_color\":{\"value\":\"#6d904f\"},\"hatch_scale\":{\"value\":12.0},\"hatch_weight\":{\"value\":1.0},\"line_alpha\":{\"value\":1.0},\"line_cap\":{\"value\":\"butt\"},\"line_color\":{\"value\":\"#6d904f\"},\"line_dash\":{\"value\":[]},\"line_dash_offset\":{\"value\":0},\"line_join\":{\"value\":\"bevel\"},\"line_width\":{\"value\":1},\"marker\":{\"value\":\"circle\"},\"size\":{\"value\":5.477225575051661},\"x\":{\"field\":\"PC1\"},\"y\":{\"field\":\"PC2\"}},\"id\":\"2848\",\"type\":\"Scatter\"},{\"attributes\":{},\"id\":\"2775\",\"type\":\"Selection\"},{\"attributes\":{},\"id\":\"2721\",\"type\":\"LinearScale\"},{\"attributes\":{\"margin\":[5,5,5,5],\"name\":\"HSpacer05568\",\"sizing_mode\":\"stretch_width\"},\"id\":\"2993\",\"type\":\"Spacer\"},{\"attributes\":{\"callback\":null,\"renderers\":[{\"id\":\"2759\"},{\"id\":\"2781\"},{\"id\":\"2804\"},{\"id\":\"2829\"}],\"tags\":[\"hv_created\"],\"tooltips\":[[\"Crypto PCA Clusters\",\"@{Crypto_PCA_Clusters}\"],[\"PC1\",\"@{PC1}\"],[\"PC2\",\"@{PC2}\"],[\"coin_id\",\"@{coin_id}\"]]},\"id\":\"2712\",\"type\":\"HoverTool\"},{\"attributes\":{\"end\":8.485310422788723,\"reset_end\":8.485310422788723,\"reset_start\":-1.5540921804637515,\"start\":-1.5540921804637515,\"tags\":[[[\"PC1\",\"PC1\",null]]]},\"id\":\"2710\",\"type\":\"Range1d\"},{\"attributes\":{\"angle\":{\"value\":0.0},\"fill_alpha\":{\"value\":1.0},\"fill_color\":{\"value\":\"#e5ae38\"},\"hatch_alpha\":{\"value\":1.0},\"hatch_color\":{\"value\":\"#e5ae38\"},\"hatch_scale\":{\"value\":12.0},\"hatch_weight\":{\"value\":1.0},\"line_alpha\":{\"value\":1.0},\"line_cap\":{\"value\":\"butt\"},\"line_color\":{\"value\":\"#e5ae38\"},\"line_dash\":{\"value\":[]},\"line_dash_offset\":{\"value\":0},\"line_join\":{\"value\":\"bevel\"},\"line_width\":{\"value\":1},\"marker\":{\"value\":\"circle\"},\"size\":{\"value\":5.477225575051661},\"x\":{\"field\":\"PC1\"},\"y\":{\"field\":\"PC2\"}},\"id\":\"2821\",\"type\":\"Scatter\"},{\"attributes\":{\"fill_color\":{\"value\":\"#6d904f\"},\"hatch_color\":{\"value\":\"#6d904f\"},\"line_color\":{\"value\":\"#6d904f\"},\"size\":{\"value\":5.477225575051661},\"x\":{\"field\":\"PC1\"},\"y\":{\"field\":\"PC2\"}},\"id\":\"2825\",\"type\":\"Scatter\"},{\"attributes\":{},\"id\":\"2751\",\"type\":\"AllLabels\"},{\"attributes\":{\"data\":{\"Crypto_PCA_Clusters\":[0,0,0,0,0,0,0,0,0,0,0,0,0,0,0,0,0,0,0,0,0,0,0,0,0,0],\"PC1\":{\"__ndarray__\":\"UpZ8amq3278kYXw2izLev+Lya5vXSei/BPxzoPfEz7+Qh/TX3g7cv5wZGVOKMOa/g0wjp68s2b+6A7sJMGewP9+yldMFTN+/E+kqwdFu4L8ZF4kx+yzXv8YSO2dvc9q/1hEoujMU2r+LZdmqtnzjP/NN1mNC0Ny/mdi9MiN46L8qsu9uVM3hv+VGFZE5agVAqSC8UEGl47/DvuS6vI7ivzEKKydStOs/0pK6/7yWvD+wXMBgQDzkv5UbmkYF++K/Gr1JmQJS3b8X4q/49hDTvw==\",\"dtype\":\"float64\",\"order\":\"little\",\"shape\":[26]},\"PC2\":{\"__ndarray__\":\"Z9F7TyqFxb9wj1UaIIDMv1DhzCbqwMm/xToUYyAF9r+JZsaEbXHGvxbJIJL6Ut6/DSu0IHiyu79wgFApNFH0v/egJl5vcue/k5KaSllHwr+tiEuGzZTvv2D5wy5akuW/it3jHmozy7+eF2SFdAjiPzMuIf2aVMO/H+uFsYSS4L9QbbiA5wL/vwyKJoz3k4y/c48PRXSt3r/z3rYoLM7Wv2z+1spVGALA+SEohoZp2z89qFKDbN0AwCsR7msnAJY/HvWtmbtfwb8FSPDBzXbIvw==\",\"dtype\":\"float64\",\"order\":\"little\",\"shape\":[26]},\"coin_id\":[\"tether\",\"ripple\",\"bitcoin-cash-sv\",\"crypto-com-chain\",\"usd-coin\",\"eos\",\"tron\",\"okb\",\"stellar\",\"cdai\",\"neo\",\"leo-token\",\"huobi-token\",\"nem\",\"binance-usd\",\"iota\",\"vechain\",\"theta-token\",\"dash\",\"ethereum-classic\",\"havven\",\"omisego\",\"ontology\",\"ftx-token\",\"true-usd\",\"digibyte\"]},\"selected\":{\"id\":\"2753\"},\"selection_policy\":{\"id\":\"2768\"}},\"id\":\"2752\",\"type\":\"ColumnDataSource\"},{\"attributes\":{},\"id\":\"2750\",\"type\":\"BasicTickFormatter\"},{\"attributes\":{\"fill_alpha\":{\"value\":0.2},\"fill_color\":{\"value\":\"#30a2da\"},\"hatch_alpha\":{\"value\":0.2},\"hatch_color\":{\"value\":\"#30a2da\"},\"line_alpha\":{\"value\":0.2},\"line_color\":{\"value\":\"#30a2da\"},\"size\":{\"value\":5.477225575051661},\"x\":{\"field\":\"PC1\"},\"y\":{\"field\":\"PC2\"}},\"id\":\"2758\",\"type\":\"Scatter\"},{\"attributes\":{\"label\":{\"value\":\"3\"},\"renderers\":[{\"id\":\"2829\"}]},\"id\":\"2847\",\"type\":\"LegendItem\"},{\"attributes\":{\"fill_color\":{\"value\":\"red\"},\"hatch_color\":{\"value\":\"red\"},\"line_color\":{\"value\":\"red\"},\"size\":{\"value\":5.477225575051661},\"x\":{\"field\":\"PC1\"},\"y\":{\"field\":\"PC2\"}},\"id\":\"2757\",\"type\":\"Scatter\"},{\"attributes\":{},\"id\":\"2823\",\"type\":\"Selection\"},{\"attributes\":{\"angle\":{\"value\":0.0},\"fill_alpha\":{\"value\":1.0},\"fill_color\":{\"value\":\"#fc4f30\"},\"hatch_alpha\":{\"value\":1.0},\"hatch_color\":{\"value\":\"#fc4f30\"},\"hatch_scale\":{\"value\":12.0},\"hatch_weight\":{\"value\":1.0},\"line_alpha\":{\"value\":1.0},\"line_cap\":{\"value\":\"butt\"},\"line_color\":{\"value\":\"#fc4f30\"},\"line_dash\":{\"value\":[]},\"line_dash_offset\":{\"value\":0},\"line_join\":{\"value\":\"bevel\"},\"line_width\":{\"value\":1},\"marker\":{\"value\":\"circle\"},\"size\":{\"value\":5.477225575051661},\"x\":{\"field\":\"PC1\"},\"y\":{\"field\":\"PC2\"}},\"id\":\"2796\",\"type\":\"Scatter\"},{\"attributes\":{},\"id\":\"2798\",\"type\":\"Selection\"},{\"attributes\":{\"end\":7.834135596337129,\"reset_end\":7.834135596337129,\"reset_start\":-4.963347456561397,\"start\":-4.963347456561397,\"tags\":[[[\"PC2\",\"PC2\",null]]]},\"id\":\"2711\",\"type\":\"Range1d\"},{\"attributes\":{\"label\":{\"value\":\"0\"},\"renderers\":[{\"id\":\"2759\"}]},\"id\":\"2772\",\"type\":\"LegendItem\"},{\"attributes\":{},\"id\":\"2747\",\"type\":\"BasicTickFormatter\"},{\"attributes\":{\"below\":[{\"id\":\"2725\"}],\"center\":[{\"id\":\"2728\"},{\"id\":\"2732\"}],\"height\":300,\"left\":[{\"id\":\"2729\"}],\"margin\":[5,5,5,5],\"min_border_bottom\":10,\"min_border_left\":10,\"min_border_right\":10,\"min_border_top\":10,\"renderers\":[{\"id\":\"2759\"},{\"id\":\"2781\"},{\"id\":\"2804\"},{\"id\":\"2829\"}],\"right\":[{\"id\":\"2771\"}],\"sizing_mode\":\"fixed\",\"title\":{\"id\":\"2717\"},\"toolbar\":{\"id\":\"2739\"},\"width\":700,\"x_range\":{\"id\":\"2710\"},\"x_scale\":{\"id\":\"2721\"},\"y_range\":{\"id\":\"2711\"},\"y_scale\":{\"id\":\"2723\"}},\"id\":\"2716\",\"subtype\":\"Figure\",\"type\":\"Plot\"}],\"root_ids\":[\"2708\"]},\"title\":\"Bokeh Application\",\"version\":\"2.4.2\"}};\n",
       "    var render_items = [{\"docid\":\"2b18fce5-e80e-495b-ab2b-78a6b74ca9a4\",\"root_ids\":[\"2708\"],\"roots\":{\"2708\":\"14da22ec-f93e-46d7-92f8-4ef445232dbe\"}}];\n",
       "    root.Bokeh.embed.embed_items_notebook(docs_json, render_items);\n",
       "  }\n",
       "  if (root.Bokeh !== undefined && root.Bokeh.Panel !== undefined) {\n",
       "    embed_document(root);\n",
       "  } else {\n",
       "    var attempts = 0;\n",
       "    var timer = setInterval(function(root) {\n",
       "      if (root.Bokeh !== undefined && root.Bokeh.Panel !== undefined) {\n",
       "        clearInterval(timer);\n",
       "        embed_document(root);\n",
       "      } else if (document.readyState == \"complete\") {\n",
       "        attempts++;\n",
       "        if (attempts > 200) {\n",
       "          clearInterval(timer);\n",
       "          console.log(\"Bokeh: ERROR: Unable to run BokehJS code because BokehJS library is missing\");\n",
       "        }\n",
       "      }\n",
       "    }, 25, root)\n",
       "  }\n",
       "})(window);</script>"
      ],
      "text/plain": [
       ":NdOverlay   [Crypto PCA Clusters]\n",
       "   :Scatter   [PC1]   (PC2,coin_id)"
      ]
     },
     "execution_count": 153,
     "metadata": {
      "application/vnd.holoviews_exec.v0+json": {
       "id": "2708"
      }
     },
     "output_type": "execute_result"
    }
   ],
   "source": [
    "# Create a scatter plot using hvPlot by setting \n",
    "# `x=\"PC1\"` and `y=\"PC2\"`. \n",
    "# Color the graph points with the labels found using K-Means and \n",
    "# add the crypto name in the `hover_cols` parameter to identify \n",
    "# the cryptocurrency represented by each data point.\n",
    "\n",
    "df_market_data_pca_predictions_plot = df_market_data_pca_predictions.hvplot.scatter(\n",
    "    x = 'PC1',\n",
    "    y = 'PC2',\n",
    "    by = 'Crypto PCA Clusters',\n",
    "    hover_cols = 'coin_id',\n",
    "    hover_color = 'red',\n",
    "    title = 'Scatter Plot Showing Crypto PCA Clusters'\n",
    ")\n",
    "df_market_data_pca_predictions_plot"
   ]
  },
  {
   "cell_type": "markdown",
   "metadata": {},
   "source": [
    "---"
   ]
  },
  {
   "cell_type": "markdown",
   "metadata": {},
   "source": [
    "### Visualize and Compare the Results\n",
    "\n",
    "In this section, you will visually analyze the cluster analysis results by contrasting the outcome with and without using the optimization techniques.\n",
    "\n",
    "1. Create a composite plot using hvPlot and the plus (`+`) operator to contrast the Elbow Curve that you created to find the best value for `k` with the original and the PCA data.\n",
    "\n",
    "2. Create a composite plot using hvPlot and the plus (`+`) operator to contrast the cryptocurrencies clusters using the original and the PCA data.\n",
    "\n",
    "3. Answer the following question: After visually analyzing the cluster analysis results, what is the impact of using fewer features to cluster the data using K-Means?\n",
    "\n",
    "> **Rewind:** Back in Lesson 3 of Module 6, you learned how to create composite plots. You can look at that lesson to review how to make these plots; also, you can check [the hvPlot documentation](https://holoviz.org/tutorial/Composing_Plots.html)."
   ]
  },
  {
   "cell_type": "code",
   "execution_count": 162,
   "metadata": {},
   "outputs": [
    {
     "data": {},
     "metadata": {},
     "output_type": "display_data"
    },
    {
     "data": {
      "application/vnd.holoviews_exec.v0+json": "",
      "text/html": [
       "<div id='3315'>\n",
       "\n",
       "\n",
       "\n",
       "\n",
       "\n",
       "  <div class=\"bk-root\" id=\"e7fbddeb-e06a-4f68-8cc4-48738c869dbd\" data-root-id=\"3315\"></div>\n",
       "</div>\n",
       "<script type=\"application/javascript\">(function(root) {\n",
       "  function embed_document(root) {\n",
       "    var docs_json = {\"c0dec602-db56-4f0d-8d91-49931578969c\":{\"defs\":[{\"extends\":null,\"module\":null,\"name\":\"ReactiveHTML1\",\"overrides\":[],\"properties\":[]},{\"extends\":null,\"module\":null,\"name\":\"FlexBox1\",\"overrides\":[],\"properties\":[{\"default\":\"flex-start\",\"kind\":null,\"name\":\"align_content\"},{\"default\":\"flex-start\",\"kind\":null,\"name\":\"align_items\"},{\"default\":\"row\",\"kind\":null,\"name\":\"flex_direction\"},{\"default\":\"wrap\",\"kind\":null,\"name\":\"flex_wrap\"},{\"default\":\"flex-start\",\"kind\":null,\"name\":\"justify_content\"}]},{\"extends\":null,\"module\":null,\"name\":\"GridStack1\",\"overrides\":[],\"properties\":[{\"default\":\"warn\",\"kind\":null,\"name\":\"mode\"},{\"default\":null,\"kind\":null,\"name\":\"ncols\"},{\"default\":null,\"kind\":null,\"name\":\"nrows\"},{\"default\":true,\"kind\":null,\"name\":\"allow_resize\"},{\"default\":true,\"kind\":null,\"name\":\"allow_drag\"},{\"default\":[],\"kind\":null,\"name\":\"state\"}]},{\"extends\":null,\"module\":null,\"name\":\"click1\",\"overrides\":[],\"properties\":[{\"default\":\"\",\"kind\":null,\"name\":\"terminal_output\"},{\"default\":\"\",\"kind\":null,\"name\":\"debug_name\"},{\"default\":0,\"kind\":null,\"name\":\"clears\"}]},{\"extends\":null,\"module\":null,\"name\":\"TemplateActions1\",\"overrides\":[],\"properties\":[{\"default\":0,\"kind\":null,\"name\":\"open_modal\"},{\"default\":0,\"kind\":null,\"name\":\"close_modal\"}]},{\"extends\":null,\"module\":null,\"name\":\"MaterialTemplateActions1\",\"overrides\":[],\"properties\":[{\"default\":0,\"kind\":null,\"name\":\"open_modal\"},{\"default\":0,\"kind\":null,\"name\":\"close_modal\"}]}],\"roots\":{\"references\":[{\"attributes\":{},\"id\":\"3339\",\"type\":\"WheelZoomTool\"},{\"attributes\":{},\"id\":\"3338\",\"type\":\"PanTool\"},{\"attributes\":{\"axis\":{\"id\":\"3378\"},\"coordinates\":null,\"grid_line_color\":null,\"group\":null,\"ticker\":null},\"id\":\"3381\",\"type\":\"Grid\"},{\"attributes\":{\"coordinates\":null,\"group\":null,\"text\":\"Inertia Values vs Number of Clusters\",\"text_color\":\"black\",\"text_font_size\":\"12pt\"},\"id\":\"3370\",\"type\":\"Title\"},{\"attributes\":{},\"id\":\"3431\",\"type\":\"UnionRenderers\"},{\"attributes\":{\"overlay\":{\"id\":\"3342\"}},\"id\":\"3340\",\"type\":\"BoxZoomTool\"},{\"attributes\":{},\"id\":\"3341\",\"type\":\"ResetTool\"},{\"attributes\":{\"axis\":{\"id\":\"3382\"},\"coordinates\":null,\"dimension\":1,\"grid_line_color\":null,\"group\":null,\"ticker\":null},\"id\":\"3385\",\"type\":\"Grid\"},{\"attributes\":{},\"id\":\"3379\",\"type\":\"BasicTicker\"},{\"attributes\":{},\"id\":\"3387\",\"type\":\"PanTool\"},{\"attributes\":{\"bottom_units\":\"screen\",\"coordinates\":null,\"fill_alpha\":0.5,\"fill_color\":\"lightgrey\",\"group\":null,\"left_units\":\"screen\",\"level\":\"overlay\",\"line_alpha\":1.0,\"line_color\":\"black\",\"line_dash\":[4,4],\"line_width\":2,\"right_units\":\"screen\",\"syncable\":false,\"top_units\":\"screen\"},\"id\":\"3342\",\"type\":\"BoxAnnotation\"},{\"attributes\":{\"axis_label\":\"Inertia Value\",\"coordinates\":null,\"formatter\":{\"id\":\"3412\"},\"group\":null,\"major_label_policy\":{\"id\":\"3413\"},\"ticker\":{\"id\":\"3383\"}},\"id\":\"3382\",\"type\":\"LinearAxis\"},{\"attributes\":{},\"id\":\"3361\",\"type\":\"BasicTickFormatter\"},{\"attributes\":{},\"id\":\"3383\",\"type\":\"BasicTicker\"},{\"attributes\":{\"below\":[{\"id\":\"3378\"}],\"center\":[{\"id\":\"3381\"},{\"id\":\"3385\"}],\"height\":300,\"left\":[{\"id\":\"3382\"}],\"margin\":null,\"min_border_bottom\":10,\"min_border_left\":10,\"min_border_right\":10,\"min_border_top\":10,\"renderers\":[{\"id\":\"3405\"}],\"sizing_mode\":\"fixed\",\"title\":{\"id\":\"3370\"},\"toolbar\":{\"id\":\"3392\"},\"toolbar_location\":null,\"width\":700,\"x_range\":{\"id\":\"3317\"},\"x_scale\":{\"id\":\"3374\"},\"y_range\":{\"id\":\"3318\"},\"y_scale\":{\"id\":\"3376\"}},\"id\":\"3369\",\"subtype\":\"Figure\",\"type\":\"Plot\"},{\"attributes\":{},\"id\":\"3388\",\"type\":\"WheelZoomTool\"},{\"attributes\":{\"axis\":{\"id\":\"3333\"},\"coordinates\":null,\"dimension\":1,\"grid_line_color\":null,\"group\":null,\"ticker\":null},\"id\":\"3336\",\"type\":\"Grid\"},{\"attributes\":{\"line_color\":\"#30a2da\",\"line_width\":2,\"x\":{\"field\":\"k\"},\"y\":{\"field\":\"inertia\"}},\"id\":\"3353\",\"type\":\"Line\"},{\"attributes\":{},\"id\":\"3386\",\"type\":\"SaveTool\"},{\"attributes\":{\"overlay\":{\"id\":\"3391\"}},\"id\":\"3389\",\"type\":\"BoxZoomTool\"},{\"attributes\":{\"line_alpha\":0.1,\"line_color\":\"#30a2da\",\"line_width\":2,\"x\":{\"field\":\"k\"},\"y\":{\"field\":\"inertia\"}},\"id\":\"3354\",\"type\":\"Line\"},{\"attributes\":{},\"id\":\"3420\",\"type\":\"UnionRenderers\"},{\"attributes\":{},\"id\":\"3390\",\"type\":\"ResetTool\"},{\"attributes\":{\"axis_label\":\"inertia\",\"coordinates\":null,\"formatter\":{\"id\":\"3366\"},\"group\":null,\"major_label_policy\":{\"id\":\"3367\"},\"ticker\":{\"id\":\"3334\"}},\"id\":\"3333\",\"type\":\"LinearAxis\"},{\"attributes\":{\"bottom_units\":\"screen\",\"coordinates\":null,\"fill_alpha\":0.5,\"fill_color\":\"lightgrey\",\"group\":null,\"left_units\":\"screen\",\"level\":\"overlay\",\"line_alpha\":1.0,\"line_color\":\"black\",\"line_dash\":[4,4],\"line_width\":2,\"right_units\":\"screen\",\"syncable\":false,\"top_units\":\"screen\"},\"id\":\"3391\",\"type\":\"BoxAnnotation\"},{\"attributes\":{},\"id\":\"3410\",\"type\":\"AllLabels\"},{\"attributes\":{\"margin\":[5,5,5,5],\"name\":\"HSpacer06677\",\"sizing_mode\":\"stretch_width\"},\"id\":\"3316\",\"type\":\"Spacer\"},{\"attributes\":{\"tools\":[{\"id\":\"3319\"},{\"id\":\"3337\"},{\"id\":\"3338\"},{\"id\":\"3339\"},{\"id\":\"3340\"},{\"id\":\"3341\"}]},\"id\":\"3343\",\"type\":\"Toolbar\"},{\"attributes\":{\"line_color\":\"green\",\"line_width\":2,\"x\":{\"field\":\"k\"},\"y\":{\"field\":\"inertia\"}},\"id\":\"3402\",\"type\":\"Line\"},{\"attributes\":{\"children\":[[{\"id\":\"3320\"},0,0],[{\"id\":\"3369\"},0,1]]},\"id\":\"3435\",\"type\":\"GridBox\"},{\"attributes\":{\"line_alpha\":0.1,\"line_color\":\"green\",\"line_width\":2,\"x\":{\"field\":\"k\"},\"y\":{\"field\":\"inertia\"}},\"id\":\"3403\",\"type\":\"Line\"},{\"attributes\":{},\"id\":\"3351\",\"type\":\"Selection\"},{\"attributes\":{\"children\":[{\"id\":\"3316\"},{\"id\":\"3438\"},{\"id\":\"3610\"}],\"margin\":[0,0,0,0],\"name\":\"Row06673\",\"tags\":[\"embedded\"]},\"id\":\"3315\",\"type\":\"Row\"},{\"attributes\":{},\"id\":\"3325\",\"type\":\"LinearScale\"},{\"attributes\":{\"line_alpha\":0.2,\"line_color\":\"#30a2da\",\"line_width\":2,\"x\":{\"field\":\"k\"},\"y\":{\"field\":\"inertia\"}},\"id\":\"3355\",\"type\":\"Line\"},{\"attributes\":{\"source\":{\"id\":\"3350\"}},\"id\":\"3357\",\"type\":\"CDSView\"},{\"attributes\":{\"line_color\":\"#30a2da\",\"line_width\":2,\"x\":{\"field\":\"k\"},\"y\":{\"field\":\"inertia\"}},\"id\":\"3358\",\"type\":\"Line\"},{\"attributes\":{\"tools\":[{\"id\":\"3368\"},{\"id\":\"3386\"},{\"id\":\"3387\"},{\"id\":\"3388\"},{\"id\":\"3389\"},{\"id\":\"3390\"}]},\"id\":\"3392\",\"type\":\"Toolbar\"},{\"attributes\":{},\"id\":\"3374\",\"type\":\"LinearScale\"},{\"attributes\":{\"data\":{\"inertia\":{\"__ndarray__\":\"EQAmQfwNcECOtfYN+xllQPYsl3eTcVdAmIiJ/i7VSEDWFmXIevBCQH9sYu90njtAX+YhZsouNUCng8R/dRcxQDQWNJSJVStApe9NHWQeJUA=\",\"dtype\":\"float64\",\"order\":\"little\",\"shape\":[10]},\"k\":[1,2,3,4,5,6,7,8,9,10]},\"selected\":{\"id\":\"3400\"},\"selection_policy\":{\"id\":\"3431\"}},\"id\":\"3399\",\"type\":\"ColumnDataSource\"},{\"attributes\":{\"children\":[{\"id\":\"3437\"},{\"id\":\"3435\"}]},\"id\":\"3438\",\"type\":\"Column\"},{\"attributes\":{\"end\":314.64406424372066,\"reset_end\":314.64406424372066,\"reset_start\":-17.084706680927226,\"start\":-17.084706680927226,\"tags\":[[[\"inertia\",\"inertia\",null]]]},\"id\":\"3318\",\"type\":\"Range1d\"},{\"attributes\":{\"ticks\":[1,2,3,4,5,6,7,8,9,10]},\"id\":\"3359\",\"type\":\"FixedTicker\"},{\"attributes\":{},\"id\":\"3412\",\"type\":\"BasicTickFormatter\"},{\"attributes\":{\"margin\":[5,5,5,5],\"name\":\"HSpacer06678\",\"sizing_mode\":\"stretch_width\"},\"id\":\"3610\",\"type\":\"Spacer\"},{\"attributes\":{},\"id\":\"3413\",\"type\":\"AllLabels\"},{\"attributes\":{\"axis_label\":\"Number of Clusters (k)\",\"coordinates\":null,\"formatter\":{\"id\":\"3409\"},\"group\":null,\"major_label_policy\":{\"id\":\"3410\"},\"ticker\":{\"id\":\"3379\"}},\"id\":\"3378\",\"type\":\"LinearAxis\"},{\"attributes\":{\"end\":10.0,\"reset_end\":10.0,\"reset_start\":1.0,\"start\":1.0,\"tags\":[[[\"k\",\"k\",null]]]},\"id\":\"3317\",\"type\":\"Range1d\"},{\"attributes\":{},\"id\":\"3400\",\"type\":\"Selection\"},{\"attributes\":{},\"id\":\"3409\",\"type\":\"BasicTickFormatter\"},{\"attributes\":{\"toolbars\":[{\"id\":\"3343\"},{\"id\":\"3392\"}],\"tools\":[{\"id\":\"3319\"},{\"id\":\"3337\"},{\"id\":\"3338\"},{\"id\":\"3339\"},{\"id\":\"3340\"},{\"id\":\"3341\"},{\"id\":\"3368\"},{\"id\":\"3386\"},{\"id\":\"3387\"},{\"id\":\"3388\"},{\"id\":\"3389\"},{\"id\":\"3390\"}]},\"id\":\"3436\",\"type\":\"ProxyToolbar\"},{\"attributes\":{\"line_alpha\":0.2,\"line_color\":\"green\",\"line_width\":2,\"x\":{\"field\":\"k\"},\"y\":{\"field\":\"inertia\"}},\"id\":\"3404\",\"type\":\"Line\"},{\"attributes\":{\"callback\":null,\"renderers\":[{\"id\":\"3356\"}],\"tags\":[\"hv_created\"],\"tooltips\":[[\"k\",\"@{k}\"],[\"inertia\",\"@{inertia}\"]]},\"id\":\"3319\",\"type\":\"HoverTool\"},{\"attributes\":{\"coordinates\":null,\"group\":null,\"text\":\"Elbow Curve\",\"text_color\":\"black\",\"text_font_size\":\"12pt\"},\"id\":\"3321\",\"type\":\"Title\"},{\"attributes\":{},\"id\":\"3367\",\"type\":\"AllLabels\"},{\"attributes\":{\"below\":[{\"id\":\"3329\"}],\"center\":[{\"id\":\"3332\"},{\"id\":\"3336\"}],\"height\":300,\"left\":[{\"id\":\"3333\"}],\"margin\":null,\"min_border_bottom\":10,\"min_border_left\":10,\"min_border_right\":10,\"min_border_top\":10,\"renderers\":[{\"id\":\"3356\"}],\"sizing_mode\":\"fixed\",\"title\":{\"id\":\"3321\"},\"toolbar\":{\"id\":\"3343\"},\"toolbar_location\":null,\"width\":700,\"x_range\":{\"id\":\"3317\"},\"x_scale\":{\"id\":\"3325\"},\"y_range\":{\"id\":\"3318\"},\"y_scale\":{\"id\":\"3327\"}},\"id\":\"3320\",\"subtype\":\"Figure\",\"type\":\"Plot\"},{\"attributes\":{\"axis\":{\"id\":\"3329\"},\"coordinates\":null,\"grid_line_color\":null,\"group\":null,\"ticker\":null},\"id\":\"3332\",\"type\":\"Grid\"},{\"attributes\":{\"data\":{\"inertia\":{\"__ndarray__\":\"AAAAAADwcUByhzI6P3poQOGRvNowzF5AF+6ulG/BU0BnEQsuWlNQQOXqC/e6cUpAiCebkxT1RUBu++EeLsJCQMB0IF8cPkBAineL7Q85PEA=\",\"dtype\":\"float64\",\"order\":\"little\",\"shape\":[10]},\"k\":[1,2,3,4,5,6,7,8,9,10]},\"selected\":{\"id\":\"3351\"},\"selection_policy\":{\"id\":\"3420\"}},\"id\":\"3350\",\"type\":\"ColumnDataSource\"},{\"attributes\":{\"callback\":null,\"renderers\":[{\"id\":\"3405\"}],\"tags\":[\"hv_created\"],\"tooltips\":[[\"k\",\"@{k}\"],[\"inertia\",\"@{inertia}\"]]},\"id\":\"3368\",\"type\":\"HoverTool\"},{\"attributes\":{},\"id\":\"3376\",\"type\":\"LinearScale\"},{\"attributes\":{},\"id\":\"3327\",\"type\":\"LinearScale\"},{\"attributes\":{},\"id\":\"3337\",\"type\":\"SaveTool\"},{\"attributes\":{},\"id\":\"3366\",\"type\":\"BasicTickFormatter\"},{\"attributes\":{},\"id\":\"3362\",\"type\":\"AllLabels\"},{\"attributes\":{\"toolbar\":{\"id\":\"3436\"},\"toolbar_location\":\"above\"},\"id\":\"3437\",\"type\":\"ToolbarBox\"},{\"attributes\":{\"axis_label\":\"k\",\"coordinates\":null,\"formatter\":{\"id\":\"3361\"},\"group\":null,\"major_label_policy\":{\"id\":\"3362\"},\"ticker\":{\"id\":\"3359\"}},\"id\":\"3329\",\"type\":\"LinearAxis\"},{\"attributes\":{\"source\":{\"id\":\"3399\"}},\"id\":\"3406\",\"type\":\"CDSView\"},{\"attributes\":{\"coordinates\":null,\"data_source\":{\"id\":\"3350\"},\"glyph\":{\"id\":\"3353\"},\"group\":null,\"hover_glyph\":null,\"muted_glyph\":{\"id\":\"3355\"},\"nonselection_glyph\":{\"id\":\"3354\"},\"selection_glyph\":{\"id\":\"3358\"},\"view\":{\"id\":\"3357\"}},\"id\":\"3356\",\"type\":\"GlyphRenderer\"},{\"attributes\":{\"coordinates\":null,\"data_source\":{\"id\":\"3399\"},\"glyph\":{\"id\":\"3402\"},\"group\":null,\"hover_glyph\":null,\"muted_glyph\":{\"id\":\"3404\"},\"nonselection_glyph\":{\"id\":\"3403\"},\"selection_glyph\":{\"id\":\"3407\"},\"view\":{\"id\":\"3406\"}},\"id\":\"3405\",\"type\":\"GlyphRenderer\"},{\"attributes\":{},\"id\":\"3334\",\"type\":\"BasicTicker\"},{\"attributes\":{\"line_color\":\"green\",\"line_width\":2,\"x\":{\"field\":\"k\"},\"y\":{\"field\":\"inertia\"}},\"id\":\"3407\",\"type\":\"Line\"}],\"root_ids\":[\"3315\"]},\"title\":\"Bokeh Application\",\"version\":\"2.4.2\"}};\n",
       "    var render_items = [{\"docid\":\"c0dec602-db56-4f0d-8d91-49931578969c\",\"root_ids\":[\"3315\"],\"roots\":{\"3315\":\"e7fbddeb-e06a-4f68-8cc4-48738c869dbd\"}}];\n",
       "    root.Bokeh.embed.embed_items_notebook(docs_json, render_items);\n",
       "  }\n",
       "  if (root.Bokeh !== undefined && root.Bokeh.Panel !== undefined) {\n",
       "    embed_document(root);\n",
       "  } else {\n",
       "    var attempts = 0;\n",
       "    var timer = setInterval(function(root) {\n",
       "      if (root.Bokeh !== undefined && root.Bokeh.Panel !== undefined) {\n",
       "        clearInterval(timer);\n",
       "        embed_document(root);\n",
       "      } else if (document.readyState == \"complete\") {\n",
       "        attempts++;\n",
       "        if (attempts > 200) {\n",
       "          clearInterval(timer);\n",
       "          console.log(\"Bokeh: ERROR: Unable to run BokehJS code because BokehJS library is missing\");\n",
       "        }\n",
       "      }\n",
       "    }, 25, root)\n",
       "  }\n",
       "})(window);</script>"
      ],
      "text/plain": [
       ":Layout\n",
       "   .Curve.I  :Curve   [k]   (inertia)\n",
       "   .Curve.II :Curve   [k]   (inertia)"
      ]
     },
     "execution_count": 162,
     "metadata": {
      "application/vnd.holoviews_exec.v0+json": {
       "id": "3315"
      }
     },
     "output_type": "execute_result"
    }
   ],
   "source": [
    "# Composite plot to contrast the Elbow curves\n",
    "elbow_plot1 + elbow_plot2"
   ]
  },
  {
   "cell_type": "code",
   "execution_count": 165,
   "metadata": {},
   "outputs": [
    {
     "data": {},
     "metadata": {},
     "output_type": "display_data"
    },
    {
     "data": {
      "application/vnd.holoviews_exec.v0+json": "",
      "text/html": [
       "<div id='4788'>\n",
       "\n",
       "\n",
       "\n",
       "\n",
       "\n",
       "  <div class=\"bk-root\" id=\"b3bb1f45-bfda-43a2-8822-1f22dd35fb9c\" data-root-id=\"4788\"></div>\n",
       "</div>\n",
       "<script type=\"application/javascript\">(function(root) {\n",
       "  function embed_document(root) {\n",
       "    var docs_json = {\"f6765601-6718-4955-8968-4adb917ee53b\":{\"defs\":[{\"extends\":null,\"module\":null,\"name\":\"ReactiveHTML1\",\"overrides\":[],\"properties\":[]},{\"extends\":null,\"module\":null,\"name\":\"FlexBox1\",\"overrides\":[],\"properties\":[{\"default\":\"flex-start\",\"kind\":null,\"name\":\"align_content\"},{\"default\":\"flex-start\",\"kind\":null,\"name\":\"align_items\"},{\"default\":\"row\",\"kind\":null,\"name\":\"flex_direction\"},{\"default\":\"wrap\",\"kind\":null,\"name\":\"flex_wrap\"},{\"default\":\"flex-start\",\"kind\":null,\"name\":\"justify_content\"}]},{\"extends\":null,\"module\":null,\"name\":\"GridStack1\",\"overrides\":[],\"properties\":[{\"default\":\"warn\",\"kind\":null,\"name\":\"mode\"},{\"default\":null,\"kind\":null,\"name\":\"ncols\"},{\"default\":null,\"kind\":null,\"name\":\"nrows\"},{\"default\":true,\"kind\":null,\"name\":\"allow_resize\"},{\"default\":true,\"kind\":null,\"name\":\"allow_drag\"},{\"default\":[],\"kind\":null,\"name\":\"state\"}]},{\"extends\":null,\"module\":null,\"name\":\"click1\",\"overrides\":[],\"properties\":[{\"default\":\"\",\"kind\":null,\"name\":\"terminal_output\"},{\"default\":\"\",\"kind\":null,\"name\":\"debug_name\"},{\"default\":0,\"kind\":null,\"name\":\"clears\"}]},{\"extends\":null,\"module\":null,\"name\":\"TemplateActions1\",\"overrides\":[],\"properties\":[{\"default\":0,\"kind\":null,\"name\":\"open_modal\"},{\"default\":0,\"kind\":null,\"name\":\"close_modal\"}]},{\"extends\":null,\"module\":null,\"name\":\"MaterialTemplateActions1\",\"overrides\":[],\"properties\":[{\"default\":0,\"kind\":null,\"name\":\"open_modal\"},{\"default\":0,\"kind\":null,\"name\":\"close_modal\"}]}],\"roots\":{\"references\":[{\"attributes\":{},\"id\":\"5119\",\"type\":\"UnionRenderers\"},{\"attributes\":{},\"id\":\"4827\",\"type\":\"BasicTickFormatter\"},{\"attributes\":{},\"id\":\"4828\",\"type\":\"AllLabels\"},{\"attributes\":{},\"id\":\"4831\",\"type\":\"AllLabels\"},{\"attributes\":{},\"id\":\"4830\",\"type\":\"BasicTickFormatter\"},{\"attributes\":{\"angle\":{\"value\":0.0},\"fill_alpha\":{\"value\":1.0},\"fill_color\":{\"value\":\"#e5ae38\"},\"hatch_alpha\":{\"value\":1.0},\"hatch_color\":{\"value\":\"#e5ae38\"},\"hatch_scale\":{\"value\":12.0},\"hatch_weight\":{\"value\":1.0},\"line_alpha\":{\"value\":1.0},\"line_cap\":{\"value\":\"butt\"},\"line_color\":{\"value\":\"#e5ae38\"},\"line_dash\":{\"value\":[]},\"line_dash_offset\":{\"value\":0},\"line_join\":{\"value\":\"bevel\"},\"line_width\":{\"value\":1},\"marker\":{\"value\":\"circle\"},\"size\":{\"value\":5.477225575051661},\"x\":{\"field\":\"PC1\"},\"y\":{\"field\":\"PC2\"}},\"id\":\"5148\",\"type\":\"Scatter\"},{\"attributes\":{\"fill_color\":{\"value\":\"#30a2da\"},\"hatch_color\":{\"value\":\"#30a2da\"},\"line_color\":{\"value\":\"#30a2da\"},\"size\":{\"value\":5.477225575051661},\"x\":{\"field\":\"price_change_percentage_24h\"},\"y\":{\"field\":\"price_change_percentage_7d\"}},\"id\":\"4835\",\"type\":\"Scatter\"},{\"attributes\":{\"label\":{\"value\":\"0\"},\"renderers\":[{\"id\":\"4838\"}]},\"id\":\"4851\",\"type\":\"LegendItem\"},{\"attributes\":{\"coordinates\":null,\"data_source\":{\"id\":\"4832\"},\"glyph\":{\"id\":\"4835\"},\"group\":null,\"hover_glyph\":null,\"muted_glyph\":{\"id\":\"4837\"},\"nonselection_glyph\":{\"id\":\"4836\"},\"selection_glyph\":{\"id\":\"4852\"},\"view\":{\"id\":\"4839\"}},\"id\":\"4838\",\"type\":\"GlyphRenderer\"},{\"attributes\":{\"data\":{\"Predicted_Clusters\":[1],\"coin_id\":[\"ethlend\"],\"price_change_percentage_24h\":{\"__ndarray__\":\"3WeHPpbsE8A=\",\"dtype\":\"float64\",\"order\":\"little\",\"shape\":[1]},\"price_change_percentage_7d\":{\"__ndarray__\":\"dIWi2pshp78=\",\"dtype\":\"float64\",\"order\":\"little\",\"shape\":[1]}},\"selected\":{\"id\":\"4854\"},\"selection_policy\":{\"id\":\"4870\"}},\"id\":\"4853\",\"type\":\"ColumnDataSource\"},{\"attributes\":{\"angle\":{\"value\":0.0},\"fill_alpha\":{\"value\":1.0},\"fill_color\":{\"value\":\"#fc4f30\"},\"hatch_alpha\":{\"value\":1.0},\"hatch_color\":{\"value\":\"#fc4f30\"},\"hatch_scale\":{\"value\":12.0},\"hatch_weight\":{\"value\":1.0},\"line_alpha\":{\"value\":1.0},\"line_cap\":{\"value\":\"butt\"},\"line_color\":{\"value\":\"#fc4f30\"},\"line_dash\":{\"value\":[]},\"line_dash_offset\":{\"value\":0},\"line_join\":{\"value\":\"bevel\"},\"line_width\":{\"value\":1},\"marker\":{\"value\":\"circle\"},\"size\":{\"value\":5.477225575051661},\"x\":{\"field\":\"PC1\"},\"y\":{\"field\":\"PC2\"}},\"id\":\"5123\",\"type\":\"Scatter\"},{\"attributes\":{\"toolbars\":[{\"id\":\"4819\"},{\"id\":\"5066\"}],\"tools\":[{\"id\":\"4792\"},{\"id\":\"4813\"},{\"id\":\"4814\"},{\"id\":\"4815\"},{\"id\":\"4816\"},{\"id\":\"4817\"},{\"id\":\"5039\"},{\"id\":\"5060\"},{\"id\":\"5061\"},{\"id\":\"5062\"},{\"id\":\"5063\"},{\"id\":\"5064\"}]},\"id\":\"5323\",\"type\":\"ProxyToolbar\"},{\"attributes\":{\"fill_alpha\":{\"value\":0.2},\"fill_color\":{\"value\":\"#30a2da\"},\"hatch_alpha\":{\"value\":0.2},\"hatch_color\":{\"value\":\"#30a2da\"},\"line_alpha\":{\"value\":0.2},\"line_color\":{\"value\":\"#30a2da\"},\"size\":{\"value\":5.477225575051661},\"x\":{\"field\":\"price_change_percentage_24h\"},\"y\":{\"field\":\"price_change_percentage_7d\"}},\"id\":\"4837\",\"type\":\"Scatter\"},{\"attributes\":{\"data\":{\"Crypto_PCA_Clusters\":[3,3,3,3,3,3,3,3,3,3,3,3,3],\"PC1\":{\"__ndarray__\":\"N/XQrqo447+40e2+JFTdvz0Tj0NZhvK/7NIJ1HGH4L/CWkdgdNjcv9b9x3tOHta/h21M83DI5L/guE+KvvmuP6YxxVNFeum/o86LH/eZ07/B3W/HIlbjvzzz5tCaNdu/uEmjFh7m2L8=\",\"dtype\":\"float64\",\"order\":\"little\",\"shape\":[13]},\"PC2\":{\"__ndarray__\":\"ygJY8+P36j9/P81egFfdP6tEN3tlVABAdqRxTss29j+9ZPC8/ZDgP4bE/UiRV+c/ey0795eo2z+U9tOGdUYHQEqknptkpN+/akNue2CC5j9mCxibCnrqP+V0su7rjN8/W0ntLg0gxT8=\",\"dtype\":\"float64\",\"order\":\"little\",\"shape\":[13]},\"coin_id\":[\"bitcoin\",\"ethereum\",\"bitcoin-cash\",\"binancecoin\",\"chainlink\",\"cardano\",\"litecoin\",\"monero\",\"tezos\",\"cosmos\",\"wrapped-bitcoin\",\"zcash\",\"maker\"]},\"selected\":{\"id\":\"5150\"},\"selection_policy\":{\"id\":\"5171\"}},\"id\":\"5149\",\"type\":\"ColumnDataSource\"},{\"attributes\":{\"fill_alpha\":{\"value\":0.1},\"fill_color\":{\"value\":\"#30a2da\"},\"hatch_alpha\":{\"value\":0.1},\"hatch_color\":{\"value\":\"#30a2da\"},\"line_alpha\":{\"value\":0.1},\"line_color\":{\"value\":\"#30a2da\"},\"size\":{\"value\":5.477225575051661},\"x\":{\"field\":\"price_change_percentage_24h\"},\"y\":{\"field\":\"price_change_percentage_7d\"}},\"id\":\"4836\",\"type\":\"Scatter\"},{\"attributes\":{},\"id\":\"4833\",\"type\":\"Selection\"},{\"attributes\":{\"source\":{\"id\":\"5149\"}},\"id\":\"5157\",\"type\":\"CDSView\"},{\"attributes\":{},\"id\":\"5150\",\"type\":\"Selection\"},{\"attributes\":{\"margin\":[5,5,5,5],\"name\":\"HSpacer08697\",\"sizing_mode\":\"stretch_width\"},\"id\":\"5614\",\"type\":\"Spacer\"},{\"attributes\":{\"toolbar\":{\"id\":\"5323\"},\"toolbar_location\":\"above\"},\"id\":\"5324\",\"type\":\"ToolbarBox\"},{\"attributes\":{\"coordinates\":null,\"data_source\":{\"id\":\"5149\"},\"glyph\":{\"id\":\"5152\"},\"group\":null,\"hover_glyph\":{\"id\":\"5154\"},\"muted_glyph\":{\"id\":\"5155\"},\"nonselection_glyph\":{\"id\":\"5153\"},\"selection_glyph\":{\"id\":\"5175\"},\"view\":{\"id\":\"5157\"}},\"id\":\"5156\",\"type\":\"GlyphRenderer\"},{\"attributes\":{\"fill_alpha\":{\"value\":0.1},\"fill_color\":{\"value\":\"#6d904f\"},\"hatch_alpha\":{\"value\":0.1},\"hatch_color\":{\"value\":\"#6d904f\"},\"line_alpha\":{\"value\":0.1},\"line_color\":{\"value\":\"#6d904f\"},\"size\":{\"value\":5.477225575051661},\"x\":{\"field\":\"PC1\"},\"y\":{\"field\":\"PC2\"}},\"id\":\"5153\",\"type\":\"Scatter\"},{\"attributes\":{\"fill_color\":{\"value\":\"#6d904f\"},\"hatch_color\":{\"value\":\"#6d904f\"},\"line_color\":{\"value\":\"#6d904f\"},\"size\":{\"value\":5.477225575051661},\"x\":{\"field\":\"PC1\"},\"y\":{\"field\":\"PC2\"}},\"id\":\"5152\",\"type\":\"Scatter\"},{\"attributes\":{},\"id\":\"5144\",\"type\":\"UnionRenderers\"},{\"attributes\":{\"tools\":[{\"id\":\"4792\"},{\"id\":\"4813\"},{\"id\":\"4814\"},{\"id\":\"4815\"},{\"id\":\"4816\"},{\"id\":\"4817\"}]},\"id\":\"4819\",\"type\":\"Toolbar\"},{\"attributes\":{\"click_policy\":\"mute\",\"coordinates\":null,\"group\":null,\"items\":[{\"id\":\"4851\"},{\"id\":\"4873\"},{\"id\":\"4897\"},{\"id\":\"4923\"}],\"location\":[0,0],\"title\":\"Predicted Clusters\"},\"id\":\"4850\",\"type\":\"Legend\"},{\"attributes\":{},\"id\":\"5171\",\"type\":\"UnionRenderers\"},{\"attributes\":{\"fill_color\":{\"value\":\"red\"},\"hatch_color\":{\"value\":\"red\"},\"line_color\":{\"value\":\"red\"},\"size\":{\"value\":5.477225575051661},\"x\":{\"field\":\"PC1\"},\"y\":{\"field\":\"PC2\"}},\"id\":\"5154\",\"type\":\"Scatter\"},{\"attributes\":{\"fill_alpha\":{\"value\":0.2},\"fill_color\":{\"value\":\"#6d904f\"},\"hatch_alpha\":{\"value\":0.2},\"hatch_color\":{\"value\":\"#6d904f\"},\"line_alpha\":{\"value\":0.2},\"line_color\":{\"value\":\"#6d904f\"},\"size\":{\"value\":5.477225575051661},\"x\":{\"field\":\"PC1\"},\"y\":{\"field\":\"PC2\"}},\"id\":\"5155\",\"type\":\"Scatter\"},{\"attributes\":{\"label\":{\"value\":\"3\"},\"renderers\":[{\"id\":\"5156\"}]},\"id\":\"5174\",\"type\":\"LegendItem\"},{\"attributes\":{},\"id\":\"5125\",\"type\":\"Selection\"},{\"attributes\":{\"children\":[[{\"id\":\"4796\"},0,0],[{\"id\":\"5043\"},0,1]]},\"id\":\"5322\",\"type\":\"GridBox\"},{\"attributes\":{\"coordinates\":null,\"data_source\":{\"id\":\"5124\"},\"glyph\":{\"id\":\"5127\"},\"group\":null,\"hover_glyph\":{\"id\":\"5129\"},\"muted_glyph\":{\"id\":\"5130\"},\"nonselection_glyph\":{\"id\":\"5128\"},\"selection_glyph\":{\"id\":\"5148\"},\"view\":{\"id\":\"5132\"}},\"id\":\"5131\",\"type\":\"GlyphRenderer\"},{\"attributes\":{\"data\":{\"Predicted_Clusters\":[3],\"coin_id\":[\"celsius-degree-token\"],\"price_change_percentage_24h\":{\"__ndarray__\":\"VLqXBn668D8=\",\"dtype\":\"float64\",\"order\":\"little\",\"shape\":[1]},\"price_change_percentage_7d\":{\"__ndarray__\":\"Nv03JFjJ478=\",\"dtype\":\"float64\",\"order\":\"little\",\"shape\":[1]}},\"selected\":{\"id\":\"4900\"},\"selection_policy\":{\"id\":\"4920\"}},\"id\":\"4899\",\"type\":\"ColumnDataSource\"},{\"attributes\":{\"fill_alpha\":{\"value\":0.1},\"fill_color\":{\"value\":\"#e5ae38\"},\"hatch_alpha\":{\"value\":0.1},\"hatch_color\":{\"value\":\"#e5ae38\"},\"line_alpha\":{\"value\":0.1},\"line_color\":{\"value\":\"#e5ae38\"},\"size\":{\"value\":5.477225575051661},\"x\":{\"field\":\"PC1\"},\"y\":{\"field\":\"PC2\"}},\"id\":\"5128\",\"type\":\"Scatter\"},{\"attributes\":{\"fill_color\":{\"value\":\"#e5ae38\"},\"hatch_color\":{\"value\":\"#e5ae38\"},\"line_color\":{\"value\":\"#e5ae38\"},\"size\":{\"value\":5.477225575051661},\"x\":{\"field\":\"PC1\"},\"y\":{\"field\":\"PC2\"}},\"id\":\"5127\",\"type\":\"Scatter\"},{\"attributes\":{\"source\":{\"id\":\"5124\"}},\"id\":\"5132\",\"type\":\"CDSView\"},{\"attributes\":{\"label\":{\"value\":\"2\"},\"renderers\":[{\"id\":\"5131\"}]},\"id\":\"5147\",\"type\":\"LegendItem\"},{\"attributes\":{\"source\":{\"id\":\"4832\"}},\"id\":\"4839\",\"type\":\"CDSView\"},{\"attributes\":{\"fill_color\":{\"value\":\"red\"},\"hatch_color\":{\"value\":\"red\"},\"line_color\":{\"value\":\"red\"},\"size\":{\"value\":5.477225575051661},\"x\":{\"field\":\"PC1\"},\"y\":{\"field\":\"PC2\"}},\"id\":\"5129\",\"type\":\"Scatter\"},{\"attributes\":{\"fill_alpha\":{\"value\":0.2},\"fill_color\":{\"value\":\"#e5ae38\"},\"hatch_alpha\":{\"value\":0.2},\"hatch_color\":{\"value\":\"#e5ae38\"},\"line_alpha\":{\"value\":0.2},\"line_color\":{\"value\":\"#e5ae38\"},\"size\":{\"value\":5.477225575051661},\"x\":{\"field\":\"PC1\"},\"y\":{\"field\":\"PC2\"}},\"id\":\"5130\",\"type\":\"Scatter\"},{\"attributes\":{},\"id\":\"4847\",\"type\":\"UnionRenderers\"},{\"attributes\":{},\"id\":\"4876\",\"type\":\"Selection\"},{\"attributes\":{},\"id\":\"5095\",\"type\":\"UnionRenderers\"},{\"attributes\":{\"label\":{\"value\":\"1\"},\"renderers\":[{\"id\":\"4859\"}]},\"id\":\"4873\",\"type\":\"LegendItem\"},{\"attributes\":{\"angle\":{\"value\":0.0},\"fill_alpha\":{\"value\":1.0},\"fill_color\":{\"value\":\"#6d904f\"},\"hatch_alpha\":{\"value\":1.0},\"hatch_color\":{\"value\":\"#6d904f\"},\"hatch_scale\":{\"value\":12.0},\"hatch_weight\":{\"value\":1.0},\"line_alpha\":{\"value\":1.0},\"line_cap\":{\"value\":\"butt\"},\"line_color\":{\"value\":\"#6d904f\"},\"line_dash\":{\"value\":[]},\"line_dash_offset\":{\"value\":0},\"line_join\":{\"value\":\"bevel\"},\"line_width\":{\"value\":1},\"marker\":{\"value\":\"circle\"},\"size\":{\"value\":5.477225575051661},\"x\":{\"field\":\"price_change_percentage_24h\"},\"y\":{\"field\":\"price_change_percentage_7d\"}},\"id\":\"4924\",\"type\":\"Scatter\"},{\"attributes\":{},\"id\":\"4870\",\"type\":\"UnionRenderers\"},{\"attributes\":{\"bottom_units\":\"screen\",\"coordinates\":null,\"fill_alpha\":0.5,\"fill_color\":\"lightgrey\",\"group\":null,\"left_units\":\"screen\",\"level\":\"overlay\",\"line_alpha\":1.0,\"line_color\":\"black\",\"line_dash\":[4,4],\"line_width\":2,\"right_units\":\"screen\",\"syncable\":false,\"top_units\":\"screen\"},\"id\":\"5065\",\"type\":\"BoxAnnotation\"},{\"attributes\":{},\"id\":\"5075\",\"type\":\"AllLabels\"},{\"attributes\":{\"angle\":{\"value\":0.0},\"fill_alpha\":{\"value\":1.0},\"fill_color\":{\"value\":\"#6d904f\"},\"hatch_alpha\":{\"value\":1.0},\"hatch_color\":{\"value\":\"#6d904f\"},\"hatch_scale\":{\"value\":12.0},\"hatch_weight\":{\"value\":1.0},\"line_alpha\":{\"value\":1.0},\"line_cap\":{\"value\":\"butt\"},\"line_color\":{\"value\":\"#6d904f\"},\"line_dash\":{\"value\":[]},\"line_dash_offset\":{\"value\":0},\"line_join\":{\"value\":\"bevel\"},\"line_width\":{\"value\":1},\"marker\":{\"value\":\"circle\"},\"size\":{\"value\":5.477225575051661},\"x\":{\"field\":\"PC1\"},\"y\":{\"field\":\"PC2\"}},\"id\":\"5175\",\"type\":\"Scatter\"},{\"attributes\":{\"tools\":[{\"id\":\"5039\"},{\"id\":\"5060\"},{\"id\":\"5061\"},{\"id\":\"5062\"},{\"id\":\"5063\"},{\"id\":\"5064\"}]},\"id\":\"5066\",\"type\":\"Toolbar\"},{\"attributes\":{\"angle\":{\"value\":0.0},\"fill_alpha\":{\"value\":1.0},\"fill_color\":{\"value\":\"#e5ae38\"},\"hatch_alpha\":{\"value\":1.0},\"hatch_color\":{\"value\":\"#e5ae38\"},\"hatch_scale\":{\"value\":12.0},\"hatch_weight\":{\"value\":1.0},\"line_alpha\":{\"value\":1.0},\"line_cap\":{\"value\":\"butt\"},\"line_color\":{\"value\":\"#e5ae38\"},\"line_dash\":{\"value\":[]},\"line_dash_offset\":{\"value\":0},\"line_join\":{\"value\":\"bevel\"},\"line_width\":{\"value\":1},\"marker\":{\"value\":\"circle\"},\"size\":{\"value\":5.477225575051661},\"x\":{\"field\":\"price_change_percentage_24h\"},\"y\":{\"field\":\"price_change_percentage_7d\"}},\"id\":\"4898\",\"type\":\"Scatter\"},{\"attributes\":{\"label\":{\"value\":\"0\"},\"renderers\":[{\"id\":\"5086\"}]},\"id\":\"5099\",\"type\":\"LegendItem\"},{\"attributes\":{},\"id\":\"4900\",\"type\":\"Selection\"},{\"attributes\":{},\"id\":\"5074\",\"type\":\"BasicTickFormatter\"},{\"attributes\":{},\"id\":\"5078\",\"type\":\"AllLabels\"},{\"attributes\":{},\"id\":\"4920\",\"type\":\"UnionRenderers\"},{\"attributes\":{\"label\":{\"value\":\"3\"},\"renderers\":[{\"id\":\"4905\"}]},\"id\":\"4923\",\"type\":\"LegendItem\"},{\"attributes\":{},\"id\":\"4801\",\"type\":\"LinearScale\"},{\"attributes\":{},\"id\":\"5077\",\"type\":\"BasicTickFormatter\"},{\"attributes\":{\"data\":{\"Predicted_Clusters\":[0,0,0,0,0,0,0,0,0,0,0,0,0,0,0,0,0,0,0,0,0,0,0,0,0,0],\"coin_id\":[\"tether\",\"ripple\",\"bitcoin-cash-sv\",\"crypto-com-chain\",\"usd-coin\",\"eos\",\"tron\",\"okb\",\"stellar\",\"cdai\",\"neo\",\"leo-token\",\"huobi-token\",\"nem\",\"binance-usd\",\"iota\",\"vechain\",\"theta-token\",\"dash\",\"ethereum-classic\",\"havven\",\"omisego\",\"ontology\",\"ftx-token\",\"true-usd\",\"digibyte\"],\"price_change_percentage_24h\":{\"__ndarray__\":\"mCJF1OlLlj/mJRG3Ed+kv1qZGRifu9w//rJXHrAz1T/yMTqenpahPx9kk3dK7sM/GTRehHalwD90fnl54Irtv9XPDahDw9G/+VOWQSEmxz+kpbukw1bSP6eM4M4OgKo/BcMOj9+jqr/Chq6S5ebLv2h3TIfCZ68/weEQ8QyV0D/KmZTmC7niP1YH9WGFy/m/N7JuVBEB07/EU4GAhEGyv8Ocf0hw2/a/lrPBJY23/j/IKcQzxy3av5WrmDyeito/Bf22eE/6sz9Y362Ir3rzPw==\",\"dtype\":\"float64\",\"order\":\"little\",\"shape\":[26]},\"price_change_percentage_7d\":{\"__ndarray__\":\"bZSIvk+a5r9RujxqH/Ppvw2U7adXaMi/d+r7VGbW+b9EGSx/8nTnv4rfBo4Lhe2/BEBwXEEApb8Udj8VbP/2vySelkVDp9i/7SZvVsyO5r8uu+JVH+LUvziN+gRMte2/o2qlez1D3b/CtPLKIS7rvyYjaswHnea/US6joeTvzz/dRmuCvtDvv/9TV66U6fq/ZWX+mWVCuD8GJ0pHuV/Nv8nIE2ZWH5q/TTxj/me11z+Htdvf1gXtv2Avihmzf9o/e31xtwIC5r/STlu6Y3Ljvw==\",\"dtype\":\"float64\",\"order\":\"little\",\"shape\":[26]}},\"selected\":{\"id\":\"4833\"},\"selection_policy\":{\"id\":\"4847\"}},\"id\":\"4832\",\"type\":\"ColumnDataSource\"},{\"attributes\":{\"children\":[{\"id\":\"5324\"},{\"id\":\"5322\"}]},\"id\":\"5325\",\"type\":\"Column\"},{\"attributes\":{\"end\":2.997678656273595,\"reset_end\":2.997678656273595,\"reset_start\":-2.107454305728652,\"start\":-2.107454305728652,\"tags\":[[[\"price_change_percentage_7d\",\"price_change_percentage_7d\",null]]]},\"id\":\"4791\",\"type\":\"Range1d\"},{\"attributes\":{\"fill_color\":{\"value\":\"#30a2da\"},\"hatch_color\":{\"value\":\"#30a2da\"},\"line_color\":{\"value\":\"#30a2da\"},\"size\":{\"value\":5.477225575051661},\"x\":{\"field\":\"PC1\"},\"y\":{\"field\":\"PC2\"}},\"id\":\"5082\",\"type\":\"Scatter\"},{\"attributes\":{\"source\":{\"id\":\"5079\"}},\"id\":\"5087\",\"type\":\"CDSView\"},{\"attributes\":{},\"id\":\"4803\",\"type\":\"LinearScale\"},{\"attributes\":{\"angle\":{\"value\":0.0},\"fill_alpha\":{\"value\":1.0},\"fill_color\":{\"value\":\"#fc4f30\"},\"hatch_alpha\":{\"value\":1.0},\"hatch_color\":{\"value\":\"#fc4f30\"},\"hatch_scale\":{\"value\":12.0},\"hatch_weight\":{\"value\":1.0},\"line_alpha\":{\"value\":1.0},\"line_cap\":{\"value\":\"butt\"},\"line_color\":{\"value\":\"#fc4f30\"},\"line_dash\":{\"value\":[]},\"line_dash_offset\":{\"value\":0},\"line_join\":{\"value\":\"bevel\"},\"line_width\":{\"value\":1},\"marker\":{\"value\":\"circle\"},\"size\":{\"value\":5.477225575051661},\"x\":{\"field\":\"price_change_percentage_24h\"},\"y\":{\"field\":\"price_change_percentage_7d\"}},\"id\":\"4874\",\"type\":\"Scatter\"},{\"attributes\":{\"coordinates\":null,\"group\":null,\"text\":\"Cryptocurrency Market Data Clustered by K-Means\",\"text_color\":\"black\",\"text_font_size\":\"12pt\"},\"id\":\"4797\",\"type\":\"Title\"},{\"attributes\":{\"fill_alpha\":{\"value\":0.2},\"fill_color\":{\"value\":\"#30a2da\"},\"hatch_alpha\":{\"value\":0.2},\"hatch_color\":{\"value\":\"#30a2da\"},\"line_alpha\":{\"value\":0.2},\"line_color\":{\"value\":\"#30a2da\"},\"size\":{\"value\":5.477225575051661},\"x\":{\"field\":\"PC1\"},\"y\":{\"field\":\"PC2\"}},\"id\":\"5085\",\"type\":\"Scatter\"},{\"attributes\":{\"axis\":{\"id\":\"5052\"},\"coordinates\":null,\"grid_line_color\":null,\"group\":null,\"ticker\":null},\"id\":\"5055\",\"type\":\"Grid\"},{\"attributes\":{\"end\":2.2155632386560065,\"reset_end\":2.2155632386560065,\"reset_start\":-5.276792781891412,\"start\":-5.276792781891412,\"tags\":[[[\"price_change_percentage_24h\",\"price_change_percentage_24h\",null]]]},\"id\":\"4790\",\"type\":\"Range1d\"},{\"attributes\":{},\"id\":\"4894\",\"type\":\"UnionRenderers\"},{\"attributes\":{\"fill_alpha\":{\"value\":0.2},\"fill_color\":{\"value\":\"#fc4f30\"},\"hatch_alpha\":{\"value\":0.2},\"hatch_color\":{\"value\":\"#fc4f30\"},\"line_alpha\":{\"value\":0.2},\"line_color\":{\"value\":\"#fc4f30\"},\"size\":{\"value\":5.477225575051661},\"x\":{\"field\":\"PC1\"},\"y\":{\"field\":\"PC2\"}},\"id\":\"5107\",\"type\":\"Scatter\"},{\"attributes\":{\"label\":{\"value\":\"2\"},\"renderers\":[{\"id\":\"4881\"}]},\"id\":\"4897\",\"type\":\"LegendItem\"},{\"attributes\":{\"data\":{\"Crypto_PCA_Clusters\":[0,0,0,0,0,0,0,0,0,0,0,0,0,0,0,0,0,0,0,0,0,0,0,0,0,0],\"PC1\":{\"__ndarray__\":\"UpZ8amq3278kYXw2izLev+Lya5vXSei/BPxzoPfEz7+Qh/TX3g7cv5wZGVOKMOa/g0wjp68s2b+6A7sJMGewP9+yldMFTN+/E+kqwdFu4L8ZF4kx+yzXv8YSO2dvc9q/1hEoujMU2r+LZdmqtnzjP/NN1mNC0Ny/mdi9MiN46L8qsu9uVM3hv+VGFZE5agVAqSC8UEGl47/DvuS6vI7ivzEKKydStOs/0pK6/7yWvD+wXMBgQDzkv5UbmkYF++K/Gr1JmQJS3b8X4q/49hDTvw==\",\"dtype\":\"float64\",\"order\":\"little\",\"shape\":[26]},\"PC2\":{\"__ndarray__\":\"Z9F7TyqFxb9wj1UaIIDMv1DhzCbqwMm/xToUYyAF9r+JZsaEbXHGvxbJIJL6Ut6/DSu0IHiyu79wgFApNFH0v/egJl5vcue/k5KaSllHwr+tiEuGzZTvv2D5wy5akuW/it3jHmozy7+eF2SFdAjiPzMuIf2aVMO/H+uFsYSS4L9QbbiA5wL/vwyKJoz3k4y/c48PRXSt3r/z3rYoLM7Wv2z+1spVGALA+SEohoZp2z89qFKDbN0AwCsR7msnAJY/HvWtmbtfwb8FSPDBzXbIvw==\",\"dtype\":\"float64\",\"order\":\"little\",\"shape\":[26]},\"coin_id\":[\"tether\",\"ripple\",\"bitcoin-cash-sv\",\"crypto-com-chain\",\"usd-coin\",\"eos\",\"tron\",\"okb\",\"stellar\",\"cdai\",\"neo\",\"leo-token\",\"huobi-token\",\"nem\",\"binance-usd\",\"iota\",\"vechain\",\"theta-token\",\"dash\",\"ethereum-classic\",\"havven\",\"omisego\",\"ontology\",\"ftx-token\",\"true-usd\",\"digibyte\"]},\"selected\":{\"id\":\"5080\"},\"selection_policy\":{\"id\":\"5095\"}},\"id\":\"5079\",\"type\":\"ColumnDataSource\"},{\"attributes\":{\"below\":[{\"id\":\"5052\"}],\"center\":[{\"id\":\"5055\"},{\"id\":\"5059\"}],\"height\":300,\"left\":[{\"id\":\"5056\"}],\"margin\":null,\"min_border_bottom\":10,\"min_border_left\":10,\"min_border_right\":10,\"min_border_top\":10,\"renderers\":[{\"id\":\"5086\"},{\"id\":\"5108\"},{\"id\":\"5131\"},{\"id\":\"5156\"}],\"right\":[{\"id\":\"5098\"}],\"sizing_mode\":\"fixed\",\"title\":{\"id\":\"5044\"},\"toolbar\":{\"id\":\"5066\"},\"toolbar_location\":null,\"width\":700,\"x_range\":{\"id\":\"5037\"},\"x_scale\":{\"id\":\"5048\"},\"y_range\":{\"id\":\"5038\"},\"y_scale\":{\"id\":\"5050\"}},\"id\":\"5043\",\"subtype\":\"Figure\",\"type\":\"Plot\"},{\"attributes\":{\"angle\":{\"value\":0.0},\"fill_alpha\":{\"value\":1.0},\"fill_color\":{\"value\":\"#30a2da\"},\"hatch_alpha\":{\"value\":1.0},\"hatch_color\":{\"value\":\"#30a2da\"},\"hatch_scale\":{\"value\":12.0},\"hatch_weight\":{\"value\":1.0},\"line_alpha\":{\"value\":1.0},\"line_cap\":{\"value\":\"butt\"},\"line_color\":{\"value\":\"#30a2da\"},\"line_dash\":{\"value\":[]},\"line_dash_offset\":{\"value\":0},\"line_join\":{\"value\":\"bevel\"},\"line_width\":{\"value\":1},\"marker\":{\"value\":\"circle\"},\"size\":{\"value\":5.477225575051661},\"x\":{\"field\":\"PC1\"},\"y\":{\"field\":\"PC2\"}},\"id\":\"5100\",\"type\":\"Scatter\"},{\"attributes\":{},\"id\":\"5048\",\"type\":\"LinearScale\"},{\"attributes\":{\"angle\":{\"value\":0.0},\"fill_alpha\":{\"value\":1.0},\"fill_color\":{\"value\":\"#30a2da\"},\"hatch_alpha\":{\"value\":1.0},\"hatch_color\":{\"value\":\"#30a2da\"},\"hatch_scale\":{\"value\":12.0},\"hatch_weight\":{\"value\":1.0},\"line_alpha\":{\"value\":1.0},\"line_cap\":{\"value\":\"butt\"},\"line_color\":{\"value\":\"#30a2da\"},\"line_dash\":{\"value\":[]},\"line_dash_offset\":{\"value\":0},\"line_join\":{\"value\":\"bevel\"},\"line_width\":{\"value\":1},\"marker\":{\"value\":\"circle\"},\"size\":{\"value\":5.477225575051661},\"x\":{\"field\":\"price_change_percentage_24h\"},\"y\":{\"field\":\"price_change_percentage_7d\"}},\"id\":\"4852\",\"type\":\"Scatter\"},{\"attributes\":{\"fill_color\":{\"value\":\"#6d904f\"},\"hatch_color\":{\"value\":\"#6d904f\"},\"line_color\":{\"value\":\"#6d904f\"},\"size\":{\"value\":5.477225575051661},\"x\":{\"field\":\"price_change_percentage_24h\"},\"y\":{\"field\":\"price_change_percentage_7d\"}},\"id\":\"4902\",\"type\":\"Scatter\"},{\"attributes\":{},\"id\":\"5053\",\"type\":\"BasicTicker\"},{\"attributes\":{\"coordinates\":null,\"group\":null,\"text\":\"Scatter Plot Showing Crypto PCA Clusters\",\"text_color\":\"black\",\"text_font_size\":\"12pt\"},\"id\":\"5044\",\"type\":\"Title\"},{\"attributes\":{\"data\":{\"Crypto_PCA_Clusters\":[2],\"PC1\":{\"__ndarray__\":\"YBQ7s2krE0A=\",\"dtype\":\"float64\",\"order\":\"little\",\"shape\":[1]},\"PC2\":{\"__ndarray__\":\"FlrQWxoSG0A=\",\"dtype\":\"float64\",\"order\":\"little\",\"shape\":[1]},\"coin_id\":[\"celsius-degree-token\"]},\"selected\":{\"id\":\"5125\"},\"selection_policy\":{\"id\":\"5144\"}},\"id\":\"5124\",\"type\":\"ColumnDataSource\"},{\"attributes\":{\"fill_alpha\":{\"value\":0.1},\"fill_color\":{\"value\":\"#6d904f\"},\"hatch_alpha\":{\"value\":0.1},\"hatch_color\":{\"value\":\"#6d904f\"},\"line_alpha\":{\"value\":0.1},\"line_color\":{\"value\":\"#6d904f\"},\"size\":{\"value\":5.477225575051661},\"x\":{\"field\":\"price_change_percentage_24h\"},\"y\":{\"field\":\"price_change_percentage_7d\"}},\"id\":\"4903\",\"type\":\"Scatter\"},{\"attributes\":{\"coordinates\":null,\"data_source\":{\"id\":\"4899\"},\"glyph\":{\"id\":\"4902\"},\"group\":null,\"hover_glyph\":null,\"muted_glyph\":{\"id\":\"4904\"},\"nonselection_glyph\":{\"id\":\"4903\"},\"selection_glyph\":{\"id\":\"4924\"},\"view\":{\"id\":\"4906\"}},\"id\":\"4905\",\"type\":\"GlyphRenderer\"},{\"attributes\":{\"data\":{\"Predicted_Clusters\":[2,2,2,2,2,2,2,2,2,2,2,2,2],\"coin_id\":[\"bitcoin\",\"ethereum\",\"bitcoin-cash\",\"binancecoin\",\"chainlink\",\"cardano\",\"litecoin\",\"monero\",\"tezos\",\"cosmos\",\"wrapped-bitcoin\",\"zcash\",\"maker\"],\"price_change_percentage_24h\":{\"__ndarray__\":\"DdlqYN9F4D86azDosLzHPzALIwCtFvM/9w6McDSK7D/VDHOpb1eHPzMEvaFkP7o/Sds39trWsz9Epj8/c9DQP4xAeNEVZ8O/qq8st/Fh0L8FWWk3mH7gP6wo083aUMC//ACFOIMFwL8=\",\"dtype\":\"float64\",\"order\":\"little\",\"shape\":[13]},\"price_change_percentage_7d\":{\"__ndarray__\":\"U1k8q3mQ3z9yoPpI+ebtPzAB2dP2AQBAgmkOMZk89T8FNulI+JMEQCZRaSLGIPg/84wjaB1l1T8rMp3jf678P2VmURqKqeY/XK6ZksNx/T9DfMqy1o7dPyTPDB1Xu+0/srW7TleV4j8=\",\"dtype\":\"float64\",\"order\":\"little\",\"shape\":[13]}},\"selected\":{\"id\":\"4876\"},\"selection_policy\":{\"id\":\"4894\"}},\"id\":\"4875\",\"type\":\"ColumnDataSource\"},{\"attributes\":{\"callback\":null,\"renderers\":[{\"id\":\"4838\"},{\"id\":\"4859\"},{\"id\":\"4881\"},{\"id\":\"4905\"}],\"tags\":[\"hv_created\"],\"tooltips\":[[\"Predicted Clusters\",\"@{Predicted_Clusters}\"],[\"price_change_percentage_24h\",\"@{price_change_percentage_24h}\"],[\"price_change_percentage_7d\",\"@{price_change_percentage_7d}\"],[\"coin_id\",\"@{coin_id}\"]]},\"id\":\"4792\",\"type\":\"HoverTool\"},{\"attributes\":{},\"id\":\"5050\",\"type\":\"LinearScale\"},{\"attributes\":{\"source\":{\"id\":\"5101\"}},\"id\":\"5109\",\"type\":\"CDSView\"},{\"attributes\":{\"below\":[{\"id\":\"4805\"}],\"center\":[{\"id\":\"4808\"},{\"id\":\"4812\"}],\"height\":300,\"left\":[{\"id\":\"4809\"}],\"margin\":null,\"min_border_bottom\":10,\"min_border_left\":10,\"min_border_right\":10,\"min_border_top\":10,\"renderers\":[{\"id\":\"4838\"},{\"id\":\"4859\"},{\"id\":\"4881\"},{\"id\":\"4905\"}],\"right\":[{\"id\":\"4850\"}],\"sizing_mode\":\"fixed\",\"title\":{\"id\":\"4797\"},\"toolbar\":{\"id\":\"4819\"},\"toolbar_location\":null,\"width\":700,\"x_range\":{\"id\":\"4790\"},\"x_scale\":{\"id\":\"4801\"},\"y_range\":{\"id\":\"4791\"},\"y_scale\":{\"id\":\"4803\"}},\"id\":\"4796\",\"subtype\":\"Figure\",\"type\":\"Plot\"},{\"attributes\":{\"callback\":null,\"renderers\":[{\"id\":\"5086\"},{\"id\":\"5108\"},{\"id\":\"5131\"},{\"id\":\"5156\"}],\"tags\":[\"hv_created\"],\"tooltips\":[[\"Crypto PCA Clusters\",\"@{Crypto_PCA_Clusters}\"],[\"PC1\",\"@{PC1}\"],[\"PC2\",\"@{PC2}\"],[\"coin_id\",\"@{coin_id}\"]]},\"id\":\"5039\",\"type\":\"HoverTool\"},{\"attributes\":{\"fill_color\":{\"value\":\"red\"},\"hatch_color\":{\"value\":\"red\"},\"line_color\":{\"value\":\"red\"},\"size\":{\"value\":5.477225575051661},\"x\":{\"field\":\"PC1\"},\"y\":{\"field\":\"PC2\"}},\"id\":\"5106\",\"type\":\"Scatter\"},{\"attributes\":{\"fill_color\":{\"value\":\"#fc4f30\"},\"hatch_color\":{\"value\":\"#fc4f30\"},\"line_color\":{\"value\":\"#fc4f30\"},\"size\":{\"value\":5.477225575051661},\"x\":{\"field\":\"PC1\"},\"y\":{\"field\":\"PC2\"}},\"id\":\"5104\",\"type\":\"Scatter\"},{\"attributes\":{\"margin\":[5,5,5,5],\"name\":\"HSpacer08696\",\"sizing_mode\":\"stretch_width\"},\"id\":\"4789\",\"type\":\"Spacer\"},{\"attributes\":{\"end\":8.485310422788723,\"reset_end\":8.485310422788723,\"reset_start\":-1.5540921804637515,\"start\":-1.5540921804637515,\"tags\":[[[\"PC1\",\"PC1\",null]]]},\"id\":\"5037\",\"type\":\"Range1d\"},{\"attributes\":{\"axis_label\":\"PC1\",\"coordinates\":null,\"formatter\":{\"id\":\"5074\"},\"group\":null,\"major_label_policy\":{\"id\":\"5075\"},\"ticker\":{\"id\":\"5053\"}},\"id\":\"5052\",\"type\":\"LinearAxis\"},{\"attributes\":{},\"id\":\"4814\",\"type\":\"PanTool\"},{\"attributes\":{\"fill_color\":{\"value\":\"#fc4f30\"},\"hatch_color\":{\"value\":\"#fc4f30\"},\"line_color\":{\"value\":\"#fc4f30\"},\"size\":{\"value\":5.477225575051661},\"x\":{\"field\":\"price_change_percentage_24h\"},\"y\":{\"field\":\"price_change_percentage_7d\"}},\"id\":\"4856\",\"type\":\"Scatter\"},{\"attributes\":{\"fill_alpha\":{\"value\":0.1},\"fill_color\":{\"value\":\"#fc4f30\"},\"hatch_alpha\":{\"value\":0.1},\"hatch_color\":{\"value\":\"#fc4f30\"},\"line_alpha\":{\"value\":0.1},\"line_color\":{\"value\":\"#fc4f30\"},\"size\":{\"value\":5.477225575051661},\"x\":{\"field\":\"price_change_percentage_24h\"},\"y\":{\"field\":\"price_change_percentage_7d\"}},\"id\":\"4857\",\"type\":\"Scatter\"},{\"attributes\":{},\"id\":\"5062\",\"type\":\"WheelZoomTool\"},{\"attributes\":{\"fill_alpha\":{\"value\":0.2},\"fill_color\":{\"value\":\"#6d904f\"},\"hatch_alpha\":{\"value\":0.2},\"hatch_color\":{\"value\":\"#6d904f\"},\"line_alpha\":{\"value\":0.2},\"line_color\":{\"value\":\"#6d904f\"},\"size\":{\"value\":5.477225575051661},\"x\":{\"field\":\"price_change_percentage_24h\"},\"y\":{\"field\":\"price_change_percentage_7d\"}},\"id\":\"4904\",\"type\":\"Scatter\"},{\"attributes\":{},\"id\":\"5061\",\"type\":\"PanTool\"},{\"attributes\":{\"source\":{\"id\":\"4899\"}},\"id\":\"4906\",\"type\":\"CDSView\"},{\"attributes\":{\"axis_label\":\"Price Change Percentage 24h\",\"coordinates\":null,\"formatter\":{\"id\":\"4827\"},\"group\":null,\"major_label_policy\":{\"id\":\"4828\"},\"ticker\":{\"id\":\"4806\"}},\"id\":\"4805\",\"type\":\"LinearAxis\"},{\"attributes\":{\"fill_color\":{\"value\":\"red\"},\"hatch_color\":{\"value\":\"red\"},\"line_color\":{\"value\":\"red\"},\"size\":{\"value\":5.477225575051661},\"x\":{\"field\":\"PC1\"},\"y\":{\"field\":\"PC2\"}},\"id\":\"5084\",\"type\":\"Scatter\"},{\"attributes\":{\"children\":[{\"id\":\"4789\"},{\"id\":\"5325\"},{\"id\":\"5614\"}],\"margin\":[0,0,0,0],\"name\":\"Row08692\",\"tags\":[\"embedded\"]},\"id\":\"4788\",\"type\":\"Row\"},{\"attributes\":{},\"id\":\"4815\",\"type\":\"WheelZoomTool\"},{\"attributes\":{\"axis_label\":\"PC2\",\"coordinates\":null,\"formatter\":{\"id\":\"5077\"},\"group\":null,\"major_label_policy\":{\"id\":\"5078\"},\"ticker\":{\"id\":\"5057\"}},\"id\":\"5056\",\"type\":\"LinearAxis\"},{\"attributes\":{\"axis\":{\"id\":\"4805\"},\"coordinates\":null,\"grid_line_color\":null,\"group\":null,\"ticker\":null},\"id\":\"4808\",\"type\":\"Grid\"},{\"attributes\":{\"end\":7.834135596337129,\"reset_end\":7.834135596337129,\"reset_start\":-4.963347456561397,\"start\":-4.963347456561397,\"tags\":[[[\"PC2\",\"PC2\",null]]]},\"id\":\"5038\",\"type\":\"Range1d\"},{\"attributes\":{\"click_policy\":\"mute\",\"coordinates\":null,\"group\":null,\"items\":[{\"id\":\"5099\"},{\"id\":\"5122\"},{\"id\":\"5147\"},{\"id\":\"5174\"}],\"location\":[0,0],\"title\":\"Crypto PCA Clusters\"},\"id\":\"5098\",\"type\":\"Legend\"},{\"attributes\":{\"axis\":{\"id\":\"5056\"},\"coordinates\":null,\"dimension\":1,\"grid_line_color\":null,\"group\":null,\"ticker\":null},\"id\":\"5059\",\"type\":\"Grid\"},{\"attributes\":{},\"id\":\"5057\",\"type\":\"BasicTicker\"},{\"attributes\":{\"axis\":{\"id\":\"4809\"},\"coordinates\":null,\"dimension\":1,\"grid_line_color\":null,\"group\":null,\"ticker\":null},\"id\":\"4812\",\"type\":\"Grid\"},{\"attributes\":{\"fill_color\":{\"value\":\"#e5ae38\"},\"hatch_color\":{\"value\":\"#e5ae38\"},\"line_color\":{\"value\":\"#e5ae38\"},\"size\":{\"value\":5.477225575051661},\"x\":{\"field\":\"price_change_percentage_24h\"},\"y\":{\"field\":\"price_change_percentage_7d\"}},\"id\":\"4878\",\"type\":\"Scatter\"},{\"attributes\":{},\"id\":\"5060\",\"type\":\"SaveTool\"},{\"attributes\":{},\"id\":\"4806\",\"type\":\"BasicTicker\"},{\"attributes\":{\"fill_alpha\":{\"value\":0.1},\"fill_color\":{\"value\":\"#30a2da\"},\"hatch_alpha\":{\"value\":0.1},\"hatch_color\":{\"value\":\"#30a2da\"},\"line_alpha\":{\"value\":0.1},\"line_color\":{\"value\":\"#30a2da\"},\"size\":{\"value\":5.477225575051661},\"x\":{\"field\":\"PC1\"},\"y\":{\"field\":\"PC2\"}},\"id\":\"5083\",\"type\":\"Scatter\"},{\"attributes\":{\"axis_label\":\"Price Change Percentage 7d\",\"coordinates\":null,\"formatter\":{\"id\":\"4830\"},\"group\":null,\"major_label_policy\":{\"id\":\"4831\"},\"ticker\":{\"id\":\"4810\"}},\"id\":\"4809\",\"type\":\"LinearAxis\"},{\"attributes\":{\"fill_alpha\":{\"value\":0.1},\"fill_color\":{\"value\":\"#e5ae38\"},\"hatch_alpha\":{\"value\":0.1},\"hatch_color\":{\"value\":\"#e5ae38\"},\"line_alpha\":{\"value\":0.1},\"line_color\":{\"value\":\"#e5ae38\"},\"size\":{\"value\":5.477225575051661},\"x\":{\"field\":\"price_change_percentage_24h\"},\"y\":{\"field\":\"price_change_percentage_7d\"}},\"id\":\"4879\",\"type\":\"Scatter\"},{\"attributes\":{\"data\":{\"Crypto_PCA_Clusters\":[1],\"PC1\":{\"__ndarray__\":\"RlWiy5MtIEA=\",\"dtype\":\"float64\",\"order\":\"little\",\"shape\":[1]},\"PC2\":{\"__ndarray__\":\"YQ3w8dQsD8A=\",\"dtype\":\"float64\",\"order\":\"little\",\"shape\":[1]},\"coin_id\":[\"ethlend\"]},\"selected\":{\"id\":\"5102\"},\"selection_policy\":{\"id\":\"5119\"}},\"id\":\"5101\",\"type\":\"ColumnDataSource\"},{\"attributes\":{\"overlay\":{\"id\":\"5065\"}},\"id\":\"5063\",\"type\":\"BoxZoomTool\"},{\"attributes\":{\"coordinates\":null,\"data_source\":{\"id\":\"4875\"},\"glyph\":{\"id\":\"4878\"},\"group\":null,\"hover_glyph\":null,\"muted_glyph\":{\"id\":\"4880\"},\"nonselection_glyph\":{\"id\":\"4879\"},\"selection_glyph\":{\"id\":\"4898\"},\"view\":{\"id\":\"4882\"}},\"id\":\"4881\",\"type\":\"GlyphRenderer\"},{\"attributes\":{},\"id\":\"5064\",\"type\":\"ResetTool\"},{\"attributes\":{},\"id\":\"4810\",\"type\":\"BasicTicker\"},{\"attributes\":{},\"id\":\"5080\",\"type\":\"Selection\"},{\"attributes\":{},\"id\":\"4854\",\"type\":\"Selection\"},{\"attributes\":{},\"id\":\"4813\",\"type\":\"SaveTool\"},{\"attributes\":{\"fill_alpha\":{\"value\":0.2},\"fill_color\":{\"value\":\"#e5ae38\"},\"hatch_alpha\":{\"value\":0.2},\"hatch_color\":{\"value\":\"#e5ae38\"},\"line_alpha\":{\"value\":0.2},\"line_color\":{\"value\":\"#e5ae38\"},\"size\":{\"value\":5.477225575051661},\"x\":{\"field\":\"price_change_percentage_24h\"},\"y\":{\"field\":\"price_change_percentage_7d\"}},\"id\":\"4880\",\"type\":\"Scatter\"},{\"attributes\":{\"overlay\":{\"id\":\"4818\"}},\"id\":\"4816\",\"type\":\"BoxZoomTool\"},{\"attributes\":{\"fill_alpha\":{\"value\":0.2},\"fill_color\":{\"value\":\"#fc4f30\"},\"hatch_alpha\":{\"value\":0.2},\"hatch_color\":{\"value\":\"#fc4f30\"},\"line_alpha\":{\"value\":0.2},\"line_color\":{\"value\":\"#fc4f30\"},\"size\":{\"value\":5.477225575051661},\"x\":{\"field\":\"price_change_percentage_24h\"},\"y\":{\"field\":\"price_change_percentage_7d\"}},\"id\":\"4858\",\"type\":\"Scatter\"},{\"attributes\":{},\"id\":\"4817\",\"type\":\"ResetTool\"},{\"attributes\":{\"coordinates\":null,\"data_source\":{\"id\":\"5079\"},\"glyph\":{\"id\":\"5082\"},\"group\":null,\"hover_glyph\":{\"id\":\"5084\"},\"muted_glyph\":{\"id\":\"5085\"},\"nonselection_glyph\":{\"id\":\"5083\"},\"selection_glyph\":{\"id\":\"5100\"},\"view\":{\"id\":\"5087\"}},\"id\":\"5086\",\"type\":\"GlyphRenderer\"},{\"attributes\":{\"fill_alpha\":{\"value\":0.1},\"fill_color\":{\"value\":\"#fc4f30\"},\"hatch_alpha\":{\"value\":0.1},\"hatch_color\":{\"value\":\"#fc4f30\"},\"line_alpha\":{\"value\":0.1},\"line_color\":{\"value\":\"#fc4f30\"},\"size\":{\"value\":5.477225575051661},\"x\":{\"field\":\"PC1\"},\"y\":{\"field\":\"PC2\"}},\"id\":\"5105\",\"type\":\"Scatter\"},{\"attributes\":{\"source\":{\"id\":\"4875\"}},\"id\":\"4882\",\"type\":\"CDSView\"},{\"attributes\":{},\"id\":\"5102\",\"type\":\"Selection\"},{\"attributes\":{\"bottom_units\":\"screen\",\"coordinates\":null,\"fill_alpha\":0.5,\"fill_color\":\"lightgrey\",\"group\":null,\"left_units\":\"screen\",\"level\":\"overlay\",\"line_alpha\":1.0,\"line_color\":\"black\",\"line_dash\":[4,4],\"line_width\":2,\"right_units\":\"screen\",\"syncable\":false,\"top_units\":\"screen\"},\"id\":\"4818\",\"type\":\"BoxAnnotation\"},{\"attributes\":{\"label\":{\"value\":\"1\"},\"renderers\":[{\"id\":\"5108\"}]},\"id\":\"5122\",\"type\":\"LegendItem\"},{\"attributes\":{\"source\":{\"id\":\"4853\"}},\"id\":\"4860\",\"type\":\"CDSView\"},{\"attributes\":{\"coordinates\":null,\"data_source\":{\"id\":\"5101\"},\"glyph\":{\"id\":\"5104\"},\"group\":null,\"hover_glyph\":{\"id\":\"5106\"},\"muted_glyph\":{\"id\":\"5107\"},\"nonselection_glyph\":{\"id\":\"5105\"},\"selection_glyph\":{\"id\":\"5123\"},\"view\":{\"id\":\"5109\"}},\"id\":\"5108\",\"type\":\"GlyphRenderer\"},{\"attributes\":{\"coordinates\":null,\"data_source\":{\"id\":\"4853\"},\"glyph\":{\"id\":\"4856\"},\"group\":null,\"hover_glyph\":null,\"muted_glyph\":{\"id\":\"4858\"},\"nonselection_glyph\":{\"id\":\"4857\"},\"selection_glyph\":{\"id\":\"4874\"},\"view\":{\"id\":\"4860\"}},\"id\":\"4859\",\"type\":\"GlyphRenderer\"}],\"root_ids\":[\"4788\"]},\"title\":\"Bokeh Application\",\"version\":\"2.4.2\"}};\n",
       "    var render_items = [{\"docid\":\"f6765601-6718-4955-8968-4adb917ee53b\",\"root_ids\":[\"4788\"],\"roots\":{\"4788\":\"b3bb1f45-bfda-43a2-8822-1f22dd35fb9c\"}}];\n",
       "    root.Bokeh.embed.embed_items_notebook(docs_json, render_items);\n",
       "  }\n",
       "  if (root.Bokeh !== undefined && root.Bokeh.Panel !== undefined) {\n",
       "    embed_document(root);\n",
       "  } else {\n",
       "    var attempts = 0;\n",
       "    var timer = setInterval(function(root) {\n",
       "      if (root.Bokeh !== undefined && root.Bokeh.Panel !== undefined) {\n",
       "        clearInterval(timer);\n",
       "        embed_document(root);\n",
       "      } else if (document.readyState == \"complete\") {\n",
       "        attempts++;\n",
       "        if (attempts > 200) {\n",
       "          clearInterval(timer);\n",
       "          console.log(\"Bokeh: ERROR: Unable to run BokehJS code because BokehJS library is missing\");\n",
       "        }\n",
       "      }\n",
       "    }, 25, root)\n",
       "  }\n",
       "})(window);</script>"
      ],
      "text/plain": [
       ":Layout\n",
       "   .NdOverlay.I  :NdOverlay   [Predicted Clusters]\n",
       "      :Scatter   [price_change_percentage_24h]   (price_change_percentage_7d,coin_id)\n",
       "   .NdOverlay.II :NdOverlay   [Crypto PCA Clusters]\n",
       "      :Scatter   [PC1]   (PC2,coin_id)"
      ]
     },
     "execution_count": 165,
     "metadata": {
      "application/vnd.holoviews_exec.v0+json": {
       "id": "4788"
      }
     },
     "output_type": "execute_result"
    }
   ],
   "source": [
    "# Compoosite plot to contrast the clusters\n",
    "df_market_data_scaled_cluster_plot + df_market_data_pca_predictions_plot"
   ]
  },
  {
   "cell_type": "markdown",
   "metadata": {},
   "source": [
    "#### Answer the following question: After visually analyzing the cluster analysis results, what is the impact of using fewer features to cluster the data using K-Means?\n",
    "\n",
    "  * **Question:** After visually analyzing the cluster analysis results, what is the impact of using fewer features to cluster the data using K-Means?\n",
    "\n",
    "  * **Answer:** \n",
    "The plot created from the PCA clustering method appears to have less noise and is more compact compared to the original data. However, it is not easy or meaningful to compare the clusters of the original data to the clusters of the PCA transformed data as the PCA method changes the data. Despite the visual differences between the two plots, the results from the clustering method remain the same with this limited dataset. This suggests that clustering and PCA are useful techniques, but they may be even more beneficial when applied to larger and more complex datasets.\n",
    "  \n",
    "Using fewer features in K-Means clustering can negatively impact the results by reducing the accuracy and interpretability of the clusters. This happens because the algorithm relies on the features to determine the cluster membership of each data point, so fewer features means less information to work with. This can lead to clusters that are not well-separated or distinct, and a cluttered plot of the clustered data. Additionally, using fewer features can also reduce the computational efficiency of the algorithm. It is recommended to use as many relevant features as possible to achieve the best results."
   ]
  },
  {
   "cell_type": "code",
   "execution_count": null,
   "metadata": {},
   "outputs": [],
   "source": []
  }
 ],
 "metadata": {
  "kernelspec": {
   "display_name": "Python 3 (ipykernel)",
   "language": "python",
   "name": "python3"
  },
  "language_info": {
   "codemirror_mode": {
    "name": "ipython",
    "version": 3
   },
   "file_extension": ".py",
   "mimetype": "text/x-python",
   "name": "python",
   "nbconvert_exporter": "python",
   "pygments_lexer": "ipython3",
   "version": "3.9.12"
  }
 },
 "nbformat": 4,
 "nbformat_minor": 4
}
